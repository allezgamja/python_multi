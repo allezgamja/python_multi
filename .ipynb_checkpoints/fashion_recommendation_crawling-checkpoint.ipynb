{
 "cells": [
  {
   "cell_type": "code",
   "execution_count": 7,
   "metadata": {},
   "outputs": [],
   "source": [
    "from selenium import webdriver\n",
    "from bs4 import BeautifulSoup\n",
    "from urllib.request import urlretrieve\n",
    "import urllib.request\n",
    "import os\n",
    "import requests\n",
    "import time\n",
    "from random import uniform\n",
    "import pandas as pd"
   ]
  },
  {
   "cell_type": "code",
   "execution_count": 40,
   "metadata": {},
   "outputs": [
    {
     "data": {
      "text/plain": [
       "('럭키슈에뜨 배색 숄더 트임 브이넥 니트 그린.jpg', <http.client.HTTPMessage at 0x1d258d59d88>)"
      ]
     },
     "execution_count": 40,
     "metadata": {},
     "output_type": "execute_result"
    }
   ],
   "source": [
    "url = 'https://search.shopping.naver.com/search/category.nhn?cat_id=50000805'\n",
    "req = urllib.request.Request(url)\n",
    "res = urllib.request.urlopen(url).read()\n",
    "\n",
    "soup = BeautifulSoup(res, 'html.parser')\n",
    "soup = soup.find(\"div\", class_=\"img_area\")\n",
    "\n",
    "imgUrl = soup.find(\"img\")[\"src\"]\n",
    "\n",
    "urllib.request.urlretrieve(imgUrl, soup.find(\"img\")[\"alt\"]+'.jpg' )"
   ]
  },
  {
   "cell_type": "code",
   "execution_count": 25,
   "metadata": {},
   "outputs": [],
   "source": [
    "driver = webdriver.Chrome('c:/chromedriver')\n",
    "driver.implicitly_wait(3)\n",
    "#네이버 쇼핑윈도 - 니트\n",
    "driver.get('https://search.shopping.naver.com/search/category.nhn?pagingIndex=1&pagingSize=40&productSet=window&viewType=thumb&sort=rel&cat_id=50000805')"
   ]
  },
  {
   "cell_type": "code",
   "execution_count": 43,
   "metadata": {},
   "outputs": [
    {
     "data": {
      "text/plain": [
       "<selenium.webdriver.remote.webelement.WebElement (session=\"b31990641c73655b8b9377a458499022\", element=\"4eed47ed-be1d-47f9-93fc-60b973184a11\")>"
      ]
     },
     "execution_count": 43,
     "metadata": {},
     "output_type": "execute_result"
    }
   ],
   "source": [
    "link"
   ]
  },
  {
   "cell_type": "code",
   "execution_count": 42,
   "metadata": {},
   "outputs": [
    {
     "ename": "MissingSchema",
     "evalue": "Invalid URL '<selenium.webdriver.remote.webelement.WebElement (session=\"b31990641c73655b8b9377a458499022\", element=\"4eed47ed-be1d-47f9-93fc-60b973184a11\")>': No schema supplied. Perhaps you meant http://<selenium.webdriver.remote.webelement.WebElement (session=\"b31990641c73655b8b9377a458499022\", element=\"4eed47ed-be1d-47f9-93fc-60b973184a11\")>?",
     "output_type": "error",
     "traceback": [
      "\u001b[1;31m---------------------------------------------------------------------------\u001b[0m",
      "\u001b[1;31mMissingSchema\u001b[0m                             Traceback (most recent call last)",
      "\u001b[1;32m<ipython-input-42-3ec51c25c9d8>\u001b[0m in \u001b[0;36m<module>\u001b[1;34m\u001b[0m\n\u001b[0;32m      6\u001b[0m \u001b[0mlink\u001b[0m\u001b[1;33m.\u001b[0m\u001b[0mclick\u001b[0m\u001b[1;33m(\u001b[0m\u001b[1;33m)\u001b[0m\u001b[1;33m\u001b[0m\u001b[1;33m\u001b[0m\u001b[0m\n\u001b[0;32m      7\u001b[0m \u001b[1;33m\u001b[0m\u001b[0m\n\u001b[1;32m----> 8\u001b[1;33m \u001b[0mres\u001b[0m \u001b[1;33m=\u001b[0m \u001b[0mrequests\u001b[0m\u001b[1;33m.\u001b[0m\u001b[0mget\u001b[0m\u001b[1;33m(\u001b[0m\u001b[0mlink\u001b[0m\u001b[1;33m)\u001b[0m\u001b[1;33m\u001b[0m\u001b[1;33m\u001b[0m\u001b[0m\n\u001b[0m\u001b[0;32m      9\u001b[0m \u001b[0msoup\u001b[0m \u001b[1;33m=\u001b[0m \u001b[0mBeautifulSoup\u001b[0m\u001b[1;33m(\u001b[0m\u001b[0mres\u001b[0m\u001b[1;33m,\u001b[0m \u001b[1;34m'html.parser'\u001b[0m\u001b[1;33m)\u001b[0m\u001b[1;33m\u001b[0m\u001b[1;33m\u001b[0m\u001b[0m\n\u001b[0;32m     10\u001b[0m \u001b[0msoup\u001b[0m \u001b[1;33m=\u001b[0m \u001b[0msoup\u001b[0m\u001b[1;33m.\u001b[0m\u001b[0mfind\u001b[0m\u001b[1;33m(\u001b[0m\u001b[1;34m\"div\"\u001b[0m\u001b[1;33m,\u001b[0m \u001b[0mclass_\u001b[0m\u001b[1;33m=\u001b[0m\u001b[1;34m\"_396uGDX0Fi\"\u001b[0m\u001b[1;33m)\u001b[0m\u001b[1;33m\u001b[0m\u001b[1;33m\u001b[0m\u001b[0m\n",
      "\u001b[1;32m~\\Anaconda3\\lib\\site-packages\\requests\\api.py\u001b[0m in \u001b[0;36mget\u001b[1;34m(url, params, **kwargs)\u001b[0m\n\u001b[0;32m     73\u001b[0m \u001b[1;33m\u001b[0m\u001b[0m\n\u001b[0;32m     74\u001b[0m     \u001b[0mkwargs\u001b[0m\u001b[1;33m.\u001b[0m\u001b[0msetdefault\u001b[0m\u001b[1;33m(\u001b[0m\u001b[1;34m'allow_redirects'\u001b[0m\u001b[1;33m,\u001b[0m \u001b[1;32mTrue\u001b[0m\u001b[1;33m)\u001b[0m\u001b[1;33m\u001b[0m\u001b[1;33m\u001b[0m\u001b[0m\n\u001b[1;32m---> 75\u001b[1;33m     \u001b[1;32mreturn\u001b[0m \u001b[0mrequest\u001b[0m\u001b[1;33m(\u001b[0m\u001b[1;34m'get'\u001b[0m\u001b[1;33m,\u001b[0m \u001b[0murl\u001b[0m\u001b[1;33m,\u001b[0m \u001b[0mparams\u001b[0m\u001b[1;33m=\u001b[0m\u001b[0mparams\u001b[0m\u001b[1;33m,\u001b[0m \u001b[1;33m**\u001b[0m\u001b[0mkwargs\u001b[0m\u001b[1;33m)\u001b[0m\u001b[1;33m\u001b[0m\u001b[1;33m\u001b[0m\u001b[0m\n\u001b[0m\u001b[0;32m     76\u001b[0m \u001b[1;33m\u001b[0m\u001b[0m\n\u001b[0;32m     77\u001b[0m \u001b[1;33m\u001b[0m\u001b[0m\n",
      "\u001b[1;32m~\\Anaconda3\\lib\\site-packages\\requests\\api.py\u001b[0m in \u001b[0;36mrequest\u001b[1;34m(method, url, **kwargs)\u001b[0m\n\u001b[0;32m     58\u001b[0m     \u001b[1;31m# cases, and look like a memory leak in others.\u001b[0m\u001b[1;33m\u001b[0m\u001b[1;33m\u001b[0m\u001b[1;33m\u001b[0m\u001b[0m\n\u001b[0;32m     59\u001b[0m     \u001b[1;32mwith\u001b[0m \u001b[0msessions\u001b[0m\u001b[1;33m.\u001b[0m\u001b[0mSession\u001b[0m\u001b[1;33m(\u001b[0m\u001b[1;33m)\u001b[0m \u001b[1;32mas\u001b[0m \u001b[0msession\u001b[0m\u001b[1;33m:\u001b[0m\u001b[1;33m\u001b[0m\u001b[1;33m\u001b[0m\u001b[0m\n\u001b[1;32m---> 60\u001b[1;33m         \u001b[1;32mreturn\u001b[0m \u001b[0msession\u001b[0m\u001b[1;33m.\u001b[0m\u001b[0mrequest\u001b[0m\u001b[1;33m(\u001b[0m\u001b[0mmethod\u001b[0m\u001b[1;33m=\u001b[0m\u001b[0mmethod\u001b[0m\u001b[1;33m,\u001b[0m \u001b[0murl\u001b[0m\u001b[1;33m=\u001b[0m\u001b[0murl\u001b[0m\u001b[1;33m,\u001b[0m \u001b[1;33m**\u001b[0m\u001b[0mkwargs\u001b[0m\u001b[1;33m)\u001b[0m\u001b[1;33m\u001b[0m\u001b[1;33m\u001b[0m\u001b[0m\n\u001b[0m\u001b[0;32m     61\u001b[0m \u001b[1;33m\u001b[0m\u001b[0m\n\u001b[0;32m     62\u001b[0m \u001b[1;33m\u001b[0m\u001b[0m\n",
      "\u001b[1;32m~\\Anaconda3\\lib\\site-packages\\requests\\sessions.py\u001b[0m in \u001b[0;36mrequest\u001b[1;34m(self, method, url, params, data, headers, cookies, files, auth, timeout, allow_redirects, proxies, hooks, stream, verify, cert, json)\u001b[0m\n\u001b[0;32m    517\u001b[0m             \u001b[0mhooks\u001b[0m\u001b[1;33m=\u001b[0m\u001b[0mhooks\u001b[0m\u001b[1;33m,\u001b[0m\u001b[1;33m\u001b[0m\u001b[1;33m\u001b[0m\u001b[0m\n\u001b[0;32m    518\u001b[0m         )\n\u001b[1;32m--> 519\u001b[1;33m         \u001b[0mprep\u001b[0m \u001b[1;33m=\u001b[0m \u001b[0mself\u001b[0m\u001b[1;33m.\u001b[0m\u001b[0mprepare_request\u001b[0m\u001b[1;33m(\u001b[0m\u001b[0mreq\u001b[0m\u001b[1;33m)\u001b[0m\u001b[1;33m\u001b[0m\u001b[1;33m\u001b[0m\u001b[0m\n\u001b[0m\u001b[0;32m    520\u001b[0m \u001b[1;33m\u001b[0m\u001b[0m\n\u001b[0;32m    521\u001b[0m         \u001b[0mproxies\u001b[0m \u001b[1;33m=\u001b[0m \u001b[0mproxies\u001b[0m \u001b[1;32mor\u001b[0m \u001b[1;33m{\u001b[0m\u001b[1;33m}\u001b[0m\u001b[1;33m\u001b[0m\u001b[1;33m\u001b[0m\u001b[0m\n",
      "\u001b[1;32m~\\Anaconda3\\lib\\site-packages\\requests\\sessions.py\u001b[0m in \u001b[0;36mprepare_request\u001b[1;34m(self, request)\u001b[0m\n\u001b[0;32m    460\u001b[0m             \u001b[0mauth\u001b[0m\u001b[1;33m=\u001b[0m\u001b[0mmerge_setting\u001b[0m\u001b[1;33m(\u001b[0m\u001b[0mauth\u001b[0m\u001b[1;33m,\u001b[0m \u001b[0mself\u001b[0m\u001b[1;33m.\u001b[0m\u001b[0mauth\u001b[0m\u001b[1;33m)\u001b[0m\u001b[1;33m,\u001b[0m\u001b[1;33m\u001b[0m\u001b[1;33m\u001b[0m\u001b[0m\n\u001b[0;32m    461\u001b[0m             \u001b[0mcookies\u001b[0m\u001b[1;33m=\u001b[0m\u001b[0mmerged_cookies\u001b[0m\u001b[1;33m,\u001b[0m\u001b[1;33m\u001b[0m\u001b[1;33m\u001b[0m\u001b[0m\n\u001b[1;32m--> 462\u001b[1;33m             \u001b[0mhooks\u001b[0m\u001b[1;33m=\u001b[0m\u001b[0mmerge_hooks\u001b[0m\u001b[1;33m(\u001b[0m\u001b[0mrequest\u001b[0m\u001b[1;33m.\u001b[0m\u001b[0mhooks\u001b[0m\u001b[1;33m,\u001b[0m \u001b[0mself\u001b[0m\u001b[1;33m.\u001b[0m\u001b[0mhooks\u001b[0m\u001b[1;33m)\u001b[0m\u001b[1;33m,\u001b[0m\u001b[1;33m\u001b[0m\u001b[1;33m\u001b[0m\u001b[0m\n\u001b[0m\u001b[0;32m    463\u001b[0m         )\n\u001b[0;32m    464\u001b[0m         \u001b[1;32mreturn\u001b[0m \u001b[0mp\u001b[0m\u001b[1;33m\u001b[0m\u001b[1;33m\u001b[0m\u001b[0m\n",
      "\u001b[1;32m~\\Anaconda3\\lib\\site-packages\\requests\\models.py\u001b[0m in \u001b[0;36mprepare\u001b[1;34m(self, method, url, headers, files, data, params, auth, cookies, hooks, json)\u001b[0m\n\u001b[0;32m    311\u001b[0m \u001b[1;33m\u001b[0m\u001b[0m\n\u001b[0;32m    312\u001b[0m         \u001b[0mself\u001b[0m\u001b[1;33m.\u001b[0m\u001b[0mprepare_method\u001b[0m\u001b[1;33m(\u001b[0m\u001b[0mmethod\u001b[0m\u001b[1;33m)\u001b[0m\u001b[1;33m\u001b[0m\u001b[1;33m\u001b[0m\u001b[0m\n\u001b[1;32m--> 313\u001b[1;33m         \u001b[0mself\u001b[0m\u001b[1;33m.\u001b[0m\u001b[0mprepare_url\u001b[0m\u001b[1;33m(\u001b[0m\u001b[0murl\u001b[0m\u001b[1;33m,\u001b[0m \u001b[0mparams\u001b[0m\u001b[1;33m)\u001b[0m\u001b[1;33m\u001b[0m\u001b[1;33m\u001b[0m\u001b[0m\n\u001b[0m\u001b[0;32m    314\u001b[0m         \u001b[0mself\u001b[0m\u001b[1;33m.\u001b[0m\u001b[0mprepare_headers\u001b[0m\u001b[1;33m(\u001b[0m\u001b[0mheaders\u001b[0m\u001b[1;33m)\u001b[0m\u001b[1;33m\u001b[0m\u001b[1;33m\u001b[0m\u001b[0m\n\u001b[0;32m    315\u001b[0m         \u001b[0mself\u001b[0m\u001b[1;33m.\u001b[0m\u001b[0mprepare_cookies\u001b[0m\u001b[1;33m(\u001b[0m\u001b[0mcookies\u001b[0m\u001b[1;33m)\u001b[0m\u001b[1;33m\u001b[0m\u001b[1;33m\u001b[0m\u001b[0m\n",
      "\u001b[1;32m~\\Anaconda3\\lib\\site-packages\\requests\\models.py\u001b[0m in \u001b[0;36mprepare_url\u001b[1;34m(self, url, params)\u001b[0m\n\u001b[0;32m    385\u001b[0m             \u001b[0merror\u001b[0m \u001b[1;33m=\u001b[0m \u001b[0merror\u001b[0m\u001b[1;33m.\u001b[0m\u001b[0mformat\u001b[0m\u001b[1;33m(\u001b[0m\u001b[0mto_native_string\u001b[0m\u001b[1;33m(\u001b[0m\u001b[0murl\u001b[0m\u001b[1;33m,\u001b[0m \u001b[1;34m'utf8'\u001b[0m\u001b[1;33m)\u001b[0m\u001b[1;33m)\u001b[0m\u001b[1;33m\u001b[0m\u001b[1;33m\u001b[0m\u001b[0m\n\u001b[0;32m    386\u001b[0m \u001b[1;33m\u001b[0m\u001b[0m\n\u001b[1;32m--> 387\u001b[1;33m             \u001b[1;32mraise\u001b[0m \u001b[0mMissingSchema\u001b[0m\u001b[1;33m(\u001b[0m\u001b[0merror\u001b[0m\u001b[1;33m)\u001b[0m\u001b[1;33m\u001b[0m\u001b[1;33m\u001b[0m\u001b[0m\n\u001b[0m\u001b[0;32m    388\u001b[0m \u001b[1;33m\u001b[0m\u001b[0m\n\u001b[0;32m    389\u001b[0m         \u001b[1;32mif\u001b[0m \u001b[1;32mnot\u001b[0m \u001b[0mhost\u001b[0m\u001b[1;33m:\u001b[0m\u001b[1;33m\u001b[0m\u001b[1;33m\u001b[0m\u001b[0m\n",
      "\u001b[1;31mMissingSchema\u001b[0m: Invalid URL '<selenium.webdriver.remote.webelement.WebElement (session=\"b31990641c73655b8b9377a458499022\", element=\"4eed47ed-be1d-47f9-93fc-60b973184a11\")>': No schema supplied. Perhaps you meant http://<selenium.webdriver.remote.webelement.WebElement (session=\"b31990641c73655b8b9377a458499022\", element=\"4eed47ed-be1d-47f9-93fc-60b973184a11\")>?"
     ]
    }
   ],
   "source": [
    "# 다음 페이지 클릭하며 이미지 스크래핑\n",
    "link_list = []\n",
    "\n",
    "html = driver.page_source\n",
    "soup = BeautifulSoup(res, 'html.parser')\n",
    "link = driver.find_element_by_xpath('//*[@id=\"_search_list\"]/div[1]/ul[1]/li[1]/div[1]/a')\n",
    "link.click()\n",
    "\n",
    "soup = soup.find(\"div\", class_=\"_396uGDX0Fi\")\n",
    "imgUrl = soup.find(\"img\")[\"data-src\"]\n",
    "urllib.request.urlretrieve(imgUrl, soup.find(\"h3\")[\"_2IA5sp7BRM\"]+'.jpg' )\n",
    "\n",
    "# 1. 1페이지의 첫 이미지 클릭하여 저장\n",
    "# 2. 1페이지에 있는 이미지 모두 저장\n",
    "# 3. 1~5페이지에 있는 이미지 저장\n",
    "\n",
    "# for scr in range(5):\n",
    "#     html = driver.page_source\n",
    "#     soup = BeautifulSoup(html, 'html.parser')\n",
    "#     links = soup.select('div._1aNmedx3I0 > ul._3KH4iCkMJ_ > li > div > a')\n",
    "#     f = uniform(2.0, 2.5)\n",
    "    \n",
    "#     last_height = driver.execute_script(\"return document.body.scrollHeight\")\n",
    "    \n",
    "#     driver.execute_script(\"window.scrollTo(0, document.body.scrollHeight);\")\n",
    "#     time.sleep(f)\n",
    "#     driver.execute_script(\"window.scrollTo(0, document.body.scrollHeight);\")\n",
    "#     time.sleep(f)\n",
    "    \n",
    "    \n",
    "#     new_height = driver.execute_script(\"return document.body.scrollHeight\")\n",
    "    \n",
    "#     for link in links:\n",
    "#         link_list.append('https://shopping.naver.com'+link['href'])\n",
    "        \n",
    "    \n",
    "#     if new_height == last_height:\n",
    "\n",
    "#             # try again (can be removed)\n",
    "#             driver.execute_script(\"window.scrollTo(0, document.body.scrollHeight);\")\n",
    "\n",
    "#             # Wait to load page\n",
    "#             time.sleep(f)\n",
    "\n",
    "#             # Calculate new scroll height and compare with last scroll height\n",
    "#             new_height = driver.execute_script(\"return document.body.scrollHeight\")\n",
    "\n",
    "#             # check if the page height has remained the same\n",
    "#             if new_height == last_height:\n",
    "#                 # if so, you are done\n",
    "#                 break\n",
    "#             # if not, move on to the next loop\n",
    "#             else:\n",
    "#                 last_height = new_height\n",
    "#                 continue"
   ]
  },
  {
   "cell_type": "code",
   "execution_count": 5,
   "metadata": {},
   "outputs": [
    {
     "data": {
      "text/plain": [
       "[<span class=\"mask\"></span>,\n",
       " <span class=\"mask\"></span>,\n",
       " <span class=\"mask\"></span>,\n",
       " <span class=\"mask\"></span>,\n",
       " <span class=\"mask\"></span>,\n",
       " <span class=\"mask\"></span>,\n",
       " <span class=\"mask\"></span>,\n",
       " <span class=\"mask\"></span>,\n",
       " <span class=\"mask\"></span>,\n",
       " <span class=\"mask\"></span>,\n",
       " <span class=\"mask\"></span>,\n",
       " <span class=\"mask\"></span>,\n",
       " <span class=\"mask\"></span>,\n",
       " <span class=\"mask\"></span>,\n",
       " <span class=\"mask\"></span>,\n",
       " <span class=\"mask\"></span>,\n",
       " <span class=\"mask\"></span>,\n",
       " <span class=\"mask\"></span>,\n",
       " <span class=\"mask\"></span>,\n",
       " <span class=\"mask\"></span>,\n",
       " <span class=\"mask\"></span>,\n",
       " <span class=\"mask\"></span>,\n",
       " <span class=\"mask\"></span>,\n",
       " <span class=\"mask\"></span>,\n",
       " <span class=\"mask\"></span>,\n",
       " <span class=\"mask\"></span>,\n",
       " <span class=\"mask\"></span>,\n",
       " <span class=\"mask\"></span>,\n",
       " <span class=\"mask\"></span>,\n",
       " <span class=\"mask\"></span>,\n",
       " <span class=\"mask\"></span>,\n",
       " <span class=\"mask\"></span>,\n",
       " <span class=\"mask\"></span>,\n",
       " <span class=\"mask\"></span>,\n",
       " <span class=\"mask\"></span>,\n",
       " <span class=\"mask\"></span>,\n",
       " <span class=\"mask\"></span>,\n",
       " <span class=\"mask\"></span>,\n",
       " <span class=\"mask\"></span>,\n",
       " <span class=\"mask\"></span>,\n",
       " <span class=\"mask\"></span>,\n",
       " <span class=\"mask\"></span>,\n",
       " <span class=\"mask\"></span>,\n",
       " <span class=\"mask\"></span>,\n",
       " <span class=\"mask\"></span>,\n",
       " <span class=\"mask\"></span>,\n",
       " <span class=\"mask\"></span>,\n",
       " <span class=\"mask\"></span>,\n",
       " <span class=\"mask\"></span>,\n",
       " <span class=\"mask\"></span>,\n",
       " <span class=\"mask\"></span>]"
      ]
     },
     "execution_count": 5,
     "metadata": {},
     "output_type": "execute_result"
    }
   ],
   "source": [
    "links"
   ]
  },
  {
   "cell_type": "code",
   "execution_count": null,
   "metadata": {},
   "outputs": [],
   "source": [
    "link_list"
   ]
  },
  {
   "cell_type": "code",
   "execution_count": null,
   "metadata": {},
   "outputs": [],
   "source": [
    "link_list = list(set(link_list))"
   ]
  },
  {
   "cell_type": "code",
   "execution_count": null,
   "metadata": {},
   "outputs": [],
   "source": [
    "# csv 파일로 저장\n",
    "import pandas as pd\n",
    "results = pd.DataFrame(link_list, columns=['link_addr'])\n",
    "results.to_csv('./link_addr2.csv', header=False) #, mode='a', header=False)"
   ]
  },
  {
   "cell_type": "code",
   "execution_count": null,
   "metadata": {},
   "outputs": [],
   "source": [
    "# csv 파일 가져오기\n",
    "import csv\n",
    "f = open('./link_addr2.csv','rt')\n",
    "link_addr_file = csv.reader(f)"
   ]
  },
  {
   "cell_type": "code",
   "execution_count": null,
   "metadata": {},
   "outputs": [],
   "source": [
    "\n",
    "link_list = []\n",
    "for row in link_addr_file :\n",
    "    link_list.append(row[1])"
   ]
  },
  {
   "cell_type": "markdown",
   "metadata": {},
   "source": [
    "# 가져올 카테고리 명을 입력하세요"
   ]
  },
  {
   "cell_type": "code",
   "execution_count": null,
   "metadata": {},
   "outputs": [],
   "source": [
    "#상세 페이지 들어가서 원하는 정보 저장\n",
    "i = 0\n",
    "\n",
    "while i < len(link_list):\n",
    "    text_list = []\n",
    "    \n",
    "    driver.get(link_list[i])\n",
    "    print(link_list[i])\n",
    "    \n",
    "    f = uniform(1.5, 1.7)\n",
    "    time.sleep(f)\n",
    "    \n",
    "    a = \"\"\n",
    "    a = link_list[i].split(\"/products/\")\n",
    "    a[1][:10]\n",
    "    \n",
    "    i += 1\n",
    "        \n",
    "    html = driver.page_source\n",
    "    soup = BeautifulSoup(html, 'html.parser')\n",
    "    try:\n",
    "        images = soup.select('div._3utq7rRVBL > div.editor_wrap > div > div > div.se_component_wrap > div.se_component > div.se_sectionArea > div.se_editArea > div.se_viewArea > a > img')\n",
    "        name = soup.find('h3','_2IA5sp7BRM').get_text()\n",
    "        price = soup.find('span','_1dpDPg-OQb').get_text()\n",
    "        tag=soup.find('div','_24FKuaBdoK').get_text()\n",
    "        info = [soup.find_all('th','_15qeGNn6Dt')[n].string for n in range(0,20)]\n",
    "        detail = [soup.find_all('td','jvlKiI0U_y')[n].string for n in range(0,20)]\n",
    "        texts = soup.find_all('p', 'se_textarea')\n",
    "\n",
    "\n",
    "        if not os.path.isdir(a[1][:10]):\n",
    "            os.mkdir(a[1][:10])     \n",
    "\n",
    "        for text in texts:\n",
    "            text_list.append(text.get_text().strip().replace(u'\\xa0', u' '))\n",
    "            text_list2 = [zz for zz in text_list if zz]\n",
    "\n",
    "        # 긁어올 카테고리 명을 입력하세요     \n",
    "        data_1 = ({'category':'여성/하의/팬츠', 'name': [name], 'price': [price],'tag':[tag], 'size':[text_list2]})\n",
    "        df1 = pd.DataFrame(data_1)\n",
    "\n",
    "        data_2 = [detail]\n",
    "        df2 = pd.DataFrame(data_2, columns = info)\n",
    "\n",
    "        df3 = pd.concat([df1,df2], axis=1)\n",
    "\n",
    "        df3.to_csv(\".\\\\\"+a[1][:10]+\"\\\\csv_\"+a[1][:10]+\".csv\", index = True, encoding='utf-8')\n",
    "\n",
    "        for image in images:\n",
    "\n",
    "            src_page = requests.get(image['src'], headers={\"Referer\":\"https://www.naver.com/\"})\n",
    "            src_image = src_page.content\n",
    "            with open(\".\\\\\"+a[1][:10]+\"\\\\img_\"+a[1][:10]+'_'+str(images.index(image))+\".png\", \"wb\") as downfile:\n",
    "                downfile.write(src_image)\n",
    "            f = uniform(0.4, 0.6)    \n",
    "            time.sleep(f)\n",
    "\n",
    "    except:\n",
    "        print(\"상품정보 가져오기 오류발생\")\n",
    "        pass"
   ]
  },
  {
   "cell_type": "code",
   "execution_count": null,
   "metadata": {},
   "outputs": [],
   "source": [
    "\n",
    "# 드라이버 종료\n",
    "driver.close()"
   ]
  },
  {
   "cell_type": "code",
   "execution_count": null,
   "metadata": {},
   "outputs": [],
   "source": []
  },
  {
   "cell_type": "code",
   "execution_count": null,
   "metadata": {},
   "outputs": [],
   "source": []
  },
  {
   "cell_type": "code",
   "execution_count": null,
   "metadata": {},
   "outputs": [],
   "source": []
  },
  {
   "cell_type": "code",
   "execution_count": null,
   "metadata": {},
   "outputs": [],
   "source": []
  },
  {
   "cell_type": "code",
   "execution_count": null,
   "metadata": {},
   "outputs": [],
   "source": []
  }
 ],
 "metadata": {
  "kernelspec": {
   "display_name": "Python 3",
   "language": "python",
   "name": "python3"
  },
  "language_info": {
   "codemirror_mode": {
    "name": "ipython",
    "version": 3
   },
   "file_extension": ".py",
   "mimetype": "text/x-python",
   "name": "python",
   "nbconvert_exporter": "python",
   "pygments_lexer": "ipython3",
   "version": "3.7.4"
  }
 },
 "nbformat": 4,
 "nbformat_minor": 2
}
