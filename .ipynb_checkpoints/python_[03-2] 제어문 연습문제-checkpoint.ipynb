{
 "cells": [
  {
   "cell_type": "markdown",
   "metadata": {},
   "source": [
    "## 123456을 모두 한자리로 분리한 후 분리된 수의 합을 구하여 출력하시오"
   ]
  },
  {
   "cell_type": "code",
   "execution_count": 42,
   "metadata": {},
   "outputs": [
    {
     "name": "stdout",
     "output_type": "stream",
     "text": [
      "6\n",
      "5\n",
      "4\n",
      "3\n",
      "2\n",
      "1\n",
      "21\n"
     ]
    }
   ],
   "source": [
    "# 10으로 나눈 나머지로 분리 / 10으로 나눈 몫이 다시 처음 변수가 되어 10으로 나누고 나머지 구하기 / 구한 값들 다 더하기\n",
    "\n",
    "number = 123456\n",
    "total = 0\n",
    "for i in range(6):                 # 사실 함수 안에는 i가 없지만, for문을 만들기 위해 i 써준다. 여섯번 반복해야 해서 range는 6. \n",
    "    split_number = number % 10     # 10으로 나눈 값의 나머지 -> 1의자리 분리\n",
    "    number = number // 10          # 10으로 나눈 값의 몫 -> 1의자리를 떼어냄으로써 10의자리를 1의자리로 만듦\n",
    "    print(split_number)\n",
    "    total = total + split_number   # total에 split_number를 차례로 더한 값들을 담아줌 \n",
    "    pass\n",
    "print(total)"
   ]
  },
  {
   "cell_type": "markdown",
   "metadata": {},
   "source": [
    "## 1부터 10까지의 숫자 중 짝수의 합을 구하여 출력하시오 (for 사용)"
   ]
  },
  {
   "cell_type": "code",
   "execution_count": 9,
   "metadata": {
    "scrolled": true
   },
   "outputs": [
    {
     "name": "stdout",
     "output_type": "stream",
     "text": [
      "30\n"
     ]
    }
   ],
   "source": [
    "sum = 0\n",
    "for i in range(10):\n",
    "    if (i+1) % 2 == 0:\n",
    "        sum = sum + (i+1)     # 대입연산자는 오른쪽 연산이 먼저 실행됨\n",
    "   \n",
    "    pass\n",
    "\n",
    "print(sum)"
   ]
  },
  {
   "cell_type": "markdown",
   "metadata": {},
   "source": [
    "## 리스트 내 값을 내림차순으로 정렬해라"
   ]
  },
  {
   "cell_type": "code",
   "execution_count": null,
   "metadata": {},
   "outputs": [],
   "source": [
    "# (1,2) (1,3)...(1,10) 각각 비교하여 큰 값이 a[0]\n",
    "# (2,3) (2,4)...(2,10) //  a[1]\n",
    "\n",
    "\n",
    "a = [23,87,1,92,34,54,20,19,3,90]\n",
    "print(a)\n",
    "for ele in a:\n",
    "    print(ele)\n",
    "len(a)\n",
    "\n",
    "for i in range(len(a)-1):\n",
    "    for j in range(i+1, len(a)):\n",
    "        if a[i] < a[j]:\n",
    "            temp = a[i]\n",
    "            a[i] = a[j]\n",
    "            a[j] = temp\n",
    "        pass\n",
    "print(a)"
   ]
  },
  {
   "cell_type": "markdown",
   "metadata": {},
   "source": [
    "## 구구단"
   ]
  },
  {
   "cell_type": "code",
   "execution_count": 25,
   "metadata": {},
   "outputs": [
    {
     "name": "stdout",
     "output_type": "stream",
     "text": [
      "2X1=2\n",
      "2X2=4\n",
      "2X3=6\n",
      "2X4=8\n",
      "2X5=10\n",
      "2X6=12\n",
      "2X7=14\n",
      "2X8=16\n",
      "2X9=18\n"
     ]
    }
   ],
   "source": [
    "# 2단을 작성하시오\n",
    "\n",
    "# print(\"{}X{}={}\".format(2,1,2))\n",
    "for i in range(9):\n",
    "    print(\"2X{}={:>}\".format(i+1,(i+1)*2))\n",
    "    # :> 는 단 맞춰주기(오른쪽 정렬)\n",
    "    pass"
   ]
  },
  {
   "cell_type": "code",
   "execution_count": 22,
   "metadata": {
    "scrolled": true
   },
   "outputs": [
    {
     "name": "stdout",
     "output_type": "stream",
     "text": [
      "2X1=2\n",
      "2X2=4\n",
      "2X3=6\n",
      "2X4=8\n",
      "2X5=10\n",
      "2X6=12\n",
      "2X7=14\n",
      "2X8=16\n",
      "2X9=18\n",
      "\n",
      "3X1=3\n",
      "3X2=6\n",
      "3X3=9\n",
      "3X4=12\n",
      "3X5=15\n",
      "3X6=18\n",
      "3X7=21\n",
      "3X8=24\n",
      "3X9=27\n",
      "\n",
      "4X1=4\n",
      "4X2=8\n",
      "4X3=12\n",
      "4X4=16\n",
      "4X5=20\n",
      "4X6=24\n",
      "4X7=28\n",
      "4X8=32\n",
      "4X9=36\n",
      "\n",
      "5X1=5\n",
      "5X2=10\n",
      "5X3=15\n",
      "5X4=20\n",
      "5X5=25\n",
      "5X6=30\n",
      "5X7=35\n",
      "5X8=40\n",
      "5X9=45\n",
      "\n",
      "6X1=6\n",
      "6X2=12\n",
      "6X3=18\n",
      "6X4=24\n",
      "6X5=30\n",
      "6X6=36\n",
      "6X7=42\n",
      "6X8=48\n",
      "6X9=54\n",
      "\n",
      "7X1=7\n",
      "7X2=14\n",
      "7X3=21\n",
      "7X4=28\n",
      "7X5=35\n",
      "7X6=42\n",
      "7X7=49\n",
      "7X8=56\n",
      "7X9=63\n",
      "\n",
      "8X1=8\n",
      "8X2=16\n",
      "8X3=24\n",
      "8X4=32\n",
      "8X5=40\n",
      "8X6=48\n",
      "8X7=56\n",
      "8X8=64\n",
      "8X9=72\n",
      "\n",
      "9X1=9\n",
      "9X2=18\n",
      "9X3=27\n",
      "9X4=36\n",
      "9X5=45\n",
      "9X6=54\n",
      "9X7=63\n",
      "9X8=72\n",
      "9X9=81\n",
      "\n"
     ]
    }
   ],
   "source": [
    "# 2단~9단을 작성하시오\n",
    "\n",
    "for dan in range(2,10):\n",
    "    for i in range(1,10):\n",
    "        print(\"{}X{}={}\".format(dan,i,i*dan))\n",
    "        pass\n",
    "    print()\n",
    "    pass\n"
   ]
  },
  {
   "cell_type": "code",
   "execution_count": 27,
   "metadata": {},
   "outputs": [
    {
     "name": "stdout",
     "output_type": "stream",
     "text": [
      "1 2 3 4 5 6 7 8 9 "
     ]
    }
   ],
   "source": [
    "for i in range(1,10):\n",
    "    print(i, end=\" \")   "
   ]
  },
  {
   "cell_type": "markdown",
   "metadata": {},
   "source": [
    "## 윤년"
   ]
  },
  {
   "cell_type": "code",
   "execution_count": 35,
   "metadata": {
    "scrolled": true
   },
   "outputs": [
    {
     "name": "stdout",
     "output_type": "stream",
     "text": [
      "평년입니다!\n"
     ]
    }
   ],
   "source": [
    "# 2028년은 윤년인가?\n",
    "# 윤년의 기준: 4나 400으로 나누어 떨어지면 윤년, 100으로 나누어 떨어지면 평년\n",
    "# 400으로 나누어 떨어지는 연 + 4로 나누어 떨어지는 연 중 100으로 나누어 떨어지는 값을 뺀 연\n",
    "\n",
    "year = 2028\n",
    "if year % 400 == 0 or (year % 4 == 0 and year % 100 != 0):\n",
    "    print('윤년입니다!')\n",
    "else:\n",
    "    print('평년입니다!')\n",
    "\n",
    "\n",
    "# 4로 나누어 떨어지면 윤년\n",
    "# 100으로 나누어 떨어지면 평년\n",
    "# 400으로 나누어 떨어지는 해는 윤년"
   ]
  },
  {
   "cell_type": "code",
   "execution_count": 40,
   "metadata": {
    "scrolled": true
   },
   "outputs": [
    {
     "name": "stdout",
     "output_type": "stream",
     "text": [
      "2020 년은 윤년입니다!\n",
      "2024 년은 윤년입니다!\n",
      "2028 년은 윤년입니다!\n",
      "2032 년은 윤년입니다!\n",
      "2036 년은 윤년입니다!\n",
      "2040 년은 윤년입니다!\n",
      "2044 년은 윤년입니다!\n",
      "2048 년은 윤년입니다!\n"
     ]
    }
   ],
   "source": [
    "# 2020년부터 2050년 사이의 윤년여부 출력\n",
    "\n",
    "for i in range(2020,2051):\n",
    "    year = i\n",
    "    if year%400 == 0 or (year%4==0 and year%100!=0):\n",
    "        print('{} is leap year'.format(year))"
   ]
  },
  {
   "cell_type": "markdown",
   "metadata": {},
   "source": [
    "## 점수 등급매기기"
   ]
  },
  {
   "cell_type": "code",
   "execution_count": 68,
   "metadata": {},
   "outputs": [
    {
     "name": "stdout",
     "output_type": "stream",
     "text": [
      "B\n"
     ]
    }
   ],
   "source": [
    "# score = 82일 때 학점을 출력하시오\n",
    "# 90 이상 A, 80 이상 B, 70 이상 C, 60 이상 D, F-> if-elif\n",
    "\n",
    "score = 82\n",
    "grade = ''\n",
    "if score>=90:\n",
    "    grade = 'A'\n",
    "elif score>=80:\n",
    "    grade = 'B'\n",
    "elif score>=70:\n",
    "    grade = 'C'\n",
    "elif score>=60:\n",
    "    grade = 'D'\n",
    "else:\n",
    "    grade = 'F'\n",
    "\n",
    "print(grade)"
   ]
  },
  {
   "cell_type": "markdown",
   "metadata": {},
   "source": [
    "## 소수판별"
   ]
  },
  {
   "cell_type": "code",
   "execution_count": 58,
   "metadata": {},
   "outputs": [
    {
     "name": "stdout",
     "output_type": "stream",
     "text": [
      "소수닷!\n"
     ]
    }
   ],
   "source": [
    "# 5가 소수인지 판단하여 출력\n",
    "# 소수는 1과 자기자신으로만 나누어 떨어진다. 즉, 나누어떨어지는 경우가 딱 2개\n",
    "\n",
    "number = 5\n",
    "count = 0\n",
    "for i in range(1, number+1):\n",
    "    if number % i == 0:\n",
    "        count = count +1\n",
    "        pass\n",
    "    pass\n",
    "\n",
    "if count==2:\n",
    "    print('{} is prime number'.format(number))"
   ]
  },
  {
   "cell_type": "code",
   "execution_count": 70,
   "metadata": {},
   "outputs": [
    {
     "name": "stdout",
     "output_type": "stream",
     "text": [
      "2is prime number\n",
      "3is prime number\n",
      "5is prime number\n",
      "7is prime number\n"
     ]
    }
   ],
   "source": [
    "# 2~10 중 소수인 것을 뽑아서 출력\n",
    "\n",
    "for i in range(2,11):\n",
    "    count = 0\n",
    "    for j in range(1, i+1):\n",
    "        if i % j == 0:\n",
    "            count = count + 1\n",
    "            pass\n",
    "        pass\n",
    "    if count ==2:\n",
    "        print('{}is prime number'.format(i))\n",
    "\n",
    "\n"
   ]
  },
  {
   "cell_type": "code",
   "execution_count": 1,
   "metadata": {},
   "outputs": [
    {
     "name": "stdout",
     "output_type": "stream",
     "text": [
      "1009 is prime number\n",
      "1013 is prime number\n",
      "1019 is prime number\n",
      "1021 is prime number\n",
      "1031 is prime number\n",
      "1033 is prime number\n",
      "1039 is prime number\n",
      "1049 is prime number\n",
      "1051 is prime number\n",
      "1061 is prime number\n",
      "1063 is prime number\n",
      "1069 is prime number\n",
      "1087 is prime number\n",
      "1091 is prime number\n",
      "1093 is prime number\n",
      "1097 is prime number\n",
      "1103 is prime number\n",
      "1109 is prime number\n",
      "1117 is prime number\n",
      "1123 is prime number\n",
      "1129 is prime number\n",
      "1151 is prime number\n",
      "1153 is prime number\n",
      "1163 is prime number\n",
      "1171 is prime number\n",
      "1181 is prime number\n",
      "1187 is prime number\n",
      "1193 is prime number\n",
      "1201 is prime number\n",
      "1213 is prime number\n",
      "1217 is prime number\n",
      "1223 is prime number\n",
      "1229 is prime number\n",
      "1231 is prime number\n",
      "1237 is prime number\n",
      "1249 is prime number\n",
      "36\n"
     ]
    }
   ],
   "source": [
    "# 1000~1250 사이의 소수를 찾아 출력하고 개수를 세어라\n",
    "# n이라는 숫자의 소수여부 판별하는 기준? 1~n까지의 수로 나누어서 떨어지는 경우가 2개인 것을 찾아라\n",
    "\n",
    "total = 0    # total 변수는 for 바깥에 있어야 한다.\n",
    "for k in range(1000, 1251):\n",
    "    number = k\n",
    "    count = 0\n",
    "    for i in range(1, number+1):\n",
    "        if number % i == 0:\n",
    "            count = count+1                 # count : 1000을 딱 나누어 떨어지게 하는 수 \n",
    "            pass\n",
    "        pass\n",
    "    \n",
    "    if count==2:\n",
    "        print('{} is prime number'.format(number))    # {}: place holder\n",
    "        total = total + 1\n",
    "        pass\n",
    "    pass\n",
    "print(total)"
   ]
  },
  {
   "cell_type": "markdown",
   "metadata": {},
   "source": [
    "## 달력 만들기"
   ]
  },
  {
   "cell_type": "code",
   "execution_count": 146,
   "metadata": {
    "scrolled": false
   },
   "outputs": [
    {
     "name": "stdout",
     "output_type": "stream",
     "text": [
      "2019년 12월\n",
      "일\t월\t화\t수\t목\t금\t토\n",
      "\t\t\t\t\t1\t2\t\n",
      "3\t4\t5\t6\t7\t8\t9\t\n",
      "10\t11\t12\t13\t14\t15\t16\t\n",
      "17\t18\t19\t20\t21\t22\t23\t\n",
      "24\t25\t26\t27\t28\t29\t30\t\n",
      "31\t"
     ]
    }
   ],
   "source": [
    "# 2019년 9월 달력 만들기\n",
    "\n",
    "print('2019년 12월')\n",
    "print('일\\t월\\t화\\t수\\t목\\t금\\t토')\n",
    "# print('1\\t2\\t3\\t......')   이 반복문, 문제점들을 어떻게 하나하나씩 제거해서 코드로 만들 것인가?\n",
    "# print('8\\t9\\t10\\t.....')\n",
    "# print('15\\t16\\t17\\t.....')\n",
    "# print('22\\t23\\t24\\t.....')\n",
    "# print('29\\t30\\)\n",
    "\n",
    "        \n",
    "# sample\n",
    "month = 7\n",
    "space = 3\n",
    "last_day = 31\n",
    "print('2019년 {}월\\n'.format(month))\n",
    "print('일\\t월\\t화\\t수\\t목\\t금\\t토')\n",
    "for i in range(space):\n",
    "    print('\\t',end='')                   \n",
    "    pass\n",
    "for i in range(1,last_day+1):\n",
    "    print('{}\\t'.format(i), end='')\n",
    "    if (i+space)%7 == 0:\n",
    "        print()\n",
    "    "
   ]
  },
  {
   "cell_type": "code",
   "execution_count": 123,
   "metadata": {},
   "outputs": [
    {
     "name": "stdout",
     "output_type": "stream",
     "text": [
      "\n"
     ]
    }
   ],
   "source": [
    "## 문제 하나하나씩 해결하기 - 제일 쉬운 9월부터, 단 나누기, 요일 공백 만들기\n",
    "## 9월 1일부터 30일까지 7일 단위로 끊어서 나열하기\n",
    "print('2019년 9월')\n",
    "print('일\\t월\\t화\\t수\\t목\\t금\\t토')\n",
    "for i in range(1,31):\n",
    "    print('{}\\t'.format(i), end='')\n",
    "    if(i%7==0):                       # 7 단위마다 다음 줄로 넘겨주기\n",
    "        print()                      "
   ]
  },
  {
   "cell_type": "code",
   "execution_count": 142,
   "metadata": {},
   "outputs": [
    {
     "name": "stdout",
     "output_type": "stream",
     "text": [
      "2019년 11월\n",
      "일\t월\t화\t수\t목\t금\t토\n",
      "\t\t\t1\t2\t3\t4\t\n",
      "5\t6\t7\t8\t9\t10\t11\t\n",
      "12\t13\t14\t15\t16\t17\t18\t\n",
      "19\t20\t21\t22\t23\t24\t25\t\n",
      "26\t27\t28\t29\t30\t"
     ]
    }
   ],
   "source": [
    "## 앞에 공백 추가(요일지정)하기\n",
    "print('2019년 11월')\n",
    "print('일\\t월\\t화\\t수\\t목\\t금\\t토')\n",
    "space = 3\n",
    "for i in range(space):\n",
    "    print('\\t',end='')\n",
    "for i in range(1,31):\n",
    "    print('{}\\t'.format(i),end='')\n",
    "    if(i % 7 == 4):\n",
    "        print()"
   ]
  },
  {
   "cell_type": "code",
   "execution_count": null,
   "metadata": {},
   "outputs": [],
   "source": [
    "## 마지막 날이 30일이 아닌 31일이라면?\n",
    "print('2019년 12월')\n",
    "print('일\\t월\\t화\\t수\\t목\\t금\\t토')\n",
    "lastday = 31\n",
    "space = 0\n",
    "for i in range(space):\n",
    "    print('\\t',end='')\n",
    "for i in range(1,lastday+1):\n",
    "    print('{}\\t'.format(i),end='')\n",
    "    if(i % 7 == 0):\n",
    "        print()"
   ]
  },
  {
   "cell_type": "code",
   "execution_count": null,
   "metadata": {},
   "outputs": [],
   "source": [
    "## 달이 바뀔 때마다 한 주의 마지막날을 7로 나눴을 때 값이 다르다. 매번 입력하지 않으려면?\n",
    "print('2019년 12월')\n",
    "print('일\\t월\\t화\\t수\\t목\\t금\\t토')\n",
    "lastday = 31\n",
    "space = 5\n",
    "for i in range(space):\n",
    "    print('\\t',end='')\n",
    "for i in range(1,lastday+1):\n",
    "    print('{}\\t'.format(i),end='')\n",
    "    if(i+space) % 7 == 0:\n",
    "        print()"
   ]
  },
  {
   "cell_type": "code",
   "execution_count": null,
   "metadata": {},
   "outputs": [],
   "source": [
    "# 함수로 만들기\n",
    "# month만 넣으면 space와 last_day도 알아서 나오도록 만들기\n",
    "def view_month_v2(m):\n",
    "    month = m\n",
    "    spaces = [2,5,5,1,3,6,1,4,0,2,5,0]\n",
    "    last_days = [31,28,31,30,31,30,31,31,30,31,30,31]\n",
    "    space = spaces[m-1]\n",
    "    last_day = last_days[m-1]\n",
    "    print('\\t\\t\\t2019년 {}월\\n'.format(month))\n",
    "    print('일\\t월\\t화\\t수\\t목\\t금\\t토')\n",
    "    for i in range(space):\n",
    "        print('\\t',end='')\n",
    "        pass\n",
    "\n",
    "    for i in range(1,last_day+1):\n",
    "        print('{}\\t'.format(i),end='')\n",
    "        if (i+space) % 7 == 0:\n",
    "            print()\n",
    "            pass\n",
    "        pass\n",
    "    pass"
   ]
  },
  {
   "cell_type": "code",
   "execution_count": null,
   "metadata": {},
   "outputs": [],
   "source": [
    "mon = input('원하는 월을 입력하세요 >>> ')\n",
    "view_month_v2(int(mon))"
   ]
  },
  {
   "cell_type": "markdown",
   "metadata": {},
   "source": [
    "## 피보나치 수열"
   ]
  },
  {
   "cell_type": "code",
   "execution_count": null,
   "metadata": {},
   "outputs": [],
   "source": [
    "## 0부터 10번째까지의 피보나치 수열을 출력하라 - 0,1 값이 주어지고 계속해서 주어진 두 수의 합이 다음에 위치\n",
    "## 0 1 1 2 3 5 ...\n",
    "\n",
    "a = 0\n",
    "b = 1\n",
    "for i in range(10):\n",
    "    p = a + b \n",
    "    if p == 1:\n",
    "        print(a,b,end=' ')\n",
    "    print(p, end=' ')\n",
    "    a = b\n",
    "    b = p\n",
    "    pass"
   ]
  },
  {
   "cell_type": "markdown",
   "metadata": {},
   "source": [
    "# hidden 숫자 맞추기"
   ]
  },
  {
   "cell_type": "code",
   "execution_count": null,
   "metadata": {},
   "outputs": [],
   "source": [
    "## 10~99 사이의 hidden 숫자를 만들어서 감춘 후\n",
    "## 사용자가 예상한 숫자를 입력하면 크다, 작다를 피드백하여 숨겨진 숫자 맞추는 게임\n",
    "\n",
    "hidden = rnd.randrange(10,100)\n",
    "while True:\n",
    "    temp = input('숫자를 입력하세요 >>> ')\n",
    "    try_number = int(temp)\n",
    "    if(try_number==hidden):\n",
    "        print('correct')\n",
    "        break\n",
    "    elif(try_number>hidden):\n",
    "        print('large')\n",
    "    else:\n",
    "        print('small')\n",
    "        pass"
   ]
  },
  {
   "cell_type": "code",
   "execution_count": null,
   "metadata": {},
   "outputs": [],
   "source": []
  },
  {
   "cell_type": "code",
   "execution_count": null,
   "metadata": {},
   "outputs": [],
   "source": []
  },
  {
   "cell_type": "code",
   "execution_count": null,
   "metadata": {},
   "outputs": [],
   "source": []
  },
  {
   "cell_type": "code",
   "execution_count": null,
   "metadata": {},
   "outputs": [],
   "source": []
  },
  {
   "cell_type": "code",
   "execution_count": null,
   "metadata": {},
   "outputs": [],
   "source": []
  },
  {
   "cell_type": "code",
   "execution_count": null,
   "metadata": {},
   "outputs": [],
   "source": []
  }
 ],
 "metadata": {
  "kernelspec": {
   "display_name": "Python 3",
   "language": "python",
   "name": "python3"
  },
  "language_info": {
   "codemirror_mode": {
    "name": "ipython",
    "version": 3
   },
   "file_extension": ".py",
   "mimetype": "text/x-python",
   "name": "python",
   "nbconvert_exporter": "python",
   "pygments_lexer": "ipython3",
   "version": "3.7.4"
  }
 },
 "nbformat": 4,
 "nbformat_minor": 2
}
