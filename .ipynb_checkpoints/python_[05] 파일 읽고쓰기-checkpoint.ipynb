{
 "cells": [
  {
   "cell_type": "markdown",
   "metadata": {},
   "source": [
    "### 파일 생성하기(open)\n",
    "- 파일 객체 = open(파일이름, 파일열기모드)\n",
    "- 텍스트파일에만 적용\n",
    "- 파일열기모드\n",
    " - r: 읽기모드\n",
    " - w: 쓰기모드\n",
    "   - 존재하는 파일이면 원래 내용이 모두 사라지고\n",
    "   - 존재하지 않으면 새로운 파일 생성된다\n",
    " - a: 추가모드 - 파일 마지막에 새로운 내용 추가할 때"
   ]
  },
  {
   "cell_type": "code",
   "execution_count": null,
   "metadata": {},
   "outputs": [],
   "source": [
    "# 새로운 경로에 파일을 생성\n",
    "f = open(\"C:/OO/새파일.txt\", 'w')\n",
    "f.close()\n",
    "# 열었던 파일은 항상 close를 해줘야 된다."
   ]
  },
  {
   "cell_type": "markdown",
   "metadata": {},
   "source": [
    "### 파일에 출력값 적기(.write)"
   ]
  },
  {
   "cell_type": "code",
   "execution_count": 33,
   "metadata": {},
   "outputs": [],
   "source": [
    "f = open(\"새파일.txt\", \"w\", encoding=\"utf-8\")\n",
    "#f가 빨대 역할(stream객체)\n",
    "# 한글이므로 encoding해줘야 한다.\n",
    "\n",
    "for i in range(1,11):\n",
    "    data = \"%d번째 줄입니다.\\n\" % i\n",
    "    f.write(data)\n",
    "f.close()"
   ]
  },
  {
   "cell_type": "markdown",
   "metadata": {},
   "source": [
    "### 외부에 저장된 파일을 python 내에서 읽기"
   ]
  },
  {
   "cell_type": "markdown",
   "metadata": {},
   "source": [
    "#### .readline(): 한 줄씩 출력"
   ]
  },
  {
   "cell_type": "code",
   "execution_count": 35,
   "metadata": {},
   "outputs": [
    {
     "name": "stdout",
     "output_type": "stream",
     "text": [
      "1번째 줄입니다.\n",
      "\n"
     ]
    }
   ],
   "source": [
    "# 1번째 줄만 읽기\n",
    "f = open(\"새파일.txt\", 'r', encoding=\"utf-8\")\n",
    "line=f.readline()  \n",
    "print(line)\n",
    "f.close()\n",
    "\n",
    "# 파일 생성할 때도, 불러올 때도 둘다 encoding 필요"
   ]
  },
  {
   "cell_type": "code",
   "execution_count": 36,
   "metadata": {},
   "outputs": [
    {
     "name": "stdout",
     "output_type": "stream",
     "text": [
      "1번째 줄입니다.\n",
      "\n",
      "2번째 줄입니다.\n",
      "\n",
      "3번째 줄입니다.\n",
      "\n",
      "4번째 줄입니다.\n",
      "\n",
      "5번째 줄입니다.\n",
      "\n",
      "6번째 줄입니다.\n",
      "\n",
      "7번째 줄입니다.\n",
      "\n",
      "8번째 줄입니다.\n",
      "\n",
      "9번째 줄입니다.\n",
      "\n",
      "10번째 줄입니다.\n",
      "\n"
     ]
    }
   ],
   "source": [
    "# 모든 줄을 읽으려면? 1) readline\n",
    "f = open(\"C:/py_data/새파일.txt\", 'r', encoding=\"utf-8\")\n",
    "while True:\n",
    "    line = f.readline()\n",
    "    if not line: break  # line이 하나도 없는 빈 문자열을 만나게 되면(line=False) break되어 while문 빠져나간다.\n",
    "    print(line)\n",
    "f.close()"
   ]
  },
  {
   "cell_type": "markdown",
   "metadata": {},
   "source": [
    "#### .readlines(): 각각의 줄을 요소로 갖는 리스트로 돌려준다."
   ]
  },
  {
   "cell_type": "code",
   "execution_count": 37,
   "metadata": {},
   "outputs": [
    {
     "name": "stdout",
     "output_type": "stream",
     "text": [
      "1번째 줄입니다.\n",
      "\n",
      "2번째 줄입니다.\n",
      "\n",
      "3번째 줄입니다.\n",
      "\n",
      "4번째 줄입니다.\n",
      "\n",
      "5번째 줄입니다.\n",
      "\n",
      "6번째 줄입니다.\n",
      "\n",
      "7번째 줄입니다.\n",
      "\n",
      "8번째 줄입니다.\n",
      "\n",
      "9번째 줄입니다.\n",
      "\n",
      "10번째 줄입니다.\n",
      "\n"
     ]
    }
   ],
   "source": [
    "# 모든 줄을 읽으려면? 2) readlines\n",
    "f = open('C:/py_data/새파일.txt', 'r', encoding='utf-8')\n",
    "lines = f.readlines()\n",
    "for line in lines:\n",
    "    print(line)\n",
    "    # 중간명령을 쓸 때 반복(for문)이 되므로 print(line)\n",
    "    # 그냥 line을 쓰면 아무것도 출력되지 않는다.\n",
    "    # 명령이 없을 때는 그냥 pass\n",
    "\n",
    "f.close()"
   ]
  },
  {
   "cell_type": "code",
   "execution_count": 24,
   "metadata": {},
   "outputs": [
    {
     "data": {
      "text/plain": [
       "['1번째 줄입니다.\\n',\n",
       " '2번째 줄입니다.\\n',\n",
       " '3번째 줄입니다.\\n',\n",
       " '4번째 줄입니다.\\n',\n",
       " '5번째 줄입니다.\\n',\n",
       " '6번째 줄입니다.\\n',\n",
       " '7번째 줄입니다.\\n',\n",
       " '8번째 줄입니다.\\n',\n",
       " '9번째 줄입니다.\\n',\n",
       " '10번째 줄입니다.\\n']"
      ]
     },
     "execution_count": 24,
     "metadata": {},
     "output_type": "execute_result"
    }
   ],
   "source": [
    "# 그냥 lines를 출력하면 리스트화된 값, 개행문자가 나온다.\n",
    "lines"
   ]
  },
  {
   "cell_type": "markdown",
   "metadata": {},
   "source": [
    "#### .read(): 파일 내용 전체를 문자열로 돌려준다."
   ]
  },
  {
   "cell_type": "code",
   "execution_count": 38,
   "metadata": {},
   "outputs": [
    {
     "name": "stdout",
     "output_type": "stream",
     "text": [
      "1번째 줄입니다.\n",
      "2번째 줄입니다.\n",
      "3번째 줄입니다.\n",
      "4번째 줄입니다.\n",
      "5번째 줄입니다.\n",
      "6번째 줄입니다.\n",
      "7번째 줄입니다.\n",
      "8번째 줄입니다.\n",
      "9번째 줄입니다.\n",
      "10번째 줄입니다.\n",
      "\n"
     ]
    }
   ],
   "source": [
    "f = open('C:/py_data/새파일.txt', 'r', encoding='utf-8')\n",
    "data = f.read()\n",
    "print(data)\n",
    "f.close()"
   ]
  },
  {
   "cell_type": "markdown",
   "metadata": {},
   "source": [
    "### 파일에 새로운 내용 추가"
   ]
  },
  {
   "cell_type": "code",
   "execution_count": 39,
   "metadata": {},
   "outputs": [],
   "source": [
    "f = open(\"C:/py_data/새파일.txt\", 'a', encoding=\"utf-8\")  # 추가모드(a)로 열기\n",
    "for i in range(11, 20):\n",
    "    data = \"%d번째 줄입니다.\\n\" % i\n",
    "    f.write(data)\n",
    "f.close()"
   ]
  },
  {
   "cell_type": "markdown",
   "metadata": {},
   "source": [
    "### 자동으로 파일객체 닫기: with문"
   ]
  },
  {
   "cell_type": "code",
   "execution_count": 40,
   "metadata": {},
   "outputs": [],
   "source": [
    "f= open(\"foo.txt\", 'w')\n",
    "f.write(\"Life is too short, you need python\")\n",
    "f.close()\n",
    "\n",
    "# 위의 코드를 아래와 같이 쓸 수 있다."
   ]
  },
  {
   "cell_type": "code",
   "execution_count": 13,
   "metadata": {},
   "outputs": [],
   "source": [
    "with open(\"foo.txt\", \"w\") as f:\n",
    "    f.write(\"Life is too short, you need python\")"
   ]
  }
 ],
 "metadata": {
  "kernelspec": {
   "display_name": "Python 3",
   "language": "python",
   "name": "python3"
  },
  "language_info": {
   "codemirror_mode": {
    "name": "ipython",
    "version": 3
   },
   "file_extension": ".py",
   "mimetype": "text/x-python",
   "name": "python",
   "nbconvert_exporter": "python",
   "pygments_lexer": "ipython3",
   "version": "3.7.4"
  }
 },
 "nbformat": 4,
 "nbformat_minor": 2
}
