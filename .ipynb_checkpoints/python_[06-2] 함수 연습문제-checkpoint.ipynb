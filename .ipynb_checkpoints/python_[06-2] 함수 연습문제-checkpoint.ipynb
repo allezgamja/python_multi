{
 "cells": [
  {
   "cell_type": "markdown",
   "metadata": {},
   "source": [
    "### 파라미터를 외부로부터 받아 10을 곱한 후 리턴하는 함수를 만들어라"
   ]
  },
  {
   "cell_type": "code",
   "execution_count": 15,
   "metadata": {},
   "outputs": [
    {
     "data": {
      "text/plain": [
       "20"
      ]
     },
     "execution_count": 15,
     "metadata": {},
     "output_type": "execute_result"
    }
   ],
   "source": [
    "def test1(para):\n",
    "    p = para * 10\n",
    "    return(p)\n",
    "\n",
    "test1(2)"
   ]
  },
  {
   "cell_type": "markdown",
   "metadata": {},
   "source": [
    "### 파라미터가 없는 함수를 하나 만들고 랜덤으로 1~45 사이의 숫자 6개를 만들어 리스트에 저장하여 출력"
   ]
  },
  {
   "cell_type": "code",
   "execution_count": 101,
   "metadata": {},
   "outputs": [
    {
     "name": "stdout",
     "output_type": "stream",
     "text": [
      "[28, 42, 7, 31, 22, 33]\n"
     ]
    }
   ],
   "source": [
    "import random as rnd\n",
    "def test2():\n",
    "    r_list = []\n",
    "    for i in range(6):\n",
    "        temp = rnd.randrange(1,46)\n",
    "        r_list.append(temp)\n",
    "        pass\n",
    "    print(r_list)\n",
    "    pass\n",
    "\n",
    "test2()\n",
    "\n",
    "# import random as rnd\n",
    "# r = rnd.randint(1,3)    # 1,2,3중 3까지 나온다.\n",
    "# print(r)\n",
    "    \n",
    "# for i in range(10):\n",
    "#     r2 = rnd.randrange(1,3)  # 1,2,3 중 3이 안 나온다.\n",
    "#     print(r2,end=' ')\n",
    "#     pass"
   ]
  },
  {
   "cell_type": "markdown",
   "metadata": {},
   "source": [
    "### 정수 2개 중 큰 값을 결정하여 변수에 저장하고 큰 값을 리턴"
   ]
  },
  {
   "cell_type": "code",
   "execution_count": 23,
   "metadata": {},
   "outputs": [
    {
     "data": {
      "text/plain": [
       "6"
      ]
     },
     "execution_count": 23,
     "metadata": {},
     "output_type": "execute_result"
    }
   ],
   "source": [
    "def test3(a,b):\n",
    "    if a>=b:\n",
    "        p = a\n",
    "    else:\n",
    "        p = b\n",
    "    return(p)\n",
    "\n",
    "test3(3,6)\n"
   ]
  },
  {
   "cell_type": "markdown",
   "metadata": {},
   "source": [
    "### 랜덤으로 만들어진 요소가 6개인 리스트(1~100)에서 최대값을 찾아 변수에 저장하고 리턴"
   ]
  },
  {
   "cell_type": "code",
   "execution_count": 31,
   "metadata": {},
   "outputs": [
    {
     "name": "stdout",
     "output_type": "stream",
     "text": [
      "94\n"
     ]
    }
   ],
   "source": [
    "def test4():\n",
    "    list_b = []\n",
    "    for i in range(6):\n",
    "        temp = rnd.randrange(1,100)\n",
    "        list_b.append(temp)\n",
    "        p = max(list_b)\n",
    "        pass\n",
    "    print(p)\n",
    "    pass\n",
    "\n",
    "\n",
    "test4()\n",
    "\n",
    "\n",
    "# sample\n",
    "def find_max(x_list):\n",
    "    max = 0\n",
    "    for i in x_list:\n",
    "        if max < i:\n",
    "            max = i\n",
    "            pass\n"
   ]
  },
  {
   "cell_type": "code",
   "execution_count": 33,
   "metadata": {},
   "outputs": [],
   "source": [
    "# 10, 20 인자를 받아 \n",
    "def change_param(a,b):\n",
    "    return b,a"
   ]
  },
  {
   "cell_type": "code",
   "execution_count": 34,
   "metadata": {},
   "outputs": [],
   "source": [
    "a, b = change_param(10,20)"
   ]
  },
  {
   "cell_type": "code",
   "execution_count": 35,
   "metadata": {},
   "outputs": [
    {
     "name": "stdout",
     "output_type": "stream",
     "text": [
      "20 10\n"
     ]
    }
   ],
   "source": [
    "print(a,b)"
   ]
  },
  {
   "cell_type": "code",
   "execution_count": null,
   "metadata": {},
   "outputs": [],
   "source": [
    "def scope_test():\n",
    "    temp = 0\n",
    "    for i in range(10):\n",
    "        if i ==4:\n",
    "            temp = 20\n",
    "            pass\n",
    "        pass\n",
    "    \n",
    "    print(temp)\n",
    "    pass"
   ]
  },
  {
   "cell_type": "code",
   "execution_count": 124,
   "metadata": {},
   "outputs": [
    {
     "ename": "IndentationError",
     "evalue": "unindent does not match any outer indentation level (<tokenize>, line 16)",
     "output_type": "error",
     "traceback": [
      "\u001b[1;36m  File \u001b[1;32m\"<tokenize>\"\u001b[1;36m, line \u001b[1;32m16\u001b[0m\n\u001b[1;33m    if len(list_a) == n:\u001b[0m\n\u001b[1;37m    ^\u001b[0m\n\u001b[1;31mIndentationError\u001b[0m\u001b[1;31m:\u001b[0m unindent does not match any outer indentation level\n"
     ]
    }
   ],
   "source": [
    "# 제시된 단어 중 비어있는 문자 맞추기\n",
    "# welcome이라는 단어가 있고, _ e _ _ _ m e 이라고 문제가 주어지면 사용자가 문자를 예측하여 welcome을 완성하는 게임\n",
    "# 전체글자수의 30%의 글자가 랜덤하게 숨겨진다\n",
    "# 시작단어: internationalization\n",
    "\n",
    "word = list('internationalization') # 20자\n",
    "\n",
    "n = len(word)*0.3           # word1 전체 수의 30%\n",
    "list_a = []\n",
    "\n",
    "import random\n",
    "temp = random.sample(range(1,len(word)),n)    # n의 수만큼 랜덤하게 글자순서 선정\n",
    "r_word = word1[temp]\n",
    "if temp not in list_a:\n",
    "        list_a.append(r_word)\n",
    "    if len(list_a) == n:\n",
    "        break\n",
    "\n",
    "print random.sample(sampleList, count)\n",
    "random.sample(range(1, 47), 6)\n",
    "\n",
    "3. 바꾸기 -> 함수\n",
    "def change_param(a,b):\n",
    "    return b,a\n",
    "    \n",
    "for i in range(1, )\n",
    "\n",
    "\n"
   ]
  },
  {
   "cell_type": "code",
   "execution_count": 1,
   "metadata": {},
   "outputs": [
    {
     "name": "stdout",
     "output_type": "stream",
     "text": [
      "[7, 9, 11, 11, 12, 14]\n"
     ]
    }
   ],
   "source": [
    "# sample\n",
    "# 문제 내기\n",
    "import random as rnd\n",
    "words = \"internationalization\"\n",
    "hidden_size = int(len(words)*0.3)\n",
    "\n",
    "hidden_index = []\n",
    "for i in range(hidden_size):\n",
    "    hidden_index.append(rnd.randrange(len(words)))\n",
    "    pass\n",
    "# 여기서 중복값 안 나오도록 고쳐보기\n",
    "\n",
    "hidden_index.sort()\n",
    "print(hidden_index)"
   ]
  },
  {
   "cell_type": "code",
   "execution_count": 37,
   "metadata": {},
   "outputs": [],
   "source": [
    "def display_word():\n",
    "    for idx in range(len(words)):\n",
    "        if idx not in hidden_index:\n",
    "            print(words[idx],end=' ')\n",
    "        else: \n",
    "            print('_', end=' ')\n",
    "            pass\n",
    "        pass\n",
    "    print()"
   ]
  },
  {
   "cell_type": "code",
   "execution_count": 38,
   "metadata": {},
   "outputs": [
    {
     "name": "stdout",
     "output_type": "stream",
     "text": [
      "_ _ t e r n a t i o n a l i _ a t i o _ \n"
     ]
    }
   ],
   "source": [
    "display_word()"
   ]
  },
  {
   "cell_type": "code",
   "execution_count": null,
   "metadata": {},
   "outputs": [
    {
     "name": "stdout",
     "output_type": "stream",
     "text": [
      "please input letter >>> d\n",
      "temp_number []\n",
      "hidden_index [0, 1, 1, 14, 19, 19]\n",
      "_ _ t e r n a t i o n a l i _ a t i o _ \n"
     ]
    }
   ],
   "source": [
    "while True:\n",
    "    try_letter = input('please input letter >>> ')\n",
    "    # 로직처리\n",
    "    temp_number = []\n",
    "    for idx,letter in enumerate(words):\n",
    "        if try_letter == letter:\n",
    "            temp_number.append(idx)\n",
    "            pass\n",
    "        pass\n",
    "    \n",
    "    print('temp_number',temp_number)   \n",
    "    for num in temp_number:\n",
    "        if num in hidden_index:\n",
    "            print('correct : {}'.format(try_letter))\n",
    "            hidden_index.remove(num)\n",
    "        # 처리결과\n",
    "    print('hidden_index',hidden_index)\n",
    "    display_word()\n",
    "    # 출력함수 적용\n",
    "    if len(hidden_index)==0:\n",
    "        break\n",
    "        pass\n",
    "    pass"
   ]
  },
  {
   "cell_type": "code",
   "execution_count": null,
   "metadata": {},
   "outputs": [],
   "source": [
    "[18,5,15,4,5,17]"
   ]
  }
 ],
 "metadata": {
  "kernelspec": {
   "display_name": "Python 3",
   "language": "python",
   "name": "python3"
  },
  "language_info": {
   "codemirror_mode": {
    "name": "ipython",
    "version": 3
   },
   "file_extension": ".py",
   "mimetype": "text/x-python",
   "name": "python",
   "nbconvert_exporter": "python",
   "pygments_lexer": "ipython3",
   "version": "3.7.4"
  }
 },
 "nbformat": 4,
 "nbformat_minor": 2
}
