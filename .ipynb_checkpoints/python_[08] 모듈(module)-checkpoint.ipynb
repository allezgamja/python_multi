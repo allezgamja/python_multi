{
 "cells": [
  {
   "cell_type": "markdown",
   "metadata": {},
   "source": [
    "## 모듈이란"
   ]
  },
  {
   "cell_type": "markdown",
   "metadata": {},
   "source": [
    "- 함수나 변수 또는 클래스를 모아놓은 파일\n",
    "- 다른 파이썬 프로그램에서 불러와 사용할 수 있게끔 만든 파이썬 파일\n",
    "- 확장자명 .py로 만든 파이썬 파일은 모두 모듈\n",
    "- function 가능, 객체지향 가능\n",
    "- 모듈이 모여서 라이브러리가 된다."
   ]
  },
  {
   "cell_type": "markdown",
   "metadata": {},
   "source": [
    "## 모듈 불러오기(import)"
   ]
  },
  {
   "cell_type": "code",
   "execution_count": 1,
   "metadata": {},
   "outputs": [
    {
     "name": "stdout",
     "output_type": "stream",
     "text": [
      "7\n"
     ]
    }
   ],
   "source": [
    "# mod1.py파일을 불러온다.\n",
    "# import는 현재 디렉토리에 있는 파일이나 파이썬 라이브러리가 저장된 디렉토리의 모듈만 불러올 수 있다.\n",
    "\n",
    "import mod1   # 파일에 있는 함수두개를 mod1이 다 관리\n",
    "print(mod1.add(3,4))"
   ]
  },
  {
   "cell_type": "code",
   "execution_count": 2,
   "metadata": {},
   "outputs": [
    {
     "data": {
      "text/plain": [
       "300"
      ]
     },
     "execution_count": 2,
     "metadata": {},
     "output_type": "execute_result"
    }
   ],
   "source": [
    "# from 모듈이름 import 모듈함수\n",
    "from mod1 import add  # 모듈 안의 함수까지 들어와준다.\n",
    "add(100,200)"
   ]
  },
  {
   "cell_type": "code",
   "execution_count": null,
   "metadata": {},
   "outputs": [],
   "source": [
    "# add함수와 sub함수를 둘다 사용하고 싶다면?\n",
    "# 1)\n",
    "from mod1 import add, sub\n",
    "\n",
    "# 2)\n",
    "from mod1 import *  # *: 모두 불러와라"
   ]
  },
  {
   "cell_type": "markdown",
   "metadata": {},
   "source": [
    "## if__name __ == \"__main__\"\n",
    "- 파일명과 모듈이름이 같을 때"
   ]
  },
  {
   "cell_type": "code",
   "execution_count": 3,
   "metadata": {},
   "outputs": [
    {
     "name": "stdout",
     "output_type": "stream",
     "text": [
      "5\n",
      "2\n"
     ]
    }
   ],
   "source": [
    "# 만약 mod1.py가 다음과 같이 결과값을 출력하는 모듈이라면?\n",
    "\n",
    "def add(a,b):\n",
    "    return a+b\n",
    "\n",
    "def sub(a,b):\n",
    "    return a-b\n",
    "\n",
    "print(add(1,4))    #결과값까지 출력하는 문장이 추가됨\n",
    "print(sub(4,2))\n",
    "\n",
    "# import mod1을 수행하는 순간 mod1.py가 실행되어 '결과값'이 출력된다.\n",
    "# 단지 mod1.py 파일의 add와 sub함수만 쓰려던 건데."
   ]
  },
  {
   "cell_type": "code",
   "execution_count": null,
   "metadata": {},
   "outputs": [],
   "source": [
    "# 이러한 문제를 방지하기 위해\n",
    "def add(a,b):\n",
    "    return a+b\n",
    "\n",
    "def sub(a,b):\n",
    "    return a-b\n",
    "\n",
    "if __name__ == \"__main__\":  # 참이면 if문 다음문장 수행된다.\n",
    "    print(add(1,4))         # 거짓이면 if문 다음문장 수행X\n",
    "    print(sub(4,2))"
   ]
  },
  {
   "cell_type": "code",
   "execution_count": null,
   "metadata": {},
   "outputs": [],
   "source": []
  },
  {
   "cell_type": "code",
   "execution_count": null,
   "metadata": {},
   "outputs": [],
   "source": []
  },
  {
   "cell_type": "code",
   "execution_count": null,
   "metadata": {},
   "outputs": [],
   "source": []
  },
  {
   "cell_type": "code",
   "execution_count": null,
   "metadata": {},
   "outputs": [],
   "source": []
  }
 ],
 "metadata": {
  "kernelspec": {
   "display_name": "Python 3",
   "language": "python",
   "name": "python3"
  },
  "language_info": {
   "codemirror_mode": {
    "name": "ipython",
    "version": 3
   },
   "file_extension": ".py",
   "mimetype": "text/x-python",
   "name": "python",
   "nbconvert_exporter": "python",
   "pygments_lexer": "ipython3",
   "version": "3.7.4"
  }
 },
 "nbformat": 4,
 "nbformat_minor": 2
}
