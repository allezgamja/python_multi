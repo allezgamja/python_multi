{
 "cells": [
  {
   "cell_type": "markdown",
   "metadata": {
    "colab_type": "text",
    "id": "auBqN1mjCTWK"
   },
   "source": [
    "# 회귀분석(Regression Analysis) - 예측"
   ]
  },
  {
   "cell_type": "markdown",
   "metadata": {
    "colab_type": "text",
    "id": "_crEcVr_C8OS"
   },
   "source": [
    "## 실습용 데이터 설정\n",
    "* Cars.csv"
   ]
  },
  {
   "cell_type": "code",
   "execution_count": 1,
   "metadata": {
    "colab": {
     "base_uri": "https://localhost:8080/",
     "height": 70
    },
    "colab_type": "code",
    "executionInfo": {
     "elapsed": 5641,
     "status": "ok",
     "timestamp": 1581769655651,
     "user": {
      "displayName": "이정구",
      "photoUrl": "https://lh3.googleusercontent.com/a-/AAuE7mCJOG97rou_jpwsvziQA7tTe2JnwoyotzfHjlO2=s64",
      "userId": "17400242557229223804"
     },
     "user_tz": -540
    },
    "id": "LIf1LyeuDE9y",
    "outputId": "13cf9430-4bf8-4da5-d538-fbc81299de30"
   },
   "outputs": [
    {
     "name": "stdout",
     "output_type": "stream",
     "text": [
      "total 24\n",
      "-rw-r--r-- 1 root root 18276 Feb 15 12:27 Cars.csv\n",
      "drwxr-xr-x 1 root root  4096 Feb  5 18:37 sample_data\n"
     ]
    }
   ],
   "source": [
    "!ls -l"
   ]
  },
  {
   "cell_type": "markdown",
   "metadata": {
    "colab_type": "text",
    "id": "D48eXxVeDRa8"
   },
   "source": [
    "* pandas DataFrame"
   ]
  },
  {
   "cell_type": "code",
   "execution_count": 2,
   "metadata": {
    "colab": {
     "base_uri": "https://localhost:8080/",
     "height": 263
    },
    "colab_type": "code",
    "executionInfo": {
     "elapsed": 1607,
     "status": "ok",
     "timestamp": 1581769658198,
     "user": {
      "displayName": "이정구",
      "photoUrl": "https://lh3.googleusercontent.com/a-/AAuE7mCJOG97rou_jpwsvziQA7tTe2JnwoyotzfHjlO2=s64",
      "userId": "17400242557229223804"
     },
     "user_tz": -540
    },
    "id": "HDGhC9ygDWqd",
    "outputId": "7dbb544f-4435-4698-f808-2a5e7a5e6866"
   },
   "outputs": [
    {
     "name": "stdout",
     "output_type": "stream",
     "text": [
      "<class 'pandas.core.frame.DataFrame'>\n",
      "RangeIndex: 392 entries, 0 to 391\n",
      "Data columns (total 9 columns):\n",
      "mpg             392 non-null float64\n",
      "cylinders       392 non-null int64\n",
      "displacement    392 non-null float64\n",
      "horsepower      392 non-null int64\n",
      "weight          392 non-null int64\n",
      "acceleration    392 non-null float64\n",
      "year            392 non-null int64\n",
      "origin          392 non-null int64\n",
      "name            392 non-null object\n",
      "dtypes: float64(3), int64(5), object(1)\n",
      "memory usage: 27.7+ KB\n"
     ]
    }
   ],
   "source": [
    "import pandas as pd\n",
    "\n",
    "DF = pd.read_csv('Cars.csv')\n",
    "\n",
    "DF.info()"
   ]
  },
  {
   "cell_type": "code",
   "execution_count": 3,
   "metadata": {
    "colab": {
     "base_uri": "https://localhost:8080/",
     "height": 136
    },
    "colab_type": "code",
    "executionInfo": {
     "elapsed": 1595,
     "status": "ok",
     "timestamp": 1581769662754,
     "user": {
      "displayName": "이정구",
      "photoUrl": "https://lh3.googleusercontent.com/a-/AAuE7mCJOG97rou_jpwsvziQA7tTe2JnwoyotzfHjlO2=s64",
      "userId": "17400242557229223804"
     },
     "user_tz": -540
    },
    "id": "NUtXPAfQCM_-",
    "outputId": "c4897d14-a321-4451-a53f-edcfd5a29d8c"
   },
   "outputs": [
    {
     "data": {
      "text/html": [
       "<div>\n",
       "<style scoped>\n",
       "    .dataframe tbody tr th:only-of-type {\n",
       "        vertical-align: middle;\n",
       "    }\n",
       "\n",
       "    .dataframe tbody tr th {\n",
       "        vertical-align: top;\n",
       "    }\n",
       "\n",
       "    .dataframe thead th {\n",
       "        text-align: right;\n",
       "    }\n",
       "</style>\n",
       "<table border=\"1\" class=\"dataframe\">\n",
       "  <thead>\n",
       "    <tr style=\"text-align: right;\">\n",
       "      <th></th>\n",
       "      <th>mpg</th>\n",
       "      <th>cylinders</th>\n",
       "      <th>displacement</th>\n",
       "      <th>horsepower</th>\n",
       "      <th>weight</th>\n",
       "      <th>acceleration</th>\n",
       "      <th>year</th>\n",
       "      <th>origin</th>\n",
       "      <th>name</th>\n",
       "    </tr>\n",
       "  </thead>\n",
       "  <tbody>\n",
       "    <tr>\n",
       "      <th>0</th>\n",
       "      <td>18.0</td>\n",
       "      <td>8</td>\n",
       "      <td>307.0</td>\n",
       "      <td>130</td>\n",
       "      <td>3504</td>\n",
       "      <td>12.0</td>\n",
       "      <td>70</td>\n",
       "      <td>1</td>\n",
       "      <td>chevrolet chevelle malibu</td>\n",
       "    </tr>\n",
       "    <tr>\n",
       "      <th>1</th>\n",
       "      <td>15.0</td>\n",
       "      <td>8</td>\n",
       "      <td>350.0</td>\n",
       "      <td>165</td>\n",
       "      <td>3693</td>\n",
       "      <td>11.5</td>\n",
       "      <td>70</td>\n",
       "      <td>1</td>\n",
       "      <td>buick skylark 320</td>\n",
       "    </tr>\n",
       "    <tr>\n",
       "      <th>2</th>\n",
       "      <td>18.0</td>\n",
       "      <td>8</td>\n",
       "      <td>318.0</td>\n",
       "      <td>150</td>\n",
       "      <td>3436</td>\n",
       "      <td>11.0</td>\n",
       "      <td>70</td>\n",
       "      <td>1</td>\n",
       "      <td>plymouth satellite</td>\n",
       "    </tr>\n",
       "  </tbody>\n",
       "</table>\n",
       "</div>"
      ],
      "text/plain": [
       "    mpg  cylinders  displacement  ...  year  origin                       name\n",
       "0  18.0          8         307.0  ...    70       1  chevrolet chevelle malibu\n",
       "1  15.0          8         350.0  ...    70       1          buick skylark 320\n",
       "2  18.0          8         318.0  ...    70       1         plymouth satellite\n",
       "\n",
       "[3 rows x 9 columns]"
      ]
     },
     "execution_count": 3,
     "metadata": {
      "tags": []
     },
     "output_type": "execute_result"
    }
   ],
   "source": [
    "DF.head(3)"
   ]
  },
  {
   "cell_type": "markdown",
   "metadata": {
    "colab_type": "text",
    "id": "3eEzPH9vEuQ2"
   },
   "source": [
    "# I. Simple Linear Regression"
   ]
  },
  {
   "cell_type": "markdown",
   "metadata": {
    "colab_type": "text",
    "id": "j1Y-kLozE9Bn"
   },
   "source": [
    "> ## 1) 분석 변수 선택"
   ]
  },
  {
   "cell_type": "code",
   "execution_count": 4,
   "metadata": {
    "colab": {
     "base_uri": "https://localhost:8080/",
     "height": 136
    },
    "colab_type": "code",
    "executionInfo": {
     "elapsed": 1380,
     "status": "ok",
     "timestamp": 1581769668957,
     "user": {
      "displayName": "이정구",
      "photoUrl": "https://lh3.googleusercontent.com/a-/AAuE7mCJOG97rou_jpwsvziQA7tTe2JnwoyotzfHjlO2=s64",
      "userId": "17400242557229223804"
     },
     "user_tz": -540
    },
    "id": "FyluhUg6D7-r",
    "outputId": "f56ea35b-c492-4b44-cf5e-8508be493c98"
   },
   "outputs": [
    {
     "data": {
      "text/html": [
       "<div>\n",
       "<style scoped>\n",
       "    .dataframe tbody tr th:only-of-type {\n",
       "        vertical-align: middle;\n",
       "    }\n",
       "\n",
       "    .dataframe tbody tr th {\n",
       "        vertical-align: top;\n",
       "    }\n",
       "\n",
       "    .dataframe thead th {\n",
       "        text-align: right;\n",
       "    }\n",
       "</style>\n",
       "<table border=\"1\" class=\"dataframe\">\n",
       "  <thead>\n",
       "    <tr style=\"text-align: right;\">\n",
       "      <th></th>\n",
       "      <th>mpg</th>\n",
       "      <th>cylinders</th>\n",
       "      <th>horsepower</th>\n",
       "      <th>weight</th>\n",
       "    </tr>\n",
       "  </thead>\n",
       "  <tbody>\n",
       "    <tr>\n",
       "      <th>0</th>\n",
       "      <td>18.0</td>\n",
       "      <td>8</td>\n",
       "      <td>130</td>\n",
       "      <td>3504</td>\n",
       "    </tr>\n",
       "    <tr>\n",
       "      <th>1</th>\n",
       "      <td>15.0</td>\n",
       "      <td>8</td>\n",
       "      <td>165</td>\n",
       "      <td>3693</td>\n",
       "    </tr>\n",
       "    <tr>\n",
       "      <th>2</th>\n",
       "      <td>18.0</td>\n",
       "      <td>8</td>\n",
       "      <td>150</td>\n",
       "      <td>3436</td>\n",
       "    </tr>\n",
       "  </tbody>\n",
       "</table>\n",
       "</div>"
      ],
      "text/plain": [
       "    mpg  cylinders  horsepower  weight\n",
       "0  18.0          8         130    3504\n",
       "1  15.0          8         165    3693\n",
       "2  18.0          8         150    3436"
      ]
     },
     "execution_count": 4,
     "metadata": {
      "tags": []
     },
     "output_type": "execute_result"
    }
   ],
   "source": [
    "DF1 = DF[['mpg', 'cylinders', 'horsepower', 'weight']]\n",
    "\n",
    "DF1.head(3)"
   ]
  },
  {
   "cell_type": "markdown",
   "metadata": {
    "colab_type": "text",
    "id": "M26Yd2Q3FEe9"
   },
   "source": [
    "> ## 2) 상관관계 그래프"
   ]
  },
  {
   "cell_type": "markdown",
   "metadata": {
    "colab_type": "text",
    "id": "Zbd9M7H_HYLB"
   },
   "source": [
    "* matplotlib"
   ]
  },
  {
   "cell_type": "code",
   "execution_count": 5,
   "metadata": {
    "colab": {
     "base_uri": "https://localhost:8080/",
     "height": 374
    },
    "colab_type": "code",
    "executionInfo": {
     "elapsed": 1580,
     "status": "ok",
     "timestamp": 1581769673339,
     "user": {
      "displayName": "이정구",
      "photoUrl": "https://lh3.googleusercontent.com/a-/AAuE7mCJOG97rou_jpwsvziQA7tTe2JnwoyotzfHjlO2=s64",
      "userId": "17400242557229223804"
     },
     "user_tz": -540
    },
    "id": "zb5YDkaXFNlb",
    "outputId": "5e798f7e-7ae6-4441-b2f4-c242383f3d0d"
   },
   "outputs": [
    {
     "data": {
      "image/png": "[encoded data removed]",
      "text/plain": [
       "<Figure size 648x432 with 1 Axes>"
      ]
     },
     "metadata": {
      "tags": []
     },
     "output_type": "display_data"
    }
   ],
   "source": [
    "import matplotlib.pyplot as plt\n",
    "\n",
    "plt.figure(figsize = (9, 6))\n",
    "plt.scatter(x = DF1.weight, y = DF1.mpg, s = 30)\n",
    "plt.show()"
   ]
  },
  {
   "cell_type": "markdown",
   "metadata": {
    "colab_type": "text",
    "id": "nhOvRTVqHa-C"
   },
   "source": [
    "* seaborn"
   ]
  },
  {
   "cell_type": "code",
   "execution_count": 6,
   "metadata": {
    "colab": {
     "base_uri": "https://localhost:8080/",
     "height": 714
    },
    "colab_type": "code",
    "executionInfo": {
     "elapsed": 2848,
     "status": "ok",
     "timestamp": 1581769680109,
     "user": {
      "displayName": "이정구",
      "photoUrl": "https://lh3.googleusercontent.com/a-/AAuE7mCJOG97rou_jpwsvziQA7tTe2JnwoyotzfHjlO2=s64",
      "userId": "17400242557229223804"
     },
     "user_tz": -540
    },
    "id": "tjaO6yg4GSFa",
    "outputId": "72f6fdf8-f3bf-4041-f7fd-4b7a77f7184d"
   },
   "outputs": [
    {
     "data": {
      "image/png": "[encoded data removed]",
      "text/plain": [
       "<Figure size 648x864 with 2 Axes>"
      ]
     },
     "metadata": {
      "tags": []
     },
     "output_type": "display_data"
    }
   ],
   "source": [
    "import seaborn as sns\n",
    "\n",
    "fig = plt.figure(figsize = (9, 12))\n",
    "ax1 = fig.add_subplot(2, 1, 1)\n",
    "ax2 = fig.add_subplot(2, 1, 2)\n",
    "sns.regplot(x = 'weight', y = 'mpg', data = DF1, ax = ax1)\n",
    "sns.regplot(x = 'weight', y = 'mpg', data = DF1, ax = ax2, fit_reg = False)\n",
    "plt.show()"
   ]
  },
  {
   "cell_type": "code",
   "execution_count": 7,
   "metadata": {
    "colab": {
     "base_uri": "https://localhost:8080/",
     "height": 747
    },
    "colab_type": "code",
    "executionInfo": {
     "elapsed": 5314,
     "status": "ok",
     "timestamp": 1581769689469,
     "user": {
      "displayName": "이정구",
      "photoUrl": "https://lh3.googleusercontent.com/a-/AAuE7mCJOG97rou_jpwsvziQA7tTe2JnwoyotzfHjlO2=s64",
      "userId": "17400242557229223804"
     },
     "user_tz": -540
    },
    "id": "IGnmjzQIHoMm",
    "outputId": "e1d445f7-9764-4e7f-c484-b438ba96f01d"
   },
   "outputs": [
    {
     "data": {
      "image/png": "[encoded data removed]",
      "text/plain": [
       "<Figure size 720x720 with 20 Axes>"
      ]
     },
     "metadata": {
      "tags": []
     },
     "output_type": "display_data"
    }
   ],
   "source": [
    "sns.pairplot(DF1)  \n",
    "plt.show()"
   ]
  },
  {
   "cell_type": "markdown",
   "metadata": {
    "colab_type": "text",
    "id": "ZF85TMI6IFu4"
   },
   "source": [
    "> ## 3) 상관계수(Correlation Coefficient)"
   ]
  },
  {
   "cell_type": "markdown",
   "metadata": {
    "colab_type": "text",
    "id": "e108Ffy_JE_c"
   },
   "source": [
    "* Pearson's r"
   ]
  },
  {
   "cell_type": "code",
   "execution_count": 8,
   "metadata": {
    "colab": {
     "base_uri": "https://localhost:8080/",
     "height": 34
    },
    "colab_type": "code",
    "executionInfo": {
     "elapsed": 789,
     "status": "ok",
     "timestamp": 1581769709894,
     "user": {
      "displayName": "이정구",
      "photoUrl": "https://lh3.googleusercontent.com/a-/AAuE7mCJOG97rou_jpwsvziQA7tTe2JnwoyotzfHjlO2=s64",
      "userId": "17400242557229223804"
     },
     "user_tz": -540
    },
    "id": "1KPEtEo6IISz",
    "outputId": "0764b4ee-ec59-42d6-c9d7-7701b813f9f7"
   },
   "outputs": [
    {
     "data": {
      "text/plain": [
       "-0.8322442148315753"
      ]
     },
     "execution_count": 8,
     "metadata": {
      "tags": []
     },
     "output_type": "execute_result"
    }
   ],
   "source": [
    "from scipy import stats\n",
    "\n",
    "stats.pearsonr(DF1.weight, DF1.mpg)[0]"
   ]
  },
  {
   "cell_type": "markdown",
   "metadata": {
    "colab_type": "text",
    "id": "Iyq4IeNtJJZx"
   },
   "source": [
    "> ## 4) Train & Test Split"
   ]
  },
  {
   "cell_type": "markdown",
   "metadata": {
    "colab_type": "text",
    "id": "RybiwxnLJ4um"
   },
   "source": [
    "* 7:3"
   ]
  },
  {
   "cell_type": "code",
   "execution_count": 18,
   "metadata": {
    "colab": {
     "base_uri": "https://localhost:8080/",
     "height": 52
    },
    "colab_type": "code",
    "executionInfo": {
     "elapsed": 652,
     "status": "ok",
     "timestamp": 1581769804718,
     "user": {
      "displayName": "이정구",
      "photoUrl": "https://lh3.googleusercontent.com/a-/AAuE7mCJOG97rou_jpwsvziQA7tTe2JnwoyotzfHjlO2=s64",
      "userId": "17400242557229223804"
     },
     "user_tz": -540
    },
    "id": "nYJbo_oeJVY5",
    "outputId": "7b370879-c5f6-4a21-e41f-dbe3545599bd"
   },
   "outputs": [
    {
     "name": "stdout",
     "output_type": "stream",
     "text": [
      "Train Data :  (274, 1) (274,)\n",
      "Test Data :  (118, 1) (118,)\n"
     ]
    }
   ],
   "source": [
    "from sklearn.model_selection import train_test_split\n",
    "\n",
    "X = DF1[['weight']]\n",
    "y = DF1['mpg']\n",
    "\n",
    "X_train, X_test, y_train, y_test = train_test_split(X, y,\n",
    "                                                    test_size = 0.3,\n",
    "                                                    random_state = 2045)\n",
    "\n",
    "print('Train Data : ', X_train.shape, y_train.shape)\n",
    "print('Test Data : ', X_test.shape, y_test.shape)"
   ]
  },
  {
   "cell_type": "markdown",
   "metadata": {
    "colab_type": "text",
    "id": "EhnTYJk7KC3e"
   },
   "source": [
    "> ## 5) 선형회귀 Modeling"
   ]
  },
  {
   "cell_type": "markdown",
   "metadata": {
    "colab_type": "text",
    "id": "TiIi_yNuONbc"
   },
   "source": [
    "* 모델 생성"
   ]
  },
  {
   "cell_type": "code",
   "execution_count": 10,
   "metadata": {
    "colab": {
     "base_uri": "https://localhost:8080/",
     "height": 34
    },
    "colab_type": "code",
    "executionInfo": {
     "elapsed": 737,
     "status": "ok",
     "timestamp": 1581769719315,
     "user": {
      "displayName": "이정구",
      "photoUrl": "https://lh3.googleusercontent.com/a-/AAuE7mCJOG97rou_jpwsvziQA7tTe2JnwoyotzfHjlO2=s64",
      "userId": "17400242557229223804"
     },
     "user_tz": -540
    },
    "id": "4-xspp-kKNuE",
    "outputId": "a04aa5b1-c084-4751-a162-c26db3004dec"
   },
   "outputs": [
    {
     "data": {
      "text/plain": [
       "LinearRegression(copy_X=True, fit_intercept=True, n_jobs=None, normalize=False)"
      ]
     },
     "execution_count": 10,
     "metadata": {
      "tags": []
     },
     "output_type": "execute_result"
    }
   ],
   "source": [
    "from sklearn.linear_model import LinearRegression\n",
    "\n",
    "RA = LinearRegression()\n",
    "RA.fit(X_train, y_train)"
   ]
  },
  {
   "cell_type": "markdown",
   "metadata": {
    "colab_type": "text",
    "id": "NZZXEww5OPmU"
   },
   "source": [
    "* Weight 및 Bias"
   ]
  },
  {
   "cell_type": "code",
   "execution_count": 11,
   "metadata": {
    "colab": {
     "base_uri": "https://localhost:8080/",
     "height": 52
    },
    "colab_type": "code",
    "executionInfo": {
     "elapsed": 727,
     "status": "ok",
     "timestamp": 1581769723274,
     "user": {
      "displayName": "이정구",
      "photoUrl": "https://lh3.googleusercontent.com/a-/AAuE7mCJOG97rou_jpwsvziQA7tTe2JnwoyotzfHjlO2=s64",
      "userId": "17400242557229223804"
     },
     "user_tz": -540
    },
    "id": "r0SG1HFeOZaF",
    "outputId": "6cee974a-f17d-4adc-980d-fa657274e1b7"
   },
   "outputs": [
    {
     "name": "stdout",
     "output_type": "stream",
     "text": [
      "weight(w) :  [-0.00778703]\n",
      "bias(b) :  46.76767731248286\n"
     ]
    }
   ],
   "source": [
    "print('weight(w) : ', RA.coef_)\n",
    "print('bias(b) : ', RA.intercept_)"
   ]
  },
  {
   "cell_type": "markdown",
   "metadata": {
    "colab_type": "text",
    "id": "TlO98xWGOt6l"
   },
   "source": [
    "* 결정계수(R-Sqaure)"
   ]
  },
  {
   "cell_type": "code",
   "execution_count": 12,
   "metadata": {
    "colab": {
     "base_uri": "https://localhost:8080/",
     "height": 34
    },
    "colab_type": "code",
    "executionInfo": {
     "elapsed": 798,
     "status": "ok",
     "timestamp": 1581769733343,
     "user": {
      "displayName": "이정구",
      "photoUrl": "https://lh3.googleusercontent.com/a-/AAuE7mCJOG97rou_jpwsvziQA7tTe2JnwoyotzfHjlO2=s64",
      "userId": "17400242557229223804"
     },
     "user_tz": -540
    },
    "id": "7ADKmtFVOys2",
    "outputId": "5683ec63-29e9-4c2c-ef2c-f2c78d3a4163"
   },
   "outputs": [
    {
     "data": {
      "text/plain": [
       "0.7723839268443395"
      ]
     },
     "execution_count": 12,
     "metadata": {
      "tags": []
     },
     "output_type": "execute_result"
    }
   ],
   "source": [
    "RA.score(X_test, y_test)"
   ]
  },
  {
   "cell_type": "markdown",
   "metadata": {
    "colab_type": "text",
    "id": "MVPIWL7WO81i"
   },
   "source": [
    "> ## 6) 모델 평가"
   ]
  },
  {
   "cell_type": "markdown",
   "metadata": {
    "colab_type": "text",
    "id": "-yxLf1vRPUJz"
   },
   "source": [
    "* Mean Squared Error"
   ]
  },
  {
   "cell_type": "code",
   "execution_count": 13,
   "metadata": {
    "colab": {
     "base_uri": "https://localhost:8080/",
     "height": 34
    },
    "colab_type": "code",
    "executionInfo": {
     "elapsed": 799,
     "status": "ok",
     "timestamp": 1581769737124,
     "user": {
      "displayName": "이정구",
      "photoUrl": "https://lh3.googleusercontent.com/a-/AAuE7mCJOG97rou_jpwsvziQA7tTe2JnwoyotzfHjlO2=s64",
      "userId": "17400242557229223804"
     },
     "user_tz": -540
    },
    "id": "WsQaqd2SPIZY",
    "outputId": "af187835-453b-4af0-ea8d-e228e79aa1e8"
   },
   "outputs": [
    {
     "data": {
      "text/plain": [
       "11.373420847734232"
      ]
     },
     "execution_count": 13,
     "metadata": {
      "tags": []
     },
     "output_type": "execute_result"
    }
   ],
   "source": [
    "from sklearn.metrics import mean_squared_error\n",
    "\n",
    "mean_squared_error(y_test, RA.predict(X_test))"
   ]
  },
  {
   "cell_type": "markdown",
   "metadata": {
    "colab_type": "text",
    "id": "liiCawYKPZ8z"
   },
   "source": [
    "> ## 7) Visualization"
   ]
  },
  {
   "cell_type": "markdown",
   "metadata": {
    "colab_type": "text",
    "id": "Y0ajeJ9bV7Zg"
   },
   "source": [
    "* y vs. y_hat"
   ]
  },
  {
   "cell_type": "code",
   "execution_count": 14,
   "metadata": {
    "colab": {
     "base_uri": "https://localhost:8080/",
     "height": 388
    },
    "colab_type": "code",
    "executionInfo": {
     "elapsed": 1028,
     "status": "ok",
     "timestamp": 1581769741091,
     "user": {
      "displayName": "이정구",
      "photoUrl": "https://lh3.googleusercontent.com/a-/AAuE7mCJOG97rou_jpwsvziQA7tTe2JnwoyotzfHjlO2=s64",
      "userId": "17400242557229223804"
     },
     "user_tz": -540
    },
    "id": "yCh3lBLyPeTw",
    "outputId": "31c32e7c-6366-434a-8f07-1fe758946f1e"
   },
   "outputs": [
    {
     "data": {
      "image/png": "[encoded data removed]",
      "text/plain": [
       "<Figure size 648x432 with 1 Axes>"
      ]
     },
     "metadata": {
      "tags": []
     },
     "output_type": "display_data"
    }
   ],
   "source": [
    "y_hat = RA.predict(X)\n",
    "\n",
    "plt.figure(figsize = (9, 6))\n",
    "ax1 = sns.distplot(y, hist = False, label = 'y')\n",
    "ax2 = sns.distplot(y_hat, hist = False, label='y_hat', ax = ax1)\n",
    "plt.show()"
   ]
  },
  {
   "cell_type": "markdown",
   "metadata": {
    "colab_type": "text",
    "id": "dPwWSTOYQ2rm"
   },
   "source": [
    "# II. Nonlineare Regression"
   ]
  },
  {
   "cell_type": "markdown",
   "metadata": {
    "colab_type": "text",
    "id": "PAmrdjzoQ9Lk"
   },
   "source": [
    "> ## 1) 분석 변수 선택"
   ]
  },
  {
   "cell_type": "code",
   "execution_count": 15,
   "metadata": {
    "colab": {
     "base_uri": "https://localhost:8080/",
     "height": 136
    },
    "colab_type": "code",
    "executionInfo": {
     "elapsed": 761,
     "status": "ok",
     "timestamp": 1581769745938,
     "user": {
      "displayName": "이정구",
      "photoUrl": "https://lh3.googleusercontent.com/a-/AAuE7mCJOG97rou_jpwsvziQA7tTe2JnwoyotzfHjlO2=s64",
      "userId": "17400242557229223804"
     },
     "user_tz": -540
    },
    "id": "3DyFOzvQR0UY",
    "outputId": "ae589891-a771-48ee-e767-624a336fa3ac"
   },
   "outputs": [
    {
     "data": {
      "text/html": [
       "<div>\n",
       "<style scoped>\n",
       "    .dataframe tbody tr th:only-of-type {\n",
       "        vertical-align: middle;\n",
       "    }\n",
       "\n",
       "    .dataframe tbody tr th {\n",
       "        vertical-align: top;\n",
       "    }\n",
       "\n",
       "    .dataframe thead th {\n",
       "        text-align: right;\n",
       "    }\n",
       "</style>\n",
       "<table border=\"1\" class=\"dataframe\">\n",
       "  <thead>\n",
       "    <tr style=\"text-align: right;\">\n",
       "      <th></th>\n",
       "      <th>mpg</th>\n",
       "      <th>cylinders</th>\n",
       "      <th>horsepower</th>\n",
       "      <th>weight</th>\n",
       "    </tr>\n",
       "  </thead>\n",
       "  <tbody>\n",
       "    <tr>\n",
       "      <th>0</th>\n",
       "      <td>18.0</td>\n",
       "      <td>8</td>\n",
       "      <td>130</td>\n",
       "      <td>3504</td>\n",
       "    </tr>\n",
       "    <tr>\n",
       "      <th>1</th>\n",
       "      <td>15.0</td>\n",
       "      <td>8</td>\n",
       "      <td>165</td>\n",
       "      <td>3693</td>\n",
       "    </tr>\n",
       "    <tr>\n",
       "      <th>2</th>\n",
       "      <td>18.0</td>\n",
       "      <td>8</td>\n",
       "      <td>150</td>\n",
       "      <td>3436</td>\n",
       "    </tr>\n",
       "  </tbody>\n",
       "</table>\n",
       "</div>"
      ],
      "text/plain": [
       "    mpg  cylinders  horsepower  weight\n",
       "0  18.0          8         130    3504\n",
       "1  15.0          8         165    3693\n",
       "2  18.0          8         150    3436"
      ]
     },
     "execution_count": 15,
     "metadata": {
      "tags": []
     },
     "output_type": "execute_result"
    }
   ],
   "source": [
    "DF2 = DF[['mpg', 'cylinders', 'horsepower', 'weight']]\n",
    "\n",
    "DF2.head(3)"
   ]
  },
  {
   "cell_type": "markdown",
   "metadata": {
    "colab_type": "text",
    "id": "56GLS8sOSJbc"
   },
   "source": [
    "> ## 2) Train & Test Split"
   ]
  },
  {
   "cell_type": "markdown",
   "metadata": {
    "colab_type": "text",
    "id": "2sXa6E4RTDPr"
   },
   "source": [
    "* 7:3"
   ]
  },
  {
   "cell_type": "code",
   "execution_count": 26,
   "metadata": {
    "colab": {
     "base_uri": "https://localhost:8080/",
     "height": 52
    },
    "colab_type": "code",
    "executionInfo": {
     "elapsed": 746,
     "status": "ok",
     "timestamp": 1581769921866,
     "user": {
      "displayName": "이정구",
      "photoUrl": "https://lh3.googleusercontent.com/a-/AAuE7mCJOG97rou_jpwsvziQA7tTe2JnwoyotzfHjlO2=s64",
      "userId": "17400242557229223804"
     },
     "user_tz": -540
    },
    "id": "CM9FK6pcTE-t",
    "outputId": "3d428bdf-6d0d-465c-a8d8-ddb49db9c4cc"
   },
   "outputs": [
    {
     "name": "stdout",
     "output_type": "stream",
     "text": [
      "Train Data :  (274, 1) (274,)\n",
      "Test Data :  (118, 1) (118,)\n"
     ]
    }
   ],
   "source": [
    "from sklearn.model_selection import train_test_split\n",
    "\n",
    "X = DF2[['weight']]\n",
    "y = DF2['mpg']\n",
    "\n",
    "X_train, X_test, y_train, y_test = train_test_split(X, y,\n",
    "                                                    test_size = 0.3,\n",
    "                                                    random_state = 2045)\n",
    "\n",
    "print('Train Data : ', X_train.shape, y_train.shape)\n",
    "print('Test Data : ', X_test.shape, y_test.shape)"
   ]
  },
  {
   "cell_type": "markdown",
   "metadata": {
    "colab_type": "text",
    "id": "ae9AARryS2ly"
   },
   "source": [
    "> ## 3) 비선형회귀 Modeling"
   ]
  },
  {
   "cell_type": "markdown",
   "metadata": {
    "colab_type": "text",
    "id": "OAsNqFulTeOS"
   },
   "source": [
    "* 2차 다항식 변환"
   ]
  },
  {
   "cell_type": "code",
   "execution_count": 27,
   "metadata": {
    "colab": {
     "base_uri": "https://localhost:8080/",
     "height": 52
    },
    "colab_type": "code",
    "executionInfo": {
     "elapsed": 707,
     "status": "ok",
     "timestamp": 1581769932310,
     "user": {
      "displayName": "이정구",
      "photoUrl": "https://lh3.googleusercontent.com/a-/AAuE7mCJOG97rou_jpwsvziQA7tTe2JnwoyotzfHjlO2=s64",
      "userId": "17400242557229223804"
     },
     "user_tz": -540
    },
    "id": "HMjoo1HjTSFs",
    "outputId": "0b6ab0d0-9c40-4f9c-b9c5-9e19677aac5a"
   },
   "outputs": [
    {
     "name": "stdout",
     "output_type": "stream",
     "text": [
      "변환 전 데이터:  (274, 1)\n",
      "2차항 변환 데이터:  (274, 2)\n"
     ]
    }
   ],
   "source": [
    "from sklearn.preprocessing import PolynomialFeatures\n",
    "\n",
    "poly = PolynomialFeatures(degree = 2, include_bias = False)\n",
    "X_train_poly = poly.fit_transform(X_train)\n",
    "\n",
    "print('변환 전 데이터: ', X_train.shape)\n",
    "print('2차항 변환 데이터: ', X_train_poly.shape)"
   ]
  },
  {
   "cell_type": "markdown",
   "metadata": {
    "colab_type": "text",
    "id": "rsvzF4PgUDdw"
   },
   "source": [
    "* 비선형 모델 생성"
   ]
  },
  {
   "cell_type": "code",
   "execution_count": 28,
   "metadata": {
    "colab": {
     "base_uri": "https://localhost:8080/",
     "height": 34
    },
    "colab_type": "code",
    "executionInfo": {
     "elapsed": 654,
     "status": "ok",
     "timestamp": 1581769936327,
     "user": {
      "displayName": "이정구",
      "photoUrl": "https://lh3.googleusercontent.com/a-/AAuE7mCJOG97rou_jpwsvziQA7tTe2JnwoyotzfHjlO2=s64",
      "userId": "17400242557229223804"
     },
     "user_tz": -540
    },
    "id": "ouz2Hj0xULTD",
    "outputId": "7baa2231-b678-4b23-ef64-b2dede9b0dbf"
   },
   "outputs": [
    {
     "data": {
      "text/plain": [
       "LinearRegression(copy_X=True, fit_intercept=True, n_jobs=None, normalize=False)"
      ]
     },
     "execution_count": 28,
     "metadata": {
      "tags": []
     },
     "output_type": "execute_result"
    }
   ],
   "source": [
    "from sklearn.linear_model import LinearRegression\n",
    "\n",
    "NL = LinearRegression()\n",
    "NL.fit(X_train_poly, y_train)"
   ]
  },
  {
   "cell_type": "markdown",
   "metadata": {
    "colab_type": "text",
    "id": "znkj79iEcx8S"
   },
   "source": [
    "* Weight 및 Bias"
   ]
  },
  {
   "cell_type": "code",
   "execution_count": 29,
   "metadata": {
    "colab": {
     "base_uri": "https://localhost:8080/",
     "height": 52
    },
    "colab_type": "code",
    "executionInfo": {
     "elapsed": 686,
     "status": "ok",
     "timestamp": 1581769948283,
     "user": {
      "displayName": "이정구",
      "photoUrl": "https://lh3.googleusercontent.com/a-/AAuE7mCJOG97rou_jpwsvziQA7tTe2JnwoyotzfHjlO2=s64",
      "userId": "17400242557229223804"
     },
     "user_tz": -540
    },
    "id": "LleQWbbmcfmp",
    "outputId": "b5c47a5a-0261-4540-f4fd-a028bb7e5d1b"
   },
   "outputs": [
    {
     "name": "stdout",
     "output_type": "stream",
     "text": [
      "weight(w) :  [-0.01914785  0.00000178]\n",
      "bias(b) :  63.55586061\n"
     ]
    }
   ],
   "source": [
    "import numpy as np\n",
    "np.set_printoptions(suppress = True, precision = 8)\n",
    "\n",
    "print('weight(w) : ', NL.coef_)\n",
    "print('bias(b) : ', '%.8f' % NL.intercept_)"
   ]
  },
  {
   "cell_type": "markdown",
   "metadata": {
    "colab_type": "text",
    "id": "X0lQMR9nU0He"
   },
   "source": [
    "* 결정계수(R-Sqaure)"
   ]
  },
  {
   "cell_type": "code",
   "execution_count": 30,
   "metadata": {
    "colab": {
     "base_uri": "https://localhost:8080/",
     "height": 34
    },
    "colab_type": "code",
    "executionInfo": {
     "elapsed": 800,
     "status": "ok",
     "timestamp": 1581769954226,
     "user": {
      "displayName": "이정구",
      "photoUrl": "https://lh3.googleusercontent.com/a-/AAuE7mCJOG97rou_jpwsvziQA7tTe2JnwoyotzfHjlO2=s64",
      "userId": "17400242557229223804"
     },
     "user_tz": -540
    },
    "id": "ne2H9YJsU4l5",
    "outputId": "a90bf48c-5e3f-4d8d-c031-d81335c3c887"
   },
   "outputs": [
    {
     "data": {
      "text/plain": [
       "0.8007081100550024"
      ]
     },
     "execution_count": 30,
     "metadata": {
      "tags": []
     },
     "output_type": "execute_result"
    }
   ],
   "source": [
    "X_test_poly = poly.fit_transform(X_test)\n",
    "\n",
    "NL.score(X_test_poly, y_test)"
   ]
  },
  {
   "cell_type": "markdown",
   "metadata": {
    "colab_type": "text",
    "id": "oaEhBBtaUiKK"
   },
   "source": [
    "> ## 4) 모델 평가"
   ]
  },
  {
   "cell_type": "markdown",
   "metadata": {
    "colab_type": "text",
    "id": "B_0YTWV_aDWn"
   },
   "source": [
    "* Mean Squared Error"
   ]
  },
  {
   "cell_type": "code",
   "execution_count": 31,
   "metadata": {
    "colab": {
     "base_uri": "https://localhost:8080/",
     "height": 34
    },
    "colab_type": "code",
    "executionInfo": {
     "elapsed": 776,
     "status": "ok",
     "timestamp": 1581769961289,
     "user": {
      "displayName": "이정구",
      "photoUrl": "https://lh3.googleusercontent.com/a-/AAuE7mCJOG97rou_jpwsvziQA7tTe2JnwoyotzfHjlO2=s64",
      "userId": "17400242557229223804"
     },
     "user_tz": -540
    },
    "id": "82QAHwULXfz8",
    "outputId": "2051ddac-e259-4c46-ee52-2d4ddc7fa01a"
   },
   "outputs": [
    {
     "data": {
      "text/plain": [
       "9.958130392376573"
      ]
     },
     "execution_count": 31,
     "metadata": {
      "tags": []
     },
     "output_type": "execute_result"
    }
   ],
   "source": [
    "from sklearn.metrics import mean_squared_error\n",
    "\n",
    "X_test_poly = poly.fit_transform(X_test)\n",
    "\n",
    "mean_squared_error(y_test, NL.predict(X_test_poly))"
   ]
  },
  {
   "cell_type": "markdown",
   "metadata": {
    "colab_type": "text",
    "id": "33hWDxN3UlzD"
   },
   "source": [
    "> ## 5) Visualization"
   ]
  },
  {
   "cell_type": "markdown",
   "metadata": {
    "colab_type": "text",
    "id": "aHfKhs3EVzJf"
   },
   "source": [
    "* Nonlinear Model"
   ]
  },
  {
   "cell_type": "code",
   "execution_count": 32,
   "metadata": {
    "colab": {
     "base_uri": "https://localhost:8080/",
     "height": 388
    },
    "colab_type": "code",
    "executionInfo": {
     "elapsed": 973,
     "status": "ok",
     "timestamp": 1581769965058,
     "user": {
      "displayName": "이정구",
      "photoUrl": "https://lh3.googleusercontent.com/a-/AAuE7mCJOG97rou_jpwsvziQA7tTe2JnwoyotzfHjlO2=s64",
      "userId": "17400242557229223804"
     },
     "user_tz": -540
    },
    "id": "JxXOmDQ2VUkk",
    "outputId": "86f3e3f0-5efa-4593-e203-5fd1256fe64f"
   },
   "outputs": [
    {
     "data": {
      "image/png": "[encoded data removed]",
      "text/plain": [
       "<Figure size 648x432 with 1 Axes>"
      ]
     },
     "metadata": {
      "tags": []
     },
     "output_type": "display_data"
    }
   ],
   "source": [
    "y_hat_test = NL.predict(X_test_poly)\n",
    "\n",
    "plt.figure(figsize=(9, 6))\n",
    "plt.plot(X_train, y_train, 'o', label = 'Train Data')\n",
    "plt.plot(X_test, y_hat_test, 'r+', label = 'Predicted Value')\n",
    "plt.legend(loc='best')\n",
    "plt.xlabel('weight')\n",
    "plt.ylabel('mpg')\n",
    "plt.show()"
   ]
  },
  {
   "cell_type": "markdown",
   "metadata": {
    "colab_type": "text",
    "id": "549eQwTTV_xP"
   },
   "source": [
    "* y vs. y_hat"
   ]
  },
  {
   "cell_type": "code",
   "execution_count": 33,
   "metadata": {
    "colab": {
     "base_uri": "https://localhost:8080/",
     "height": 389
    },
    "colab_type": "code",
    "executionInfo": {
     "elapsed": 874,
     "status": "ok",
     "timestamp": 1581769977970,
     "user": {
      "displayName": "이정구",
      "photoUrl": "https://lh3.googleusercontent.com/a-/AAuE7mCJOG97rou_jpwsvziQA7tTe2JnwoyotzfHjlO2=s64",
      "userId": "17400242557229223804"
     },
     "user_tz": -540
    },
    "id": "0HCwSBplWCMA",
    "outputId": "96fd07b2-f6a1-4b5b-cde1-6aa944b5339e"
   },
   "outputs": [
    {
     "data": {
      "image/png": "[encoded data removed]",
      "text/plain": [
       "<Figure size 648x432 with 1 Axes>"
      ]
     },
     "metadata": {
      "tags": []
     },
     "output_type": "display_data"
    }
   ],
   "source": [
    "X_ploy = poly.fit_transform(X)\n",
    "y_hat = NL.predict(X_ploy)\n",
    "\n",
    "plt.figure(figsize = (9, 6))\n",
    "ax1 = sns.distplot(y, hist=False, label=\"y\")\n",
    "ax2 = sns.distplot(y_hat, hist=False, label=\"y_hat\", ax=ax1)\n",
    "plt.show()"
   ]
  },
  {
   "cell_type": "markdown",
   "metadata": {
    "colab_type": "text",
    "id": "_7bFoQ3bYOvv"
   },
   "source": [
    "# III. Multivariate Regression"
   ]
  },
  {
   "cell_type": "markdown",
   "metadata": {
    "colab_type": "text",
    "id": "T4lVEMQCYbTs"
   },
   "source": [
    "> ## 1) 분석 변수 선택"
   ]
  },
  {
   "cell_type": "code",
   "execution_count": 35,
   "metadata": {
    "colab": {
     "base_uri": "https://localhost:8080/",
     "height": 136
    },
    "colab_type": "code",
    "executionInfo": {
     "elapsed": 846,
     "status": "ok",
     "timestamp": 1581770021395,
     "user": {
      "displayName": "이정구",
      "photoUrl": "https://lh3.googleusercontent.com/a-/AAuE7mCJOG97rou_jpwsvziQA7tTe2JnwoyotzfHjlO2=s64",
      "userId": "17400242557229223804"
     },
     "user_tz": -540
    },
    "id": "ZH8LDPPWY89F",
    "outputId": "327b8a2d-81bb-4732-f012-9cbd4d4bb5c4"
   },
   "outputs": [
    {
     "data": {
      "text/html": [
       "<div>\n",
       "<style scoped>\n",
       "    .dataframe tbody tr th:only-of-type {\n",
       "        vertical-align: middle;\n",
       "    }\n",
       "\n",
       "    .dataframe tbody tr th {\n",
       "        vertical-align: top;\n",
       "    }\n",
       "\n",
       "    .dataframe thead th {\n",
       "        text-align: right;\n",
       "    }\n",
       "</style>\n",
       "<table border=\"1\" class=\"dataframe\">\n",
       "  <thead>\n",
       "    <tr style=\"text-align: right;\">\n",
       "      <th></th>\n",
       "      <th>mpg</th>\n",
       "      <th>cylinders</th>\n",
       "      <th>horsepower</th>\n",
       "      <th>weight</th>\n",
       "    </tr>\n",
       "  </thead>\n",
       "  <tbody>\n",
       "    <tr>\n",
       "      <th>0</th>\n",
       "      <td>18.0</td>\n",
       "      <td>8</td>\n",
       "      <td>130</td>\n",
       "      <td>3504</td>\n",
       "    </tr>\n",
       "    <tr>\n",
       "      <th>1</th>\n",
       "      <td>15.0</td>\n",
       "      <td>8</td>\n",
       "      <td>165</td>\n",
       "      <td>3693</td>\n",
       "    </tr>\n",
       "    <tr>\n",
       "      <th>2</th>\n",
       "      <td>18.0</td>\n",
       "      <td>8</td>\n",
       "      <td>150</td>\n",
       "      <td>3436</td>\n",
       "    </tr>\n",
       "  </tbody>\n",
       "</table>\n",
       "</div>"
      ],
      "text/plain": [
       "    mpg  cylinders  horsepower  weight\n",
       "0  18.0          8         130    3504\n",
       "1  15.0          8         165    3693\n",
       "2  18.0          8         150    3436"
      ]
     },
     "execution_count": 35,
     "metadata": {
      "tags": []
     },
     "output_type": "execute_result"
    }
   ],
   "source": [
    "DF3 = DF[['mpg', 'cylinders', 'horsepower', 'weight']]\n",
    "\n",
    "DF3.head(3)"
   ]
  },
  {
   "cell_type": "markdown",
   "metadata": {
    "colab_type": "text",
    "id": "jYdBzMIjYlac"
   },
   "source": [
    "> ## 2) Train &Test Split"
   ]
  },
  {
   "cell_type": "markdown",
   "metadata": {
    "colab_type": "text",
    "id": "rAkwSGCUZOPu"
   },
   "source": [
    "> 7:3"
   ]
  },
  {
   "cell_type": "code",
   "execution_count": 36,
   "metadata": {
    "colab": {
     "base_uri": "https://localhost:8080/",
     "height": 52
    },
    "colab_type": "code",
    "executionInfo": {
     "elapsed": 775,
     "status": "ok",
     "timestamp": 1581770025086,
     "user": {
      "displayName": "이정구",
      "photoUrl": "https://lh3.googleusercontent.com/a-/AAuE7mCJOG97rou_jpwsvziQA7tTe2JnwoyotzfHjlO2=s64",
      "userId": "17400242557229223804"
     },
     "user_tz": -540
    },
    "id": "Zu99_95XZQRz",
    "outputId": "b89728eb-a9ea-4e6f-eb60-d7c7ac3845fc"
   },
   "outputs": [
    {
     "name": "stdout",
     "output_type": "stream",
     "text": [
      "Train Data :  (274, 3) (274,)\n",
      "Test Data :  (118, 3) (118,)\n"
     ]
    }
   ],
   "source": [
    "from sklearn.model_selection import train_test_split\n",
    "\n",
    "X = DF3[['cylinders', 'horsepower', 'weight']]\n",
    "y = DF3['mpg']\n",
    "\n",
    "X_train, X_test, y_train, y_test = train_test_split(X, y,\n",
    "                                                    test_size = 0.3,\n",
    "                                                    random_state = 2045)\n",
    "\n",
    "print('Train Data : ', X_train.shape, y_train.shape)\n",
    "print('Test Data : ', X_test.shape, y_test.shape)"
   ]
  },
  {
   "cell_type": "markdown",
   "metadata": {
    "colab_type": "text",
    "id": "k2800_kQYqWS"
   },
   "source": [
    "> ## 3) 다중회귀 Modeling"
   ]
  },
  {
   "cell_type": "markdown",
   "metadata": {
    "colab_type": "text",
    "id": "3TT9n4W-aqbW"
   },
   "source": [
    "* 모델 생성"
   ]
  },
  {
   "cell_type": "code",
   "execution_count": 37,
   "metadata": {
    "colab": {
     "base_uri": "https://localhost:8080/",
     "height": 34
    },
    "colab_type": "code",
    "executionInfo": {
     "elapsed": 930,
     "status": "ok",
     "timestamp": 1581770035431,
     "user": {
      "displayName": "이정구",
      "photoUrl": "https://lh3.googleusercontent.com/a-/AAuE7mCJOG97rou_jpwsvziQA7tTe2JnwoyotzfHjlO2=s64",
      "userId": "17400242557229223804"
     },
     "user_tz": -540
    },
    "id": "HjSw-nwWZcoP",
    "outputId": "2aa2af2a-7402-41bb-e5f6-460a430c8542"
   },
   "outputs": [
    {
     "data": {
      "text/plain": [
       "LinearRegression(copy_X=True, fit_intercept=True, n_jobs=None, normalize=False)"
      ]
     },
     "execution_count": 37,
     "metadata": {
      "tags": []
     },
     "output_type": "execute_result"
    }
   ],
   "source": [
    "from sklearn.linear_model import LinearRegression\n",
    "\n",
    "MR = LinearRegression()   \n",
    "MR.fit(X_train, y_train)"
   ]
  },
  {
   "cell_type": "markdown",
   "metadata": {
    "colab_type": "text",
    "id": "i6D4PY1PbOzw"
   },
   "source": [
    "* Weight 및 Bias"
   ]
  },
  {
   "cell_type": "code",
   "execution_count": 38,
   "metadata": {
    "colab": {
     "base_uri": "https://localhost:8080/",
     "height": 52
    },
    "colab_type": "code",
    "executionInfo": {
     "elapsed": 874,
     "status": "ok",
     "timestamp": 1581770039426,
     "user": {
      "displayName": "이정구",
      "photoUrl": "https://lh3.googleusercontent.com/a-/AAuE7mCJOG97rou_jpwsvziQA7tTe2JnwoyotzfHjlO2=s64",
      "userId": "17400242557229223804"
     },
     "user_tz": -540
    },
    "id": "ufekpKhratkV",
    "outputId": "ed357048-c744-4b03-d6d3-d24a26c36fbd"
   },
   "outputs": [
    {
     "name": "stdout",
     "output_type": "stream",
     "text": [
      "weight(w) :  [-0.23819436 -0.05503975 -0.00516378]\n",
      "bias(b) :  46.02586012\n"
     ]
    }
   ],
   "source": [
    "print('weight(w) : ', MR.coef_)\n",
    "print('bias(b) : ', '%.8f' % MR.intercept_)"
   ]
  },
  {
   "cell_type": "markdown",
   "metadata": {
    "colab_type": "text",
    "id": "jqiTszRHasSF"
   },
   "source": [
    "* 결정계수(R-Sqaure)"
   ]
  },
  {
   "cell_type": "code",
   "execution_count": 39,
   "metadata": {
    "colab": {
     "base_uri": "https://localhost:8080/",
     "height": 34
    },
    "colab_type": "code",
    "executionInfo": {
     "elapsed": 773,
     "status": "ok",
     "timestamp": 1581770051051,
     "user": {
      "displayName": "이정구",
      "photoUrl": "https://lh3.googleusercontent.com/a-/AAuE7mCJOG97rou_jpwsvziQA7tTe2JnwoyotzfHjlO2=s64",
      "userId": "17400242557229223804"
     },
     "user_tz": -540
    },
    "id": "pmBiuhZuZtTl",
    "outputId": "2105dbe8-bcd1-4f9f-ed16-1f94ea512c2a"
   },
   "outputs": [
    {
     "data": {
      "text/plain": [
       "0.7787861688539265"
      ]
     },
     "execution_count": 39,
     "metadata": {
      "tags": []
     },
     "output_type": "execute_result"
    }
   ],
   "source": [
    "MR.score(X_test, y_test)"
   ]
  },
  {
   "cell_type": "markdown",
   "metadata": {
    "colab_type": "text",
    "id": "8vopzyX9YuVB"
   },
   "source": [
    "> ## 4) 모델 평가"
   ]
  },
  {
   "cell_type": "markdown",
   "metadata": {
    "colab_type": "text",
    "id": "MCEYUpv0aHOw"
   },
   "source": [
    "* Mean Squared Error"
   ]
  },
  {
   "cell_type": "code",
   "execution_count": 40,
   "metadata": {
    "colab": {
     "base_uri": "https://localhost:8080/",
     "height": 34
    },
    "colab_type": "code",
    "executionInfo": {
     "elapsed": 769,
     "status": "ok",
     "timestamp": 1581770055296,
     "user": {
      "displayName": "이정구",
      "photoUrl": "https://lh3.googleusercontent.com/a-/AAuE7mCJOG97rou_jpwsvziQA7tTe2JnwoyotzfHjlO2=s64",
      "userId": "17400242557229223804"
     },
     "user_tz": -540
    },
    "id": "D6KhUx_RZ0bq",
    "outputId": "e7e3974d-6a12-4f1b-8c2f-c9727c688efc"
   },
   "outputs": [
    {
     "data": {
      "text/plain": [
       "11.053516406301046"
      ]
     },
     "execution_count": 40,
     "metadata": {
      "tags": []
     },
     "output_type": "execute_result"
    }
   ],
   "source": [
    "from sklearn.metrics import mean_squared_error\n",
    "\n",
    "mean_squared_error(y_test, MR.predict(X_test))"
   ]
  },
  {
   "cell_type": "markdown",
   "metadata": {
    "colab_type": "text",
    "id": "A-39SklIYxMo"
   },
   "source": [
    "> ## 5) Visualization"
   ]
  },
  {
   "cell_type": "code",
   "execution_count": 41,
   "metadata": {
    "colab": {
     "base_uri": "https://localhost:8080/",
     "height": 388
    },
    "colab_type": "code",
    "executionInfo": {
     "elapsed": 1148,
     "status": "ok",
     "timestamp": 1581770059190,
     "user": {
      "displayName": "이정구",
      "photoUrl": "https://lh3.googleusercontent.com/a-/AAuE7mCJOG97rou_jpwsvziQA7tTe2JnwoyotzfHjlO2=s64",
      "userId": "17400242557229223804"
     },
     "user_tz": -540
    },
    "id": "MckrymhTaTVx",
    "outputId": "e73f74be-e2e0-4c74-9e04-ae666d1d27b1"
   },
   "outputs": [
    {
     "data": {
      "image/png": "[encoded data removed]",
      "text/plain": [
       "<Figure size 648x432 with 1 Axes>"
      ]
     },
     "metadata": {
      "tags": []
     },
     "output_type": "display_data"
    }
   ],
   "source": [
    "y_hat = MR.predict(X_test)\n",
    "\n",
    "plt.figure(figsize = (9, 6))\n",
    "ax1 = sns.distplot(y_test, hist = False, label = 'y_test')\n",
    "ax2 = sns.distplot(y_hat, hist = False, label='y_hat', ax = ax1)\n",
    "plt.show()"
   ]
  },
  {
   "cell_type": "markdown",
   "metadata": {
    "colab_type": "text",
    "id": "__BEvSEqV_Dn"
   },
   "source": [
    "# \n",
    "# \n",
    "# \n",
    "# The End\n",
    "# \n",
    "# \n",
    "# "
   ]
  }
 ],
 "metadata": {
  "colab": {
   "collapsed_sections": [],
   "name": "001_Regression_Analysis.ipynb",
   "provenance": []
  },
  "kernelspec": {
   "display_name": "Python 3",
   "language": "python",
   "name": "python3"
  },
  "language_info": {
   "codemirror_mode": {
    "name": "ipython",
    "version": 3
   },
   "file_extension": ".py",
   "mimetype": "text/x-python",
   "name": "python",
   "nbconvert_exporter": "python",
   "pygments_lexer": "ipython3",
   "version": "3.7.4"
  }
 },
 "nbformat": 4,
 "nbformat_minor": 1
}
