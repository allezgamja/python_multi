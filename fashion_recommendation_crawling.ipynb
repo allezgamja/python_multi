{
 "cells": [
  {
   "cell_type": "code",
   "execution_count": 1,
   "metadata": {},
   "outputs": [],
   "source": [
    "from selenium import webdriver\n",
    "from bs4 import BeautifulSoup\n",
    "from urllib.request import urlretrieve\n",
    "import urllib.request\n",
    "import os\n",
    "import requests\n",
    "import time\n",
    "from random import uniform\n",
    "import pandas as pd"
   ]
  },
  {
   "cell_type": "code",
   "execution_count": 30,
   "metadata": {},
   "outputs": [
    {
     "data": {
      "text/plain": [
       "('[케리어] 플레인 브이넥 니트.jpg', <http.client.HTTPMessage at 0x2793d767dc8>)"
      ]
     },
     "execution_count": 30,
     "metadata": {},
     "output_type": "execute_result"
    }
   ],
   "source": [
    "url = 'https://search.shopping.naver.com/search/category.nhn?cat_id=50000805'\n",
    "req = urllib.request.Request(url)\n",
    "res = urllib.request.urlopen(url).read()\n",
    "\n",
    "soup = BeautifulSoup(res, 'html.parser')\n",
    "soup = soup.find(\"div\", class_=\"img_area\")\n",
    "\n",
    "imgUrl = soup.find(\"img\")[\"src\"]\n",
    "\n",
    "urllib.request.urlretrieve(imgUrl, soup.find(\"img\")[\"alt\"]+'.jpg' )"
   ]
  },
  {
   "cell_type": "code",
   "execution_count": 4,
   "metadata": {},
   "outputs": [],
   "source": [
    "driver = webdriver.Chrome('c:/chromedriver')\n",
    "driver.implicitly_wait(3)\n",
    "#네이버 쇼핑윈도 - 니트\n",
    "driver.get('https://search.shopping.naver.com/search/category.nhn?pagingIndex=1&pagingSize=40&productSet=window&viewType=thumb&sort=rel&cat_id=50000805')"
   ]
  },
  {
   "cell_type": "code",
   "execution_count": 50,
   "metadata": {},
   "outputs": [
    {
     "data": {
      "text/plain": [
       "<div id=\"u_skip\">\n",
       "<a href=\"#lnb\" onclick=\"document.getElementById('lnb').tabIndex=-1;document.getElementById('lnb').focus();return false;\"><span>메인 메뉴로 바로가기</span></a>\n",
       "<a href=\"#snb\" onclick=\"document.getElementById('snb').tabIndex=-1;document.getElementById('snb').focus();return false;\"><span>하위 메뉴로 바로가기</span></a>\n",
       "<a href=\"#content\" onclick=\"document.getElementById('content').tabIndex=-1;document.getElementById('content').focus();return false;\"><span>본문으로 바로가기</span></a>\n",
       "</div>"
      ]
     },
     "execution_count": 50,
     "metadata": {},
     "output_type": "execute_result"
    }
   ],
   "source": [
    "soup3= soup2.find('div')\n",
    "soup3"
   ]
  },
  {
   "cell_type": "code",
   "execution_count": 19,
   "metadata": {},
   "outputs": [],
   "source": [
    "# 네이버 쇼핑윈도우 니트/스웨터 카테고리 들어가서 첫 이미지 링크로 가기\n",
    "link_list = []\n",
    "\n",
    "html = driver.page_source\n",
    "soup = BeautifulSoup(html, 'html.parser')\n",
    "link = driver.find_element_by_xpath('//*[@id=\"_search_list\"]/div[1]/ul[1]/li[1]/div[1]/a')\n",
    "link.click()\n",
    "\n",
    "# 첫번째 이미지 링크에서 썸네일 가져오기\n",
    "html2 = driver.page_source\n",
    "soup2 = BeautifulSoup(html2, 'html.parser')\n",
    "soup3= soup2.find(\"div\",class_=\"_396uGDX0Fi\")\n",
    "\n",
    "# link2 = soup2.find(\"img\")[\"src\"]\n",
    "# urllib.request.urlretrieve(link2, soup2.find(\"img\")[\"alt\"]+'.jpg' )\n",
    "\n",
    "req = urllib.request.Request(html2)\n",
    "res = urllib.request.urlopen(url).read()\n",
    "\n",
    "soup = BeautifulSoup(res, 'html.parser')\n",
    "soup = soup.find(\"div\", class_=\"img_area\")\n",
    "\n",
    "imgUrl = soup.find(\"img\")[\"src\"]\n",
    "\n",
    "urllib.request.urlretrieve(imgUrl, soup.find(\"img\")[\"alt\"]+'.jpg' )\n",
    "\n",
    "# 1. 1페이지의 첫 이미지 클릭하여 저장\n",
    "# 2. 1페이지에 있는 이미지 모두 저장\n",
    "# 3. 1~5페이지에 있는 이미지 저장\n",
    "\n",
    "# for scr in range(5):\n",
    "#     html = driver.page_source\n",
    "#     soup = BeautifulSoup(html, 'html.parser')\n",
    "#     links = soup.select('div._1aNmedx3I0 > ul._3KH4iCkMJ_ > li > div > a')\n",
    "#     f = uniform(2.0, 2.5)\n",
    "    \n",
    "#     last_height = driver.execute_script(\"return document.body.scrollHeight\")\n",
    "    \n",
    "#     driver.execute_script(\"window.scrollTo(0, document.body.scrollHeight);\")\n",
    "#     time.sleep(f)\n",
    "#     driver.execute_script(\"window.scrollTo(0, document.body.scrollHeight);\")\n",
    "#     time.sleep(f)\n",
    "    \n",
    "    \n",
    "#     new_height = driver.execute_script(\"return document.body.scrollHeight\")\n",
    "    \n",
    "#     for link in links:\n",
    "#         link_list.append('https://shopping.naver.com'+link['href'])\n",
    "        \n",
    "    \n",
    "#     if new_height == last_height:\n",
    "\n",
    "#             # try again (can be removed)\n",
    "#             driver.execute_script(\"window.scrollTo(0, document.body.scrollHeight);\")\n",
    "\n",
    "#             # Wait to load page\n",
    "#             time.sleep(f)\n",
    "\n",
    "#             # Calculate new scroll height and compare with last scroll height\n",
    "#             new_height = driver.execute_script(\"return document.body.scrollHeight\")\n",
    "\n",
    "#             # check if the page height has remained the same\n",
    "#             if new_height == last_height:\n",
    "#                 # if so, you are done\n",
    "#                 break\n",
    "#             # if not, move on to the next loop\n",
    "#             else:\n",
    "#                 last_height = new_height\n",
    "#                 continue"
   ]
  },
  {
   "cell_type": "code",
   "execution_count": 5,
   "metadata": {},
   "outputs": [
    {
     "data": {
      "text/plain": [
       "[<span class=\"mask\"></span>,\n",
       " <span class=\"mask\"></span>,\n",
       " <span class=\"mask\"></span>,\n",
       " <span class=\"mask\"></span>,\n",
       " <span class=\"mask\"></span>,\n",
       " <span class=\"mask\"></span>,\n",
       " <span class=\"mask\"></span>,\n",
       " <span class=\"mask\"></span>,\n",
       " <span class=\"mask\"></span>,\n",
       " <span class=\"mask\"></span>,\n",
       " <span class=\"mask\"></span>,\n",
       " <span class=\"mask\"></span>,\n",
       " <span class=\"mask\"></span>,\n",
       " <span class=\"mask\"></span>,\n",
       " <span class=\"mask\"></span>,\n",
       " <span class=\"mask\"></span>,\n",
       " <span class=\"mask\"></span>,\n",
       " <span class=\"mask\"></span>,\n",
       " <span class=\"mask\"></span>,\n",
       " <span class=\"mask\"></span>,\n",
       " <span class=\"mask\"></span>,\n",
       " <span class=\"mask\"></span>,\n",
       " <span class=\"mask\"></span>,\n",
       " <span class=\"mask\"></span>,\n",
       " <span class=\"mask\"></span>,\n",
       " <span class=\"mask\"></span>,\n",
       " <span class=\"mask\"></span>,\n",
       " <span class=\"mask\"></span>,\n",
       " <span class=\"mask\"></span>,\n",
       " <span class=\"mask\"></span>,\n",
       " <span class=\"mask\"></span>,\n",
       " <span class=\"mask\"></span>,\n",
       " <span class=\"mask\"></span>,\n",
       " <span class=\"mask\"></span>,\n",
       " <span class=\"mask\"></span>,\n",
       " <span class=\"mask\"></span>,\n",
       " <span class=\"mask\"></span>,\n",
       " <span class=\"mask\"></span>,\n",
       " <span class=\"mask\"></span>,\n",
       " <span class=\"mask\"></span>,\n",
       " <span class=\"mask\"></span>,\n",
       " <span class=\"mask\"></span>,\n",
       " <span class=\"mask\"></span>,\n",
       " <span class=\"mask\"></span>,\n",
       " <span class=\"mask\"></span>,\n",
       " <span class=\"mask\"></span>,\n",
       " <span class=\"mask\"></span>,\n",
       " <span class=\"mask\"></span>,\n",
       " <span class=\"mask\"></span>,\n",
       " <span class=\"mask\"></span>,\n",
       " <span class=\"mask\"></span>]"
      ]
     },
     "execution_count": 5,
     "metadata": {},
     "output_type": "execute_result"
    }
   ],
   "source": [
    "links"
   ]
  },
  {
   "cell_type": "code",
   "execution_count": null,
   "metadata": {},
   "outputs": [],
   "source": [
    "link_list"
   ]
  },
  {
   "cell_type": "code",
   "execution_count": null,
   "metadata": {},
   "outputs": [],
   "source": [
    "link_list = list(set(link_list))"
   ]
  },
  {
   "cell_type": "code",
   "execution_count": null,
   "metadata": {},
   "outputs": [],
   "source": [
    "# csv 파일로 저장\n",
    "import pandas as pd\n",
    "results = pd.DataFrame(link_list, columns=['link_addr'])\n",
    "results.to_csv('./link_addr2.csv', header=False) #, mode='a', header=False)"
   ]
  },
  {
   "cell_type": "code",
   "execution_count": null,
   "metadata": {},
   "outputs": [],
   "source": [
    "# csv 파일 가져오기\n",
    "import csv\n",
    "f = open('./link_addr2.csv','rt')\n",
    "link_addr_file = csv.reader(f)"
   ]
  },
  {
   "cell_type": "code",
   "execution_count": null,
   "metadata": {},
   "outputs": [],
   "source": [
    "link_list = []\n",
    "for row in link_addr_file :\n",
    "    link_list.append(row[1])"
   ]
  },
  {
   "cell_type": "markdown",
   "metadata": {},
   "source": [
    "# 가져올 카테고리 명을 입력하세요"
   ]
  },
  {
   "cell_type": "code",
   "execution_count": null,
   "metadata": {},
   "outputs": [],
   "source": [
    "#상세 페이지 들어가서 원하는 정보 저장\n",
    "i = 0\n",
    "\n",
    "while i < len(link_list):\n",
    "    text_list = []\n",
    "    \n",
    "    driver.get(link_list[i])\n",
    "    print(link_list[i])\n",
    "    \n",
    "    f = uniform(1.5, 1.7)\n",
    "    time.sleep(f)\n",
    "    \n",
    "    a = \"\"\n",
    "    a = link_list[i].split(\"/products/\")\n",
    "    a[1][:10]\n",
    "    \n",
    "    i += 1\n",
    "        \n",
    "    html = driver.page_source\n",
    "    soup = BeautifulSoup(html, 'html.parser')\n",
    "    try:\n",
    "        images = soup.select('div._3utq7rRVBL > div.editor_wrap > div > div > div.se_component_wrap > div.se_component > div.se_sectionArea > div.se_editArea > div.se_viewArea > a > img')\n",
    "        name = soup.find('h3','_2IA5sp7BRM').get_text()\n",
    "        price = soup.find('span','_1dpDPg-OQb').get_text()\n",
    "        tag=soup.find('div','_24FKuaBdoK').get_text()\n",
    "        info = [soup.find_all('th','_15qeGNn6Dt')[n].string for n in range(0,20)]\n",
    "        detail = [soup.find_all('td','jvlKiI0U_y')[n].string for n in range(0,20)]\n",
    "        texts = soup.find_all('p', 'se_textarea')\n",
    "\n",
    "\n",
    "        if not os.path.isdir(a[1][:10]):\n",
    "            os.mkdir(a[1][:10])     \n",
    "\n",
    "        for text in texts:\n",
    "            text_list.append(text.get_text().strip().replace(u'\\xa0', u' '))\n",
    "            text_list2 = [zz for zz in text_list if zz]\n",
    "\n",
    "        # 긁어올 카테고리 명을 입력하세요     \n",
    "        data_1 = ({'category':'여성/하의/팬츠', 'name': [name], 'price': [price],'tag':[tag], 'size':[text_list2]})\n",
    "        df1 = pd.DataFrame(data_1)\n",
    "\n",
    "        data_2 = [detail]\n",
    "        df2 = pd.DataFrame(data_2, columns = info)\n",
    "\n",
    "        df3 = pd.concat([df1,df2], axis=1)\n",
    "\n",
    "        df3.to_csv(\".\\\\\"+a[1][:10]+\"\\\\csv_\"+a[1][:10]+\".csv\", index = True, encoding='utf-8')\n",
    "\n",
    "        for image in images:\n",
    "\n",
    "            src_page = requests.get(image['src'], headers={\"Referer\":\"https://www.naver.com/\"})\n",
    "            src_image = src_page.content\n",
    "            with open(\".\\\\\"+a[1][:10]+\"\\\\img_\"+a[1][:10]+'_'+str(images.index(image))+\".png\", \"wb\") as downfile:\n",
    "                downfile.write(src_image)\n",
    "            f = uniform(0.4, 0.6)    \n",
    "            time.sleep(f)\n",
    "\n",
    "    except:\n",
    "        print(\"상품정보 가져오기 오류발생\")\n",
    "        pass"
   ]
  },
  {
   "cell_type": "code",
   "execution_count": null,
   "metadata": {},
   "outputs": [],
   "source": [
    "# 드라이버 종료\n",
    "driver.close()"
   ]
  },
  {
   "cell_type": "code",
   "execution_count": null,
   "metadata": {},
   "outputs": [],
   "source": []
  },
  {
   "cell_type": "code",
   "execution_count": null,
   "metadata": {},
   "outputs": [],
   "source": []
  },
  {
   "cell_type": "code",
   "execution_count": null,
   "metadata": {},
   "outputs": [],
   "source": []
  },
  {
   "cell_type": "code",
   "execution_count": null,
   "metadata": {},
   "outputs": [],
   "source": []
  },
  {
   "cell_type": "code",
   "execution_count": null,
   "metadata": {},
   "outputs": [],
   "source": []
  }
 ],
 "metadata": {
  "kernelspec": {
   "display_name": "Python 3",
   "language": "python",
   "name": "python3"
  },
  "language_info": {
   "codemirror_mode": {
    "name": "ipython",
    "version": 3
   },
   "file_extension": ".py",
   "mimetype": "text/x-python",
   "name": "python",
   "nbconvert_exporter": "python",
   "pygments_lexer": "ipython3",
   "version": "3.7.4"
  }
 },
 "nbformat": 4,
 "nbformat_minor": 2
}
