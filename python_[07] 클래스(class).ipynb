{
 "cells": [
  {
   "cell_type": "markdown",
   "metadata": {},
   "source": [
    "## 클래스(class)는 왜 필요한가?"
   ]
  },
  {
   "cell_type": "markdown",
   "metadata": {},
   "source": [
    "- 객체(=data + code)가 갖는 문제점에서부터 출발. 똑같은 내용의 각 객체(Object)를 매번 반복하는 것은 비효율적이고 용량이 너무 커진다.\n",
    " - e.g. 속성값1+코드1, 속성값1+코드2, 속성값1+코드3...\n",
    " - 위와 같이 정해진 하나의 데이터 속성값(전역변수)을 가지고 여러 코드를 한꺼번에 돌려야 할 때가 있다. 코드가 바뀜에 따라 데이터값도 바뀌어가므로 각 코드 별로 지정된 데이터값이 있어야 코드끼리 서로 지장을 주지 않는다.\n",
    " - 이때 예시와 같이 매번 데이터값을 만들어내기 번거로우니 하나의 클래스 안에 속성값을 두고, 서로 영향을 미치지 않는 독립된 코드 만든다.\n",
    "- 클래스라는 틀 안에서 필요한 것만 부분적으로 뽑아낸 기능이 생성자함수이자 객체(Object)이다.\n",
    "- 클래스는 대문자로 시작\n",
    "- 되도록 적은 class로 object를 설명해라"
   ]
  },
  {
   "cell_type": "code",
   "execution_count": 44,
   "metadata": {},
   "outputs": [
    {
     "data": {
      "text/plain": [
       "__main__.FourCal"
      ]
     },
     "execution_count": 44,
     "metadata": {},
     "output_type": "execute_result"
    }
   ],
   "source": [
    "class FourCal:\n",
    "    pass\n",
    "\n",
    "a = FourCal()\n",
    "type(a)"
   ]
  },
  {
   "cell_type": "code",
   "execution_count": 43,
   "metadata": {
    "scrolled": true
   },
   "outputs": [
    {
     "name": "stdout",
     "output_type": "stream",
     "text": [
      "3\n",
      "7\n",
      "3\n",
      "10\n"
     ]
    }
   ],
   "source": [
    "class Calculator:            # class: 붕어빵 틀\n",
    "    def __init__(self):      # Data선언 예약어 (언더바로 시작하면 예약어)\n",
    "        self.result = 0      # 데이터의 속성 (속성값은 무조건 self)\n",
    "        # self.result : 함수에서 계산한 결과값을 유지하면서 저장하는 기존의 역변수의 역할\n",
    "    \n",
    "    def add(self, num):      # Code 실제기능선언\n",
    "        self.result += num   # init함수에 선언된 속성값에 접근. num은 지역변수\n",
    "        return self.result\n",
    "\n",
    "    # class 안에 구현된 함수(def)는 메쏘드(Method)라고도 한다.\n",
    "    \n",
    "a1 = Calculator() # 생성자 함수. 객체(object). 실행은 얘가 한다.\n",
    "a2 = Calculator() # a2: 객체\n",
    "\n",
    "print(a1.add(3))\n",
    "print(a1.add(4))\n",
    "print(a2.add(3))\n",
    "print(a2.add(7))\n",
    "\n",
    "# a1과 a2는 별개의 계산기(객체). 서로의 계산값에 영향을 주지 않는다.\n",
    "# 클래스를 사용하면 계산기 대수가 늘어나더라도 객체를 생성만 하면 된다."
   ]
  },
  {
   "cell_type": "markdown",
   "metadata": {},
   "source": [
    "## 객체와 인스턴스의 차이"
   ]
  },
  {
   "cell_type": "markdown",
   "metadata": {},
   "source": [
    "- 클래스로 만든 객체를 인스턴스라고도 한다.\n",
    "- 클래스는 틀만, 그것을 메모리에 담은 게 instance로, 둘이 대립되는 개념 -> 최종목표는 instance 만들기\n",
    "- 특정객체가 어떤 클래스의 객체인지를 관계위주로 설명할 때 사용\n",
    "- a1 = Calculator()\n",
    "- a1: 객체\n",
    "- a1객체는 Calculator의 인스턴스\n",
    "- 즉, \"a1은 인스턴스\"보다는 \"a1은 객체\"라는 표현이 어울리고, \"a1은 Calculator의 객체\"보다는 \"a1은 Calculator의 인스턴스\"라는 표현이 어울린다."
   ]
  },
  {
   "cell_type": "markdown",
   "metadata": {},
   "source": [
    "## self는 왜 필요한가?"
   ]
  },
  {
   "cell_type": "code",
   "execution_count": 46,
   "metadata": {},
   "outputs": [
    {
     "data": {
      "text/plain": [
       "4"
      ]
     },
     "execution_count": 46,
     "metadata": {},
     "output_type": "execute_result"
    }
   ],
   "source": [
    "class FourCal:\n",
    "    def setdata(self, first, second):  # 메쏘드의 매개변수\n",
    "        self.first = first             # 메쏘드의 수행문\n",
    "        self.second = second           # 메쏘드의 수행문\n",
    "\n",
    "a = FourCal()\n",
    "a.setdata(4, 2)\n",
    "\n",
    "# setdata의 첫 매개변수 self에는 setdata메쏘드를 호출한 객체 a가 자동으로 전달된다.\n",
    "# FourCal.setdata(a, 4, 2)로도 메쏘드를 호출할 수 있으나 잘 쓰지 않는다.\n",
    "\n",
    "print(a.first)\n",
    "# a객체에 객체변수 first가 생성되고 값 4가 저장된다."
   ]
  },
  {
   "attachments": {
    "class_self.png": {
     "image/png": "[encoded data removed]"
    }
   },
   "cell_type": "markdown",
   "metadata": {},
   "source": [
    "![class_self.png](https://user-images.githubusercontent.com/51535130/72429224-ca9a6f80-37d2-11ea-87d2-e144dd400e8b.png)"
   ]
  },
  {
   "cell_type": "markdown",
   "metadata": {},
   "source": [
    "## 생성자(Constructor)"
   ]
  },
  {
   "cell_type": "code",
   "execution_count": null,
   "metadata": {},
   "outputs": [],
   "source": [
    "# 하지만 위와 같은 경우 항상 메쏘드 부를 때마다 setdata를 해줘야 한다.\n",
    "# 그래서 초기값 설정할 때 생성자(Constructor)를 구현\n",
    "\n",
    "# __init__ : 생성자 메쏘드\n",
    "def __init__(self, first, second):\n",
    "    self.first = first\n",
    "    self.second = second\n",
    "    \n",
    "a = FourCal(4, 2)\n",
    "a.add()   # 따로 setdata에 담지 않아도 add메쏘드 값이 나온다"
   ]
  },
  {
   "cell_type": "code",
   "execution_count": 47,
   "metadata": {},
   "outputs": [
    {
     "name": "stdout",
     "output_type": "stream",
     "text": [
      "10 20\n"
     ]
    }
   ],
   "source": [
    "class Enemy:\n",
    "    def __init__(self):  #속성변수 초기화\n",
    "        self.x = 10    #self로 선언해야 에러가 안 난다.\n",
    "        self.y = 20\n",
    "        \n",
    "    def display(self, *name): # 모든 method의 첫 칸에는 self 들어가야 한다.\n",
    "        print(self.x, self.y) # 여기 셀프 안 넣으면 에러\n",
    "\n",
    "e1 = Enemy()   # self = e1\n",
    "e2 = Enemy()\n",
    "e3 = Enemy()\n",
    "\n",
    "e1.display()"
   ]
  },
  {
   "cell_type": "code",
   "execution_count": 63,
   "metadata": {},
   "outputs": [],
   "source": [
    "# 성적관리 프로그램을 파이썬 객체지향기법으로 작성하라\n",
    "# 여기서는 속성이 핵심\n",
    "# 왜 칼럼이 아닌 행 단위로 봐야하는가? -> 오브젝트끼리 형태가 똑같으므로.\n",
    "\n",
    "# 클래스명, 속성정보, 메소드에 들어가야 할 것들을 생각해라\n",
    "\n",
    "class Student:\n",
    "    def __init__(self,haknum,name,kor,eng,math,total=0):\n",
    "        self.haknum = haknum     #계속 속성으로 남아있을 수 있는\n",
    "        self.name = name\n",
    "        self.kor = kor\n",
    "        self.eng = eng\n",
    "        self.math = math\n",
    "        self.total = total   # __init__()의 total=0을 빼고 self.total = 0으로 줘도 된다.\n",
    "        \n",
    "    def add(self):        # 총점 계산\n",
    "        self.total = self.kor + self.eng + self.math  # self.total = a.total\n",
    "        return self.total\n",
    "    \n",
    "    def display(self):      # 학생별 정보 \n",
    "        self.add()\n",
    "        print(self.name,\":\",self.total)\n",
    "        pass"
   ]
  },
  {
   "cell_type": "code",
   "execution_count": 64,
   "metadata": {},
   "outputs": [
    {
     "name": "stdout",
     "output_type": "stream",
     "text": [
      "홍길동 : 115\n"
     ]
    }
   ],
   "source": [
    "# 실행\n",
    "s1 = Student(haknum=1,name=\"홍길동\", kor=25, eng=34,math=56)\n",
    "s1.display() # 한 사람에 대한 성적정보가 출력되도록"
   ]
  },
  {
   "cell_type": "markdown",
   "metadata": {},
   "source": [
    "## 상속\n",
    "- 어떤 클래스를 만들 때 다른 클래스의 기능을 물려받도록 만듦\n",
    "- 기존 클래스를 변경하지 않고 기능을 추가하거나 기존 기능을 변경할 때 사용 (삭제는 불가)\n",
    "- 기존의 클래스가 라이브러리 형태로 제공되거나 수정이 허용되지 않는 상황에서는 상속을 사용해야 한다.\n",
    "- 부모가 character이며, 화살표는 항상 아래에서 위로 향한다. 모든 결정권은 super class에 있고, subclass는 무조건 부모에게 전달해야 한다. (외부에서 자식을 타고 부모 데이터에 접근할 수 있으니 설계 잘 해야 함)\n",
    "- 부모 코드로 코드만 재사용할 수 있는 게 아니라 subclass의 제어도 가능하다. character들 와봐! 라고 한꺼번에 부를 수 있음."
   ]
  },
  {
   "cell_type": "code",
   "execution_count": 84,
   "metadata": {},
   "outputs": [
    {
     "name": "stdout",
     "output_type": "stream",
     "text": [
      ">>>> 총점: 115\n"
     ]
    }
   ],
   "source": [
    "# 외국인 학생용 성적관리 프로그램을 따로 만든다?\n",
    "# Student class를 부모 삼아서 기능을 물려받는 FStudent를 만든다.\n",
    "\n",
    "class FStudent(Student):\n",
    "    \n",
    "    def display(self):\n",
    "        self.add()\n",
    "        print(\">>>> 총점:\", self.total)  # 기능 변경\n",
    "\n",
    "fs = FStudent(haknum=1, name=\"홍길동\", kor=25,eng=34,math=56)\n",
    "fs.display()"
   ]
  },
  {
   "cell_type": "markdown",
   "metadata": {},
   "source": [
    "## 메쏘드 오버라이딩"
   ]
  },
  {
   "cell_type": "markdown",
   "metadata": {},
   "source": [
    "- 부모 클래스에 있는 메쏘드를 동일한 이름으로 다시 작성하면, 새로운 메쏘드가 기존의 메쏘드를 덮어쓴다."
   ]
  },
  {
   "cell_type": "code",
   "execution_count": null,
   "metadata": {},
   "outputs": [],
   "source": [
    "class FStudent(Student):\n",
    "    \n",
    "    def display(self):   #기존에 있던 def display 내용을 바꿈\n",
    "        self.add()\n",
    "        print(\">>>> 총점:\", self.total)"
   ]
  }
 ],
 "metadata": {
  "kernelspec": {
   "display_name": "Python 3",
   "language": "python",
   "name": "python3"
  },
  "language_info": {
   "codemirror_mode": {
    "name": "ipython",
    "version": 3
   },
   "file_extension": ".py",
   "mimetype": "text/x-python",
   "name": "python",
   "nbconvert_exporter": "python",
   "pygments_lexer": "ipython3",
   "version": "3.7.4"
  }
 },
 "nbformat": 4,
 "nbformat_minor": 2
}
