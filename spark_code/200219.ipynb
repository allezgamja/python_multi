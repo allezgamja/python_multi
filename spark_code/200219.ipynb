{
 "cells": [
  {
   "cell_type": "code",
   "execution_count": 2,
   "metadata": {},
   "outputs": [
    {
     "data": {
      "text/plain": [
       "'2.1.0'"
      ]
     },
     "execution_count": 2,
     "metadata": {},
     "output_type": "execute_result"
    }
   ],
   "source": [
    "import tensorflow as tf\n",
    "tf.__version__"
   ]
  },
  {
   "cell_type": "code",
   "execution_count": 3,
   "metadata": {},
   "outputs": [],
   "source": [
    "# conda activate test1 - pip install findspark\n",
    "import findspark\n",
    "findspark.init(\"/opt/spark\")"
   ]
  },
  {
   "cell_type": "code",
   "execution_count": 4,
   "metadata": {},
   "outputs": [],
   "source": [
    "# pip install pyspark=2.3.2\n",
    "import pyspark   #  /opt/spark가 홈변수로 설정돼있다. \n",
    "from pyspark.sql import SparkSession #그래서 이 코드는 없어도 됨?"
   ]
  },
  {
   "cell_type": "code",
   "execution_count": 5,
   "metadata": {},
   "outputs": [
    {
     "data": {
      "text/plain": [
       "'3.0.0.dev2'"
      ]
     },
     "execution_count": 5,
     "metadata": {},
     "output_type": "execute_result"
    }
   ],
   "source": [
    "pyspark.__version__ # pip install pyspark=2.3.2"
   ]
  },
  {
   "cell_type": "code",
   "execution_count": 6,
   "metadata": {},
   "outputs": [],
   "source": [
    "# 스파크는 sparkSession이라는 드라이버 프로세스로 제어\n",
    "spark = SparkSession.builder.getOrCreate()\n",
    "# spark = SparkContext()"
   ]
  },
  {
   "cell_type": "code",
   "execution_count": 7,
   "metadata": {},
   "outputs": [
    {
     "data": {
      "text/html": [
       "\n",
       "            <div>\n",
       "                <p><b>SparkSession - in-memory</b></p>\n",
       "                \n",
       "        <div>\n",
       "            <p><b>SparkContext</b></p>\n",
       "\n",
       "            <p><a href=\"http://ip-172-31-40-37.ap-northeast-2.compute.internal:4041\">Spark UI</a></p>\n",
       "\n",
       "            <dl>\n",
       "              <dt>Version</dt>\n",
       "                <dd><code>v3.0.0-preview2</code></dd>\n",
       "              <dt>Master</dt>\n",
       "                <dd><code>local[*]</code></dd>\n",
       "              <dt>AppName</dt>\n",
       "                <dd><code>pyspark-shell</code></dd>\n",
       "            </dl>\n",
       "        </div>\n",
       "        \n",
       "            </div>\n",
       "        "
      ],
      "text/plain": [
       "<pyspark.sql.session.SparkSession at 0x7f7862a46828>"
      ]
     },
     "execution_count": 7,
     "metadata": {},
     "output_type": "execute_result"
    }
   ],
   "source": [
    "spark"
   ]
  },
  {
   "cell_type": "code",
   "execution_count": 8,
   "metadata": {},
   "outputs": [],
   "source": [
    "myRange = spark.range(1000).toDF('number') #컬럼과 컬럼의 타입을 정의한 목록\n",
    "# 스파크 2점대부터는 RDD를 직접다루는걸 비권장. 데이터프레임을 많이 쓴다."
   ]
  },
  {
   "cell_type": "code",
   "execution_count": 9,
   "metadata": {},
   "outputs": [
    {
     "data": {
      "text/plain": [
       "pyspark.sql.dataframe.DataFrame"
      ]
     },
     "execution_count": 9,
     "metadata": {},
     "output_type": "execute_result"
    }
   ],
   "source": [
    "type(myRange)"
   ]
  },
  {
   "cell_type": "code",
   "execution_count": 10,
   "metadata": {},
   "outputs": [
    {
     "name": "stdout",
     "output_type": "stream",
     "text": [
      "+------+\n",
      "|number|\n",
      "+------+\n",
      "|     0|\n",
      "|     1|\n",
      "|     2|\n",
      "|     3|\n",
      "|     4|\n",
      "|     5|\n",
      "|     6|\n",
      "|     7|\n",
      "|     8|\n",
      "|     9|\n",
      "|    10|\n",
      "|    11|\n",
      "|    12|\n",
      "|    13|\n",
      "|    14|\n",
      "|    15|\n",
      "|    16|\n",
      "|    17|\n",
      "|    18|\n",
      "|    19|\n",
      "+------+\n",
      "only showing top 20 rows\n",
      "\n"
     ]
    }
   ],
   "source": [
    "myRange.show() #dataframe 그냥은 못 보고 .show 해줘야 한다"
   ]
  },
  {
   "cell_type": "code",
   "execution_count": 11,
   "metadata": {},
   "outputs": [],
   "source": [
    "data_path = '/dataSet/01_트위터/twitter_맛집_467147.csv'\n",
    "sample = spark.read.option(\"header\",\"true\").csv(data_path)"
   ]
  },
  {
   "cell_type": "code",
   "execution_count": 12,
   "metadata": {},
   "outputs": [
    {
     "data": {
      "text/plain": [
       "pyspark.sql.dataframe.DataFrame"
      ]
     },
     "execution_count": 12,
     "metadata": {},
     "output_type": "execute_result"
    }
   ],
   "source": [
    "type(sample)"
   ]
  },
  {
   "cell_type": "code",
   "execution_count": 13,
   "metadata": {},
   "outputs": [
    {
     "name": "stdout",
     "output_type": "stream",
     "text": [
      "+----------------------------------+--------------------+------+--------------------+----------------+-----------------------------------+------------------+---------------------------+-------------------+--------------+-------------------+\n",
      "|                          reg_date|             replies|length|                html|        fullname|                               body|          retweets|                    keyword|                aid|      username|              likes|\n",
      "+----------------------------------+--------------------+------+--------------------+----------------+-----------------------------------+------------------+---------------------------+-------------------+--------------+-------------------+\n",
      "|               2019-07-30T17:46:59|                   0|    43|\"<p class=\"\"Tweet...|사신에 타라 에바|모찌님진짜 청순여캐맛집이예요 아...|                 0|                       맛집|1156259909173833728|@sasinnimpigon|                  1|\n",
      "|               2019-07-30T17:46:48|                   1|    76|\"<p class=\"\"Tweet...|            null|           !!(!!!! 넘 쥬와욧!!!!...|[무멘팔] 슘 | ᐕ)⁾⁾|체고에욧 체곳88ㅁ88)))bb...|                  0|          맛집|1156259865704091649|\n",
      "|               2019-07-30T17:39:57|                   1|    99|\"<p class=\"\"Tweet...|            null|                               null|              null|                       null|               null|          null|               null|\n",
      "|                                ㅋ|                null|  null|                null|            null|                               null|              null|                       null|               null|          null|               null|\n",
      "|                                ㅋ|                null|  null|                null|            null|                               null|              null|                       null|               null|          null|               null|\n",
      "|                                ㅋ|                null|  null|                null|            null|                               null|              null|                       null|               null|          null|               null|\n",
      "|                                ㅋ|                null|  null|                null|            null|                               null|              null|                       null|               null|          null|               null|\n",
      "|                           야썰 ㅋ|                null|  null|                null|            null|                               null|              null|                       null|               null|          null|               null|\n",
      "|                                ㅋ|                null|  null|                null|            null|                               null|              null|                       null|               null|          null|               null|\n",
      "|                                ㅋ|                null|  null|                null|            null|                               null|              null|                       null|               null|          null|               null|\n",
      "|ㅋㅋㅋㅋ쿠일던 첫본째 소원은 감...|다구독다구독(옥수수)|    ㅋ|                null|            null|                               null|              null|                       null|               null|          null|               null|\n",
      "|                                ㅋ|                null|  null|                null|            null|                               null|              null|                       null|               null|          null|               null|\n",
      "|                                ㅋ|                null|  null|                null|            null|                               null|              null|                       null|               null|          null|               null|\n",
      "|                                ㅋ|                null|  null|                null|            null|                               null|              null|                       null|               null|          null|               null|\n",
      "|                                ㅋ|                null|  null|                null|            null|                               null|              null|                       null|               null|          null|               null|\n",
      "|                           야썰 ㅋ|                null|  null|                null|            null|                               null|              null|                       null|               null|          null|               null|\n",
      "|                                ㅋ|                null|  null|                null|            null|                               null|              null|                       null|               null|          null|               null|\n",
      "|                                ㅋ|                null|  null|                null|            null|                               null|              null|                       null|               null|          null|               null|\n",
      "|ㅋㅋㅋㅋ쿠일던 첫본째 소원은 감...|                   0|  맛집| 1156258142142906369|       @Dkd_jojo|                                  0|              null|                       null|               null|          null|               null|\n",
      "|               2019-07-30T17:39:41|                   1|    54|\"<p class=\"\"Tweet...|          실직자|      7. 어 … 근데 내가 맛집찾아...|                 0|                       맛집|1156258073503121408|       @Jonver|                  0|\n",
      "+----------------------------------+--------------------+------+--------------------+----------------+-----------------------------------+------------------+---------------------------+-------------------+--------------+-------------------+\n",
      "only showing top 20 rows\n",
      "\n"
     ]
    }
   ],
   "source": [
    "sample.show()"
   ]
  }
 ],
 "metadata": {
  "kernelspec": {
   "display_name": "Python 3",
   "language": "python",
   "name": "python3"
  },
  "language_info": {
   "codemirror_mode": {
    "name": "ipython",
    "version": 3
   },
   "file_extension": ".py",
   "mimetype": "text/x-python",
   "name": "python",
   "nbconvert_exporter": "python",
   "pygments_lexer": "ipython3",
   "version": "3.6.10"
  }
 },
 "nbformat": 4,
 "nbformat_minor": 4
}
