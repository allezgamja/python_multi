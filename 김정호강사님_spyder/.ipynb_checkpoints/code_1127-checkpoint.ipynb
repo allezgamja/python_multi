{
 "cells": [
  {
   "cell_type": "code",
   "execution_count": 16,
   "metadata": {},
   "outputs": [],
   "source": [
    "import random as rnd"
   ]
  },
  {
   "cell_type": "code",
   "execution_count": 29,
   "metadata": {},
   "outputs": [],
   "source": [
    "def dash_insert(n):\n",
    "    for i in range(n):\n",
    "        temp = rnd.randint(10000000,99999999)\n",
    "        number = str(temp)\n",
    "        check = [number[0]]\n",
    "\n",
    "        for idx in range(1,len(number)):\n",
    "            check.append(number[idx])\n",
    "            size = len(check)-1\n",
    "            num1 = int(number[idx-1])\n",
    "            num2 = int(number[idx])\n",
    "            if (num1+num2)%2==0 and (num1*num2)%2==1 :\n",
    "                check.insert(size,\"-\")\n",
    "            elif (num1+num2)%2==0 and (num1*num2)%2==0:\n",
    "                check.insert(size,\"*\")\n",
    "                pass\n",
    "            pass\n",
    "\n",
    "        print(''.join(check))\n",
    "        pass\n",
    "    pass\n",
    "\n",
    "    \n"
   ]
  },
  {
   "cell_type": "code",
   "execution_count": 33,
   "metadata": {},
   "outputs": [
    {
     "name": "stdout",
     "output_type": "stream",
     "text": [
      "63-92*8547\n"
     ]
    }
   ],
   "source": [
    "dash_insert(1)"
   ]
  },
  {
   "cell_type": "code",
   "execution_count": null,
   "metadata": {},
   "outputs": [],
   "source": []
  }
 ],
 "metadata": {
  "kernelspec": {
   "display_name": "Python 3",
   "language": "python",
   "name": "python3"
  },
  "language_info": {
   "codemirror_mode": {
    "name": "ipython",
    "version": 3
   },
   "file_extension": ".py",
   "mimetype": "text/x-python",
   "name": "python",
   "nbconvert_exporter": "python",
   "pygments_lexer": "ipython3",
   "version": "3.7.4"
  }
 },
 "nbformat": 4,
 "nbformat_minor": 2
}
