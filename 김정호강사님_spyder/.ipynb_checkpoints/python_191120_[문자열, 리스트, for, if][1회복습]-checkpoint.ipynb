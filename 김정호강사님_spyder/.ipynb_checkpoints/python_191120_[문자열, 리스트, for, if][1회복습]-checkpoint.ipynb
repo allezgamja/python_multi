{
 "cells": [
  {
   "cell_type": "code",
   "execution_count": null,
   "metadata": {},
   "outputs": [],
   "source": []
  },
  {
   "cell_type": "code",
   "execution_count": 1,
   "metadata": {},
   "outputs": [
    {
     "name": "stdout",
     "output_type": "stream",
     "text": [
      "990001,addx,17,29,16,49,43,154,C,A,C\n"
     ]
    }
   ],
   "source": [
    "line = '990001,addx,17,29,16,49,43,154,C,A,C'\n",
    "print(line)"
   ]
  },
  {
   "cell_type": "code",
   "execution_count": null,
   "metadata": {},
   "outputs": [],
   "source": []
  },
  {
   "cell_type": "code",
   "execution_count": 3,
   "metadata": {},
   "outputs": [
    {
     "data": {
      "text/plain": [
       "['990001', 'addx', '17', '29', '16', '49', '43', '154', 'C', 'A', 'C']"
      ]
     },
     "execution_count": 3,
     "metadata": {},
     "output_type": "execute_result"
    }
   ],
   "source": [
    "data = line.split(\",\")   # list 형태로 리턴\n",
    "data"
   ]
  },
  {
   "cell_type": "code",
   "execution_count": null,
   "metadata": {},
   "outputs": [],
   "source": []
  },
  {
   "cell_type": "code",
   "execution_count": null,
   "metadata": {},
   "outputs": [],
   "source": []
  },
  {
   "cell_type": "code",
   "execution_count": null,
   "metadata": {},
   "outputs": [],
   "source": [
    "data[2] = int(data[2])\n",
    "data[2]"
   ]
  },
  {
   "cell_type": "code",
   "execution_count": null,
   "metadata": {},
   "outputs": [],
   "source": [
    "for i in range(3,8):\n",
    "    data[i] = int(data[i])\n",
    "    print(data[i])"
   ]
  },
  {
   "cell_type": "code",
   "execution_count": null,
   "metadata": {},
   "outputs": [],
   "source": [
    "type(data)      # list\n",
    "type(data[2])   # int"
   ]
  },
  {
   "cell_type": "code",
   "execution_count": null,
   "metadata": {},
   "outputs": [],
   "source": [
    "for ele in data:\n",
    "    print(ele)"
   ]
  },
  {
   "cell_type": "code",
   "execution_count": 9,
   "metadata": {},
   "outputs": [],
   "source": [
    "m_list = [1,2,3,4,5]"
   ]
  },
  {
   "cell_type": "code",
   "execution_count": 10,
   "metadata": {},
   "outputs": [
    {
     "data": {
      "text/plain": [
       "1"
      ]
     },
     "execution_count": 10,
     "metadata": {},
     "output_type": "execute_result"
    }
   ],
   "source": [
    "m_list[0]"
   ]
  },
  {
   "cell_type": "code",
   "execution_count": 11,
   "metadata": {},
   "outputs": [
    {
     "data": {
      "text/plain": [
       "[1, 2, 3, 4, 50]"
      ]
     },
     "execution_count": 11,
     "metadata": {},
     "output_type": "execute_result"
    }
   ],
   "source": [
    "m_list[4] = 50\n",
    "m_list"
   ]
  },
  {
   "cell_type": "code",
   "execution_count": null,
   "metadata": {},
   "outputs": [],
   "source": [
    "m_list.append(6)     # 새로운 원소 추가\n",
    "m_list"
   ]
  },
  {
   "cell_type": "code",
   "execution_count": null,
   "metadata": {},
   "outputs": [],
   "source": [
    "del m_list[1]\n",
    "m_list"
   ]
  },
  {
   "cell_type": "code",
   "execution_count": null,
   "metadata": {},
   "outputs": [],
   "source": [
    "m_list.remove(1)    # 만약에 1이라는 값이 여러 개면 제일 앞의 1을 하나 지워준다.\n",
    "m_list"
   ]
  },
  {
   "cell_type": "code",
   "execution_count": null,
   "metadata": {},
   "outputs": [],
   "source": [
    "my_list = []\n",
    "my_list.append(10)"
   ]
  },
  {
   "cell_type": "code",
   "execution_count": null,
   "metadata": {},
   "outputs": [],
   "source": [
    "my_list"
   ]
  },
  {
   "cell_type": "code",
   "execution_count": null,
   "metadata": {},
   "outputs": [],
   "source": [
    "### 리스트 정렬하기\n",
    "# a = [23,87,1,92,34,54,20,19,3,90]를 내림차순으로 정렬\n",
    "# a는 원소 10개\n",
    "# (1,2) (1,3)...(1,10) 각각 비교하여 큰 값이 a[0]\n",
    "# (2,3) (2,4)...(2,10) //  a[1]\n",
    "\n",
    "\n",
    "a = [23,87,1,92,34,54,20,19,3,90]\n",
    "print(a)\n",
    "for ele in a:\n",
    "    print(ele)\n",
    "len(a)\n",
    "\n",
    "for i in range(len(a)-1):\n",
    "    for j in range(i+1, len(a)):\n",
    "        if a[i] < a[j]:\n",
    "            temp = a[i]\n",
    "            a[i] = a[j]\n",
    "            a[j] = temp\n",
    "        pass\n",
    "print(a)"
   ]
  },
  {
   "cell_type": "code",
   "execution_count": 1,
   "metadata": {
    "scrolled": false
   },
   "outputs": [
    {
     "name": "stdout",
     "output_type": "stream",
     "text": [
      "1\n"
     ]
    }
   ],
   "source": [
    "import random as rnd\n",
    "r = rnd.randint(1,3)    # 1,2,3중 3까지 나온다.\n",
    "print(r)"
   ]
  },
  {
   "cell_type": "code",
   "execution_count": 3,
   "metadata": {},
   "outputs": [
    {
     "name": "stdout",
     "output_type": "stream",
     "text": [
      "1 1 1 1 2 1 1 1 1 1 "
     ]
    }
   ],
   "source": [
    "for i in range(10):\n",
    "    r2 = rnd.randrange(1,3)  # 1,2,3 중 3이 안 나온다.\n",
    "    print(r2,end=' ')\n",
    "    pass"
   ]
  },
  {
   "cell_type": "code",
   "execution_count": 6,
   "metadata": {},
   "outputs": [
    {
     "data": {
      "text/plain": [
       "[81, 23, 37, 77, 69, 86, 9, 69, 96, 49]"
      ]
     },
     "execution_count": 6,
     "metadata": {},
     "output_type": "execute_result"
    }
   ],
   "source": [
    "list_b = []\n",
    "for i in range(10):\n",
    "    r2 = rnd.randrange(100)  \n",
    "#     print(r2,end=' ')\n",
    "    list_b.append(r2)      # 실행값을 리스트로\n",
    "    pass\n",
    "list_b\n"
   ]
  },
  {
   "cell_type": "code",
   "execution_count": 7,
   "metadata": {},
   "outputs": [
    {
     "data": {
      "text/plain": [
       "[64, 80, 15, 52, 93, 66, 43, 45, 49, 6]"
      ]
     },
     "execution_count": 7,
     "metadata": {},
     "output_type": "execute_result"
    }
   ],
   "source": [
    "### 1~100 중 10개의 임의의 수를 리스트에 저장하여 출력(중복없음)\n",
    "\n",
    "list_b = []\n",
    "while True:        # 몇 번 반복할지 모르므로 for가 아닌 while\n",
    "    r2 = rnd.randrange(100)\n",
    "    if r2 not in list_b:\n",
    "        list_b.append(r2)\n",
    "    if len(list_b) == 10:\n",
    "        break\n",
    "    pass\n",
    "list_b\n"
   ]
  },
  {
   "cell_type": "markdown",
   "metadata": {},
   "source": [
    "### List\n",
    "https://wikidocs.net/14 참고\n",
    "- 리스트명 = [요소1, 요소2, 요소3, ...]\n",
    "- 생김새\n",
    " - a = []   /  a = list()\n",
    " - b = [1, 2, 3]\n",
    " - c = ['Life', 'is', 'too', 'short']\n",
    " - d = [1, 2, 'Life', 'is']\n",
    " - e = [1, 2, ['Life', 'is']]\n"
   ]
  },
  {
   "cell_type": "code",
   "execution_count": 8,
   "metadata": {},
   "outputs": [],
   "source": [
    "a = [1,2,3]\n",
    "str(a[2]) + \"hi\"   # str은 정수나 실수를 문자열로 바꿔준다.\n",
    "del a[1] # a의 첫번째 원소 삭제"
   ]
  },
  {
   "cell_type": "code",
   "execution_count": 9,
   "metadata": {},
   "outputs": [
    {
     "name": "stdout",
     "output_type": "stream",
     "text": [
      "h\te\tl\tl\to\t"
     ]
    }
   ],
   "source": [
    "msg = 'hello'\n",
    "number = '123456'\n",
    "for letter in msg:\n",
    "    print(letter, end='\\t')"
   ]
  },
  {
   "cell_type": "code",
   "execution_count": null,
   "metadata": {},
   "outputs": [],
   "source": [
    "### 1000~9999 사이의 임의의 수 한 개를 출력하시오\n",
    "hidden = rnd.randrange(1000,10000)  \n",
    "print(hidden)\n"
   ]
  },
  {
   "cell_type": "code",
   "execution_count": 2,
   "metadata": {},
   "outputs": [
    {
     "name": "stdout",
     "output_type": "stream",
     "text": [
      "please input numbers >>> 6\n",
      "16\n"
     ]
    }
   ],
   "source": [
    "b = input('please input numbers >>> ')\n",
    "print(int(b)+10)"
   ]
  },
  {
   "cell_type": "code",
   "execution_count": 4,
   "metadata": {},
   "outputs": [
    {
     "name": "stdout",
     "output_type": "stream",
     "text": [
      "숫자를 입력하세요 >>> 4\n",
      "small\n",
      "숫자를 입력하세요 >>> 60\n",
      "correct\n"
     ]
    }
   ],
   "source": [
    "## 숫자맞추기. 10~99 사이의 hidden 숫자를 만들어서 감춘 후\n",
    "## 사용자가 예상한 숫자를 입력하면 크다, 작다를 피드백하여 숨겨진 숫자 맞추는 게임\n",
    "\n",
    "hidden = rnd.randrange(10,100)\n",
    "while True:\n",
    "    temp = input('숫자를 입력하세요 >>> ')\n",
    "    try_number = int(temp)\n",
    "    if(try_number==hidden):\n",
    "        print('correct')\n",
    "        break\n",
    "    elif(try_number>hidden):\n",
    "        print('large')\n",
    "    else:\n",
    "        print('small')\n",
    "        pass"
   ]
  },
  {
   "cell_type": "code",
   "execution_count": 5,
   "metadata": {},
   "outputs": [],
   "source": [
    "## 함수만들기\n",
    "def plus(a,b):          #def 함수명(인자1,인자2)\n",
    "    c = a + b\n",
    "    return c"
   ]
  },
  {
   "cell_type": "code",
   "execution_count": 6,
   "metadata": {},
   "outputs": [
    {
     "data": {
      "text/plain": [
       "30"
      ]
     },
     "execution_count": 6,
     "metadata": {},
     "output_type": "execute_result"
    }
   ],
   "source": [
    "plus(10,20)"
   ]
  },
  {
   "cell_type": "code",
   "execution_count": 9,
   "metadata": {},
   "outputs": [],
   "source": [
    "def plus2(a,b=20,c=30):\n",
    "    return a+b+c"
   ]
  },
  {
   "cell_type": "code",
   "execution_count": 10,
   "metadata": {},
   "outputs": [
    {
     "data": {
      "text/plain": [
       "70"
      ]
     },
     "execution_count": 10,
     "metadata": {},
     "output_type": "execute_result"
    }
   ],
   "source": [
    "plus2(20)  # a에 20이 들어감"
   ]
  },
  {
   "cell_type": "code",
   "execution_count": 11,
   "metadata": {},
   "outputs": [
    {
     "data": {
      "text/plain": [
       "100"
      ]
     },
     "execution_count": 11,
     "metadata": {},
     "output_type": "execute_result"
    }
   ],
   "source": [
    "plus2(20,50)  # a,b의 값이 20, 50으로 지정됨 c로 하고싶으면 c=50"
   ]
  },
  {
   "cell_type": "code",
   "execution_count": 20,
   "metadata": {},
   "outputs": [],
   "source": [
    "# calendar 함수 만들기\n",
    "def view_month(m,s,ld):\n",
    "    month = m\n",
    "    space = s\n",
    "    last_day = ld\n",
    "    print('\\t\\t\\t2019년 {}월\\n'.format(month))\n",
    "    print('일\\t월\\t화\\t수\\t목\\t금\\t토')\n",
    "    for i in range(space):\n",
    "        print('\\t',end='')\n",
    "        pass\n",
    "\n",
    "    for i in range(1,last_day+1):\n",
    "        print('{}\\t'.format(i),end='')\n",
    "        if (i+space) % 7 == 0:\n",
    "            print()\n"
   ]
  },
  {
   "cell_type": "code",
   "execution_count": 22,
   "metadata": {},
   "outputs": [
    {
     "name": "stdout",
     "output_type": "stream",
     "text": [
      "\t\t\t2019년 10월\n",
      "\n",
      "일\t월\t화\t수\t목\t금\t토\n",
      "\t\t\t\t\t1\t2\t\n",
      "3\t4\t5\t6\t7\t8\t9\t\n",
      "10\t11\t12\t13\t14\t15\t16\t\n",
      "17\t18\t19\t20\t21\t22\t23\t\n",
      "24\t25\t26\t27\t28\t29\t30\t\n"
     ]
    }
   ],
   "source": [
    "view_month(10,5,30)"
   ]
  },
  {
   "cell_type": "code",
   "execution_count": 23,
   "metadata": {},
   "outputs": [],
   "source": [
    "# month만 넣으면 space와 last_day도 알아서 나오도록 만들기\n",
    "def view_month_v2(m):\n",
    "    month = m\n",
    "    spaces = [2,5,5,1,3,6,1,4,0,2,5,0]\n",
    "    last_days = [31,28,31,30,31,30,31,31,30,31,30,31]\n",
    "    space = spaces[m-1]\n",
    "    last_day = last_days[m-1]\n",
    "    print('\\t\\t\\t2019년 {}월\\n'.format(month))\n",
    "    print('일\\t월\\t화\\t수\\t목\\t금\\t토')\n",
    "    for i in range(space):\n",
    "        print('\\t',end='')\n",
    "        pass\n",
    "\n",
    "    for i in range(1,last_day+1):\n",
    "        print('{}\\t'.format(i),end='')\n",
    "        if (i+space) % 7 == 0:\n",
    "            print()\n",
    "            pass\n",
    "        pass\n",
    "    pass"
   ]
  },
  {
   "cell_type": "code",
   "execution_count": 24,
   "metadata": {},
   "outputs": [
    {
     "name": "stdout",
     "output_type": "stream",
     "text": [
      "원하는 월을 입력하세요 >>> 3\n",
      "\t\t\t2019년 3월\n",
      "\n",
      "일\t월\t화\t수\t목\t금\t토\n",
      "\t\t\t\t\t1\t2\t\n",
      "3\t4\t5\t6\t7\t8\t9\t\n",
      "10\t11\t12\t13\t14\t15\t16\t\n",
      "17\t18\t19\t20\t21\t22\t23\t\n",
      "24\t25\t26\t27\t28\t29\t30\t\n",
      "31\t"
     ]
    }
   ],
   "source": [
    "mon = input('원하는 월을 입력하세요 >>> ')\n",
    "view_month_v2(int(mon))"
   ]
  },
  {
   "cell_type": "code",
   "execution_count": null,
   "metadata": {},
   "outputs": [],
   "source": [
    "### 구구단 함수\n",
    "def gugudan(n,m):\n",
    "    # n>=m 경우를 방지하는 코드 작성\n",
    "    # 같을 경우는 뒤의 것을 +1\n",
    "    # 앞의 것이 클 경우 뒤의 것과 교환\n",
    "    if n == m:\n",
    "        pass\n",
    "    elif n > m:\n",
    "        temp = n\n",
    "        n = m\n",
    "        m = temp\n",
    "    start = n\n",
    "    end = m\n",
    "    for dan in range(start,end):\n",
    "        for i in range(1,10):\n",
    "            print(\"{}X{}={}\".format(dan,i,i*dan))\n",
    "            pass\n",
    "        print()\n",
    "        pass\n",
    "    pass\n",
    "\n",
    "# def view_month(m,s,ld):\n",
    "#     month = m\n",
    "#     space = s\n",
    "#     last_day = ld\n",
    "#     print('\\t\\t\\t2019년 {}월\\n'.format(month))\n",
    "#     for i in range(1,last_day+1):\n",
    "#         print('{}\\t'.format(i),end='')"
   ]
  },
  {
   "cell_type": "code",
   "execution_count": null,
   "metadata": {},
   "outputs": [],
   "source": [
    "gugudan(1,2)"
   ]
  },
  {
   "cell_type": "code",
   "execution_count": null,
   "metadata": {},
   "outputs": [],
   "source": [
    "### 소수판별 함수"
   ]
  },
  {
   "cell_type": "code",
   "execution_count": null,
   "metadata": {},
   "outputs": [],
   "source": [
    "def"
   ]
  },
  {
   "cell_type": "code",
   "execution_count": null,
   "metadata": {},
   "outputs": [],
   "source": []
  },
  {
   "cell_type": "code",
   "execution_count": null,
   "metadata": {},
   "outputs": [],
   "source": []
  },
  {
   "cell_type": "code",
   "execution_count": null,
   "metadata": {},
   "outputs": [],
   "source": []
  },
  {
   "cell_type": "code",
   "execution_count": null,
   "metadata": {},
   "outputs": [],
   "source": []
  },
  {
   "cell_type": "code",
   "execution_count": null,
   "metadata": {},
   "outputs": [],
   "source": []
  },
  {
   "cell_type": "code",
   "execution_count": null,
   "metadata": {},
   "outputs": [],
   "source": [
    "### 윤년판별 함수 ???????????????????"
   ]
  },
  {
   "cell_type": "code",
   "execution_count": 1,
   "metadata": {},
   "outputs": [
    {
     "ename": "SyntaxError",
     "evalue": "invalid syntax (<ipython-input-1-2b3eda2c2e0f>, line 1)",
     "output_type": "error",
     "traceback": [
      "\u001b[1;36m  File \u001b[1;32m\"<ipython-input-1-2b3eda2c2e0f>\"\u001b[1;36m, line \u001b[1;32m1\u001b[0m\n\u001b[1;33m    def is_leap_year(year1, year2)\u001b[0m\n\u001b[1;37m                                  ^\u001b[0m\n\u001b[1;31mSyntaxError\u001b[0m\u001b[1;31m:\u001b[0m invalid syntax\n"
     ]
    }
   ],
   "source": [
    "def is_leap_year(year1, year2):\n",
    "    for i in range(year1,year2):\n",
    "        year = i\n",
    "        if year%400 == 0 or (year%4==0 and year%100!=0):\n",
    "            print('{} is leap year'.format(year))"
   ]
  },
  {
   "cell_type": "code",
   "execution_count": null,
   "metadata": {},
   "outputs": [],
   "source": [
    "is_leap_year(2020,2021)"
   ]
  },
  {
   "cell_type": "code",
   "execution_count": null,
   "metadata": {},
   "outputs": [],
   "source": []
  },
  {
   "cell_type": "code",
   "execution_count": 45,
   "metadata": {},
   "outputs": [],
   "source": [
    "### 피보나치 수열 함수\n",
    "def pibonachi(n):\n",
    "    a = 0\n",
    "    b = 1\n",
    "    for i in range(n):\n",
    "        p = a + b \n",
    "        if p == 1:\n",
    "            print(a,b,end=' ')\n",
    "        print(p, end=' ')\n",
    "        a = b\n",
    "        b = p\n",
    "        pass\n",
    "    "
   ]
  },
  {
   "cell_type": "code",
   "execution_count": 46,
   "metadata": {},
   "outputs": [
    {
     "name": "stdout",
     "output_type": "stream",
     "text": [
      "0 1 1 2 3 5 8 13 21 34 55 89 144 233 377 610 987 1597 2584 4181 6765 10946 "
     ]
    }
   ],
   "source": [
    "pibonachi(20)"
   ]
  },
  {
   "cell_type": "code",
   "execution_count": 51,
   "metadata": {},
   "outputs": [],
   "source": [
    "### n번째의 피보나치 수를 알고싶다?\n",
    "def pibonachi_v2(n):\n",
    "    a = 0\n",
    "    b = 1\n",
    "    for i in range(n):\n",
    "        p = a + b \n",
    "#         if p == 1:\n",
    "#             print(a,b,end=' ')\n",
    "#         print(p, end=' ')\n",
    "        a = b\n",
    "        b = p\n",
    "        pass\n",
    "    return p"
   ]
  },
  {
   "cell_type": "code",
   "execution_count": 52,
   "metadata": {},
   "outputs": [
    {
     "data": {
      "text/plain": [
       "17711"
      ]
     },
     "execution_count": 52,
     "metadata": {},
     "output_type": "execute_result"
    }
   ],
   "source": [
    "pibonachi_v2(21)"
   ]
  },
  {
   "cell_type": "code",
   "execution_count": 59,
   "metadata": {},
   "outputs": [
    {
     "name": "stdout",
     "output_type": "stream",
     "text": [
      "[23, 87, 1, 92, 34, 54, 20, 19, 3, 90]\n"
     ]
    }
   ],
   "source": [
    "### 내림차순 정렬 함수 ??????\n",
    "\n",
    "a = [23,87,1,92,34,54,20,19,3,90]\n",
    "\n",
    "def my_sort(x):\n",
    "    a = x\n",
    "    for i in range(len(a)-1):\n",
    "        for j in range(i+1, len(a)):\n",
    "            if a[i] < a[j]:\n",
    "                temp = a[i]\n",
    "                a[i] = a[j]\n",
    "                a[j] = temp\n",
    "            pass\n",
    "print(a)"
   ]
  },
  {
   "cell_type": "code",
   "execution_count": null,
   "metadata": {},
   "outputs": [],
   "source": []
  },
  {
   "cell_type": "code",
   "execution_count": null,
   "metadata": {},
   "outputs": [],
   "source": []
  },
  {
   "cell_type": "code",
   "execution_count": null,
   "metadata": {},
   "outputs": [],
   "source": []
  },
  {
   "cell_type": "code",
   "execution_count": null,
   "metadata": {},
   "outputs": [],
   "source": []
  },
  {
   "cell_type": "code",
   "execution_count": null,
   "metadata": {},
   "outputs": [],
   "source": []
  }
 ],
 "metadata": {
  "kernelspec": {
   "display_name": "Python 3",
   "language": "python",
   "name": "python3"
  },
  "language_info": {
   "codemirror_mode": {
    "name": "ipython",
    "version": 3
   },
   "file_extension": ".py",
   "mimetype": "text/x-python",
   "name": "python",
   "nbconvert_exporter": "python",
   "pygments_lexer": "ipython3",
   "version": "3.7.4"
  }
 },
 "nbformat": 4,
 "nbformat_minor": 2
}
