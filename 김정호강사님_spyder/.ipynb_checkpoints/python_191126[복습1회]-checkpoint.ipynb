{
 "cells": [
  {
   "cell_type": "markdown",
   "metadata": {},
   "source": [
    "# 복습문제"
   ]
  },
  {
   "attachments": {
    "image.png": {
     "image/png": "[encoded data removed]"
    }
   },
   "cell_type": "markdown",
   "metadata": {},
   "source": [
    "![image.png](attachment:image.png)"
   ]
  },
  {
   "cell_type": "code",
   "execution_count": 71,
   "metadata": {},
   "outputs": [],
   "source": [
    "\n",
    "ele = ['o','o','o','o','o']\n",
    "cords = []\n",
    "\n",
    "for i in range(5):\n",
    "    cords.append(ele)\n",
    "    pass\n",
    "cords\n",
    "\n",
    "def print_cord(a_list):\n",
    "    for i in a_list:\n",
    "        for j in i:\n",
    "            print(j, end=' ')\n",
    "        print()\n",
    "        pass"
   ]
  },
  {
   "cell_type": "code",
   "execution_count": 72,
   "metadata": {
    "scrolled": true
   },
   "outputs": [
    {
     "name": "stdout",
     "output_type": "stream",
     "text": [
      "o o o o o \n",
      "o o o o o \n",
      "o o o o o \n",
      "o o o o o \n",
      "o o o o o \n"
     ]
    }
   ],
   "source": [
    "print_cord(cords)"
   ]
  },
  {
   "cell_type": "code",
   "execution_count": 73,
   "metadata": {},
   "outputs": [
    {
     "name": "stdout",
     "output_type": "stream",
     "text": [
      "o x o o o \n",
      "o x o o o \n",
      "o x o o o \n",
      "o x o o o \n",
      "o x o o o \n"
     ]
    }
   ],
   "source": [
    "cords[1][1] = 'x'\n",
    "print_cord(cords)"
   ]
  },
  {
   "cell_type": "code",
   "execution_count": 77,
   "metadata": {},
   "outputs": [
    {
     "name": "stdout",
     "output_type": "stream",
     "text": [
      "o o o o o \n",
      "o x x x o \n",
      "o o o x o \n",
      "o o o x o \n",
      "o o o o o \n"
     ]
    }
   ],
   "source": [
    "ele = ['o','o','o','o','o']\n",
    "cords = []\n",
    "\n",
    "for i in range(5):\n",
    "    cords.append(ele.copy())\n",
    "    pass\n",
    "cords\n",
    "\n",
    "def print_cord(a_list):\n",
    "    for i in a_list:\n",
    "        for j in i:\n",
    "            print(j, end=' ')\n",
    "        print()\n",
    "        pass\n",
    "    \n",
    "cords[1][1] = 'x'\n",
    "cords[1][2] = 'x'\n",
    "cords[1][3] = 'x'\n",
    "cords[2][3] = 'x'\n",
    "cords[3][3] = 'x'\n",
    "print_cord(cords)"
   ]
  },
  {
   "cell_type": "code",
   "execution_count": 78,
   "metadata": {},
   "outputs": [
    {
     "name": "stdout",
     "output_type": "stream",
     "text": [
      "x o o o o \n",
      "o x x x o \n",
      "o o x x o \n",
      "o o o x o \n",
      "o o o o x \n"
     ]
    }
   ],
   "source": [
    "cords[0][0] = 'x'\n",
    "cords[2][2] = 'x'\n",
    "cords[4][4] = 'x'\n",
    "print_cord(cords)"
   ]
  },
  {
   "cell_type": "code",
   "execution_count": 79,
   "metadata": {},
   "outputs": [
    {
     "name": "stdout",
     "output_type": "stream",
     "text": [
      "0\n",
      "1\n",
      "2\n",
      "3\n",
      "4\n",
      "5\n",
      "6\n",
      "7\n",
      "8\n",
      "9\n",
      "10\n"
     ]
    }
   ],
   "source": [
    "# 코드 수정하기\n",
    "\n",
    "flag = False\n",
    "count = 0\n",
    "while flag:     # 동작 안하는 이유? flag가 false가 아닌 true여야 한다.\n",
    "    print(count)\n",
    "    if count==10:\n",
    "        break\n",
    "        pass\n",
    "    count = count + 1\n",
    "    pass\n",
    "\n",
    "## 작동하도록 바꾸려면?\n",
    "flag = False\n",
    "count = 0\n",
    "while not flag:     \n",
    "    print(count)\n",
    "    if count==10:\n",
    "        flag = True\n",
    "    count = count + 1  #복합대입연산자로? count += 1\n",
    "    pass\n"
   ]
  },
  {
   "cell_type": "code",
   "execution_count": 50,
   "metadata": {},
   "outputs": [
    {
     "data": {
      "text/plain": [
       "[79, 45, 9, 34, 36, 13]"
      ]
     },
     "execution_count": 50,
     "metadata": {},
     "output_type": "execute_result"
    }
   ],
   "source": [
    "# 리스트를 요소로 갖는 리스트\n",
    "# 랜덤으로 1~100 사이의 값 3개를 하나의 리스트로 하여 3개의 리스트를 만들어라\n",
    "import random\n",
    "student0 = random.sample(range(1,101),3)\n",
    "# a = [rnd.randrange(1,101) for i in range(3)]\n",
    "student1 = random.sample(range(1,101),3)\n",
    "student2 = random.sample(range(1,101),3)\n",
    "students = [student0, student1, student2]\n",
    "students\n"
   ]
  },
  {
   "cell_type": "code",
   "execution_count": 51,
   "metadata": {},
   "outputs": [
    {
     "name": "stdout",
     "output_type": "stream",
     "text": [
      "[126, 144, 63]\n"
     ]
    }
   ],
   "source": [
    "# 각 리스트의 합계, 평균\n",
    "mylist = []\n",
    "for i in range(0,3):\n",
    "    numsum = student0[i]+student1[i]+student2[i]\n",
    "    mylist.append(numsum)\n",
    "    pass\n",
    "print(mylist)\n",
    "\n",
    "# sample\n",
    "for student in students:\n",
    "    tot = sum(student)\n",
    "    avg = tot / 3\n",
    "    print(\"{}, {:.2f}\". format(tot.avg))\n",
    "    pass\n"
   ]
  },
  {
   "cell_type": "code",
   "execution_count": null,
   "metadata": {},
   "outputs": [],
   "source": [
    "# 각 리스트의 평균(소수점 두자리)\n",
    "mylist2 = []\n",
    "for i in range(0,3):\n",
    "    average = mean(student0[i]+student1[i]+student2[i]\n",
    "    mylist.append(numsum)\n",
    "    pass\n",
    "print(mylist)"
   ]
  },
  {
   "cell_type": "code",
   "execution_count": 89,
   "metadata": {},
   "outputs": [
    {
     "data": {
      "text/plain": [
       "[['kim', 79, 45, 9], ['lee', 34, 36, 13], ['park', 13, 63, 41]]"
      ]
     },
     "execution_count": 89,
     "metadata": {},
     "output_type": "execute_result"
    }
   ],
   "source": [
    "# 각 리스트의 0번째 위치에 \"kim\",\"lee\",\"park\" 이름을 추가하시오\n",
    "students[0].insert(0,'kim')\n",
    "students[1].insert(0,'lee')\n",
    "students[2].insert(0,'park')\n",
    "students"
   ]
  },
  {
   "cell_type": "code",
   "execution_count": null,
   "metadata": {},
   "outputs": [],
   "source": [
    "# 각 리스트의 요소값을 한 줄에 출력하시오\n",
    "for student in students:\n",
    "    print(\"{} {} {} {}\".format(student[0],student[1],student[2],student[3]))"
   ]
  },
  {
   "cell_type": "code",
   "execution_count": 81,
   "metadata": {},
   "outputs": [],
   "source": [
    "# 함수내용을 삼항연산자로 바꾸시오\n",
    "def max_value(a,b):\n",
    "    max_v = a if a>b else b\n",
    "    return max_v"
   ]
  },
  {
   "cell_type": "code",
   "execution_count": 82,
   "metadata": {},
   "outputs": [
    {
     "data": {
      "text/plain": [
       "20"
      ]
     },
     "execution_count": 82,
     "metadata": {},
     "output_type": "execute_result"
    }
   ],
   "source": [
    "m_max = max_value(10,20)\n",
    "m_max"
   ]
  },
  {
   "attachments": {
    "image.png": {
     "image/png": "[encoded data removed]"
    }
   },
   "cell_type": "markdown",
   "metadata": {},
   "source": [
    "![image.png](attachment:image.png)"
   ]
  },
  {
   "cell_type": "code",
   "execution_count": 93,
   "metadata": {},
   "outputs": [],
   "source": [
    "file = open('./data/Abc1115.txt')\n",
    "lines = file.readlines()\n",
    "file.close()"
   ]
  },
  {
   "cell_type": "code",
   "execution_count": 98,
   "metadata": {},
   "outputs": [
    {
     "data": {
      "text/plain": [
       "['990001addx 17 29 16 49 43154CAC\\n',\n",
       " '990002stch 30  9 48 25 81193CAA\\n',\n",
       " '990003gali 93 60  6 84 36279ACA\\n',\n",
       " '990004miat 73 22 48 24 72239BCC\\n',\n",
       " '990005oran 33 38 59 58 28216CBA\\n']"
      ]
     },
     "execution_count": 98,
     "metadata": {},
     "output_type": "execute_result"
    }
   ],
   "source": [
    "lines[0:5]"
   ]
  },
  {
   "cell_type": "code",
   "execution_count": 109,
   "metadata": {},
   "outputs": [
    {
     "name": "stdout",
     "output_type": "stream",
     "text": [
      "['991000', 'ccor', 64, 53, 22, 36, 54, 229, 'B', 'C', 'C']\n"
     ]
    }
   ],
   "source": [
    "student_data = []\n",
    "for line in lines:\n",
    "    std_no = line[0:6]\n",
    "    email = line[6:10]\n",
    "    kor = int(line[10:13])\n",
    "    eng = int(line[13:16])\n",
    "    math = int(line[16:19])\n",
    "    sci = int(line[19:22])\n",
    "    hist = int(line[22:25])\n",
    "    tot = int(line[25:28])\n",
    "    mcode = line[28:29]\n",
    "    acode = line[29:30]\n",
    "    lcode = line[30:31]\n",
    "    temp = [std_no,email,kor,eng,math,sci,hist,tot,mcode,acode,lcode]\n",
    "    student_data.append(temp)\n",
    "    pass\n",
    "\n",
    "print(temp)"
   ]
  },
  {
   "cell_type": "code",
   "execution_count": 102,
   "metadata": {
    "scrolled": true
   },
   "outputs": [
    {
     "data": {
      "text/plain": [
       "['990001addx 17 29 16 49 43154CAC\\n',\n",
       " '990002stch 30  9 48 25 81193CAA\\n',\n",
       " '990003gali 93 60  6 84 36279ACA\\n',\n",
       " '990004miat 73 22 48 24 72239BCC\\n',\n",
       " '990005oran 33 38 59 58 28216CBA\\n',\n",
       " '990006sj24 27 65 54 77 33256BAA\\n']"
      ]
     },
     "execution_count": 102,
     "metadata": {},
     "output_type": "execute_result"
    }
   ],
   "source": [
    "std_no"
   ]
  },
  {
   "cell_type": "code",
   "execution_count": 110,
   "metadata": {},
   "outputs": [
    {
     "data": {
      "text/plain": [
       "[['990001', 'addx', 17, 29, 16, 49, 43, 154, 'C', 'A', 'C'],\n",
       " ['990002', 'stch', 30, 9, 48, 25, 81, 193, 'C', 'A', 'A'],\n",
       " ['990003', 'gali', 93, 60, 6, 84, 36, 279, 'A', 'C', 'A'],\n",
       " ['990004', 'miat', 73, 22, 48, 24, 72, 239, 'B', 'C', 'C'],\n",
       " ['990005', 'oran', 33, 38, 59, 58, 28, 216, 'C', 'B', 'A']]"
      ]
     },
     "execution_count": 110,
     "metadata": {},
     "output_type": "execute_result"
    }
   ],
   "source": [
    "student_data[0:5]"
   ]
  },
  {
   "cell_type": "code",
   "execution_count": null,
   "metadata": {},
   "outputs": [],
   "source": []
  },
  {
   "cell_type": "code",
   "execution_count": null,
   "metadata": {},
   "outputs": [],
   "source": [
    "# 소문자 a~z까지 출력하시오\n",
    "for 이용\n",
    "while 이용"
   ]
  },
  {
   "cell_type": "code",
   "execution_count": 87,
   "metadata": {},
   "outputs": [],
   "source": [
    "# 빈 리스트, 튜플, 딕셔너리, 세트를 만드시오\n",
    "a = []\n",
    "b = ()\n",
    "c = {}\n",
    "d = set([])\n",
    "\n",
    "# 각각의 값에 1 추가\n",
    "a.append(1)\n",
    "# b 튜플은 추가 못 한다.\n",
    "c['a'] = 1\n",
    "d.add(1)\n"
   ]
  },
  {
   "cell_type": "code",
   "execution_count": null,
   "metadata": {},
   "outputs": [],
   "source": [
    "# 파이썬에서 사용하는 기호 10개를 쓰고 사용방법을 말하시오\n",
    "[],(),{},:,=,%,//,+,/,*"
   ]
  },
  {
   "cell_type": "code",
   "execution_count": null,
   "metadata": {},
   "outputs": [],
   "source": [
    "# 파이썬에서의 키워드 10개를 쓰고 사용방법을 말하시오\n",
    "if, elif, else\n",
    "for, while\n",
    "pass\n",
    "True, False\n",
    "def, return\n",
    "break, continue\n"
   ]
  },
  {
   "cell_type": "code",
   "execution_count": null,
   "metadata": {},
   "outputs": [],
   "source": [
    "# 파이썬의 들여쓰기에 대해 3개 쓰시오\n",
    "1. 블록을 대신한다\n",
    " - 여러 줄의 문장을 하나로 묶는 역할\n",
    "2. ':'과 세트를 이루어야 한다.\n",
    "3. 계층적으로 동작\n",
    "4. 끝나는 부분이 없기 때문에 pass를 사용하거나 주의해서 작성해야 한다."
   ]
  },
  {
   "cell_type": "code",
   "execution_count": null,
   "metadata": {},
   "outputs": [],
   "source": [
    "# 파이썬의 \"{}\".format(a)에 대해 설명하시오\n",
    "- 출력 시 하드코딩 되어있지 않고 계속해서 변하는 값을 출력하기 위한 방법\n",
    "- 출력 시 보기 좋게 하는 방법\n",
    "- {}라는 위치 잡는 기호를 사용. 몇 개가 와도 관계없다.\n",
    "- 기본적으로 {}의 수 만큼 foramt의 실인수(argument)로 주면 된다.\n",
    "- 세밀하게 편집하려면 :을 {}에 쓰고 뒤쪽으로 표현방법을 쓰면 된다.\n",
    "- \"{:.2f}\".format(3.1415972)"
   ]
  },
  {
   "cell_type": "code",
   "execution_count": null,
   "metadata": {},
   "outputs": [],
   "source": []
  },
  {
   "cell_type": "markdown",
   "metadata": {},
   "source": [
    "# 클래스\n",
    "https://wikidocs.net/28\n",
    "- 클래스란 Data와 Process(함수)를 묶은 값\n",
    "- 복잡한 사람 간의 비즈니스 문제를 해결하는 데 필요하지만 대부분의 경우 필요는 없다.\n",
    "- 자신이 해야하는 일만 처리한다.\n",
    "- 실제로 사용하려면 instance가 있어야 한다."
   ]
  },
  {
   "cell_type": "code",
   "execution_count": 117,
   "metadata": {},
   "outputs": [],
   "source": [
    "class Calculator:        # class는 첫 글자 대문자, 함수는 소문자\n",
    "    def __init__(self):  # init: 생성자\n",
    "        self.result = 0  \n",
    "        pass\n",
    "    \n",
    "    def add(self,num):      # method\n",
    "        self.result += num\n",
    "        return self.result   \n",
    "    \n",
    "    def sub(self,num):\n",
    "        self.result -= num\n",
    "        return self.result\n",
    "    \n",
    "    pass\n"
   ]
  },
  {
   "cell_type": "code",
   "execution_count": 115,
   "metadata": {
    "scrolled": false
   },
   "outputs": [
    {
     "name": "stdout",
     "output_type": "stream",
     "text": [
      "3\n",
      "13\n"
     ]
    }
   ],
   "source": [
    "cal1 = Calculator()     # cal1: instance\n",
    "result = cal1.add(3)    #instance 과정: class이름() e.g.Calculator()\n",
    "result2 = cal1.add(10)  # '.'이 중요하다.\n",
    "print(result)\n",
    "print(result2)"
   ]
  },
  {
   "cell_type": "code",
   "execution_count": 116,
   "metadata": {},
   "outputs": [
    {
     "name": "stdout",
     "output_type": "stream",
     "text": [
      "10\n"
     ]
    }
   ],
   "source": [
    "cal2 = Calculator()\n",
    "result3 = cal2.add(10)   # cal1과 cal2는 다르다. 13이 아니라 10.\n",
    "print(result3)"
   ]
  },
  {
   "cell_type": "code",
   "execution_count": null,
   "metadata": {},
   "outputs": [],
   "source": [
    "cal1 = Calculator()     # cal1: instance\n",
    "result = cal1.add(3)    #instance 과정: class이름() e.g.Calculator()\n",
    "print(result)\n",
    "result = cal1.sub(10)  # '.'이 중요하다.\n",
    "pprint(result)"
   ]
  },
  {
   "cell_type": "code",
   "execution_count": 131,
   "metadata": {},
   "outputs": [],
   "source": [
    "class FourCal:\n",
    "    \n",
    "    def setdata(self,a,b):   #set은 외부에서 받아서 데이터에 집어넣는다는 의미\n",
    "        self.num1 = a       #set은 사후. instance가 생성되고 난 후 결정된 값이다.\n",
    "        self.num2 = b       # setdata와 init은 일단은 비슷한 용도로 사용\n",
    "        pass\n",
    "    \n",
    "    def add(self):\n",
    "        \n",
    "        return self.num1 + self.num2\n",
    "    \n",
    "    def mul(self):\n",
    "        \n",
    "        return self.num1 * self.num2\n",
    "\n",
    "    def sub(self):\n",
    "        \n",
    "        return self.num1 - self.num2\n",
    "    \n",
    "    def div(self):\n",
    "        \n",
    "        return self.num1 / self.num2"
   ]
  },
  {
   "cell_type": "code",
   "execution_count": 132,
   "metadata": {},
   "outputs": [],
   "source": [
    "cal1 = FourCal()\n",
    "cal1.setdata(10,20)   # 게산할 때마다 cal1 = FourCal(a,b)만들지 않도록"
   ]
  },
  {
   "cell_type": "code",
   "execution_count": 133,
   "metadata": {},
   "outputs": [
    {
     "name": "stdout",
     "output_type": "stream",
     "text": [
      "10\n",
      "20\n",
      "30\n",
      "200\n",
      "-10\n",
      "0.5\n"
     ]
    }
   ],
   "source": [
    "print(cal1.num1)\n",
    "print(cal1.num2)\n",
    "print(cal1.add())\n",
    "print(cal1.mul())\n",
    "print(cal1.sub())\n",
    "print(cal1.div())"
   ]
  },
  {
   "cell_type": "code",
   "execution_count": 141,
   "metadata": {},
   "outputs": [
    {
     "name": "stdout",
     "output_type": "stream",
     "text": [
      "[83, 28, 46] [83, 71, 21] [92, 65, 44]\n"
     ]
    }
   ],
   "source": [
    "# 세 학생의 kor, eng, math score 세 개의 정보를 저장하는 class를 만들어라\n",
    "a = random.sample(range(1,101),3)\n",
    "b = random.sample(range(1,101),3)\n",
    "c = random.sample(range(1,101),3)\n",
    "print(a,b,c)"
   ]
  },
  {
   "cell_type": "code",
   "execution_count": 178,
   "metadata": {},
   "outputs": [],
   "source": [
    "# sample\n",
    "\n",
    "class Student:\n",
    "    def __init__(self,k,e,m):\n",
    "        self.kor = k     #kor, eng, math는 instance 변수로 임의로 정한다.\n",
    "        self.eng = e\n",
    "        self.math = m\n",
    "        pass\n",
    "    \n",
    "    def get_total(self):\n",
    "        return self.kor + self.eng + self.math\n",
    "    \n",
    "    def get_avg(self):\n",
    "        tot = self.get_total()\n",
    "        return \"avg is {:.2f}\".format(tot/3)\n",
    "    \n",
    "    def __str__(self):   # 가장 기본값을 정의하고싶을때...\n",
    "        return \"kim\"\n",
    "    \n",
    "    pass\n",
    "        "
   ]
  },
  {
   "cell_type": "code",
   "execution_count": 179,
   "metadata": {},
   "outputs": [
    {
     "name": "stdout",
     "output_type": "stream",
     "text": [
      "72\n",
      "34\n",
      "149\n",
      "149\n"
     ]
    }
   ],
   "source": [
    "kim = Student(72,34,43)\n",
    "print(kim.kor)\n",
    "print(kim.eng)\n",
    "print(kim.kor+kim.eng+kim.math)\n",
    "print(kim.get_total())"
   ]
  },
  {
   "cell_type": "code",
   "execution_count": null,
   "metadata": {},
   "outputs": [],
   "source": []
  },
  {
   "cell_type": "code",
   "execution_count": 180,
   "metadata": {},
   "outputs": [
    {
     "name": "stdout",
     "output_type": "stream",
     "text": [
      "kim\n"
     ]
    }
   ],
   "source": [
    "print(kim)"
   ]
  },
  {
   "cell_type": "code",
   "execution_count": 174,
   "metadata": {},
   "outputs": [
    {
     "data": {
      "text/plain": [
       "'avg is 49.67'"
      ]
     },
     "execution_count": 174,
     "metadata": {},
     "output_type": "execute_result"
    }
   ],
   "source": [
    "kim.get_avg()"
   ]
  },
  {
   "cell_type": "code",
   "execution_count": 199,
   "metadata": {},
   "outputs": [],
   "source": [
    "# 여러가지 작업처리하는 내용들을 utils라는 클래스로 구성하고 객체생성하여 동작여부 확인하라\n",
    "\n",
    "class Utils:\n",
    "    def __init__(self,a):\n",
    "        self.a = a\n",
    "        pass\n",
    "    \n",
    "    def trueorfalse(self):\n",
    "        if a >=10:\n",
    "            return \"large\"\n",
    "        else:\n",
    "            return \"small\"\n",
    "    pass"
   ]
  },
  {
   "cell_type": "code",
   "execution_count": 205,
   "metadata": {},
   "outputs": [
    {
     "data": {
      "text/plain": [
       "<__main__.Utils at 0x232a25be548>"
      ]
     },
     "execution_count": 205,
     "metadata": {},
     "output_type": "execute_result"
    }
   ],
   "source": [
    "U = Utils(5)\n",
    "U"
   ]
  },
  {
   "cell_type": "code",
   "execution_count": null,
   "metadata": {},
   "outputs": [],
   "source": []
  },
  {
   "cell_type": "code",
   "execution_count": null,
   "metadata": {},
   "outputs": [],
   "source": []
  },
  {
   "cell_type": "markdown",
   "metadata": {},
   "source": [
    "# 예외처리\n",
    "https://wikidocs.net/30\n"
   ]
  },
  {
   "cell_type": "code",
   "execution_count": 182,
   "metadata": {},
   "outputs": [
    {
     "name": "stdout",
     "output_type": "stream",
     "text": [
      "division by zero\n"
     ]
    }
   ],
   "source": [
    "try:\n",
    "    4/0\n",
    "except ZeroDivisionError as e:\n",
    "    print(e)"
   ]
  },
  {
   "cell_type": "code",
   "execution_count": 186,
   "metadata": {},
   "outputs": [
    {
     "ename": "TypeError",
     "evalue": "'_io.TextIOWrapper' object is not subscriptable",
     "output_type": "error",
     "traceback": [
      "\u001b[1;31m---------------------------------------------------------------------------\u001b[0m",
      "\u001b[1;31mTypeError\u001b[0m                                 Traceback (most recent call last)",
      "\u001b[1;32m<ipython-input-186-9aa17f146656>\u001b[0m in \u001b[0;36m<module>\u001b[1;34m\u001b[0m\n\u001b[0;32m      1\u001b[0m \u001b[0mf\u001b[0m \u001b[1;33m=\u001b[0m \u001b[0mopen\u001b[0m\u001b[1;33m(\u001b[0m\u001b[1;34m'foo.txt'\u001b[0m\u001b[1;33m,\u001b[0m\u001b[1;34m'w'\u001b[0m\u001b[1;33m)\u001b[0m\u001b[1;33m\u001b[0m\u001b[1;33m\u001b[0m\u001b[0m\n\u001b[0;32m      2\u001b[0m \u001b[1;32mtry\u001b[0m\u001b[1;33m:\u001b[0m\u001b[1;33m\u001b[0m\u001b[1;33m\u001b[0m\u001b[0m\n\u001b[1;32m----> 3\u001b[1;33m     \u001b[0mprint\u001b[0m\u001b[1;33m(\u001b[0m\u001b[0mf\u001b[0m\u001b[1;33m[\u001b[0m\u001b[1;36m1\u001b[0m\u001b[1;33m]\u001b[0m\u001b[1;33m)\u001b[0m\u001b[1;33m\u001b[0m\u001b[1;33m\u001b[0m\u001b[0m\n\u001b[0m\u001b[0;32m      4\u001b[0m \u001b[1;32mfinally\u001b[0m\u001b[1;33m:\u001b[0m\u001b[1;33m\u001b[0m\u001b[1;33m\u001b[0m\u001b[0m\n\u001b[0;32m      5\u001b[0m     \u001b[0mf\u001b[0m\u001b[1;33m.\u001b[0m\u001b[0mclose\u001b[0m\u001b[1;33m(\u001b[0m\u001b[1;33m)\u001b[0m\u001b[1;33m\u001b[0m\u001b[1;33m\u001b[0m\u001b[0m\n",
      "\u001b[1;31mTypeError\u001b[0m: '_io.TextIOWrapper' object is not subscriptable"
     ]
    }
   ],
   "source": [
    "f = open('foo.txt','w')\n",
    "try:\n",
    "    print(f[1])\n",
    "finally:\n",
    "    f.close()"
   ]
  },
  {
   "cell_type": "code",
   "execution_count": 190,
   "metadata": {},
   "outputs": [
    {
     "name": "stdout",
     "output_type": "stream",
     "text": [
      "인덱싱 할 수 없습니다.\n"
     ]
    }
   ],
   "source": [
    "try:\n",
    "    a = [1,2]\n",
    "    print(a[3])\n",
    "    4/0\n",
    "except ZeroDivisionError:\n",
    "    print(\"0으로 나눌 수 없습니다.\")\n",
    "except IndexError:\n",
    "    print(\"인덱싱 할 수 없습니다.\")\n",
    "\n",
    "# 인덱싱 오류가 먼저 발생해서 ZeroDivisionError 오류는 발생X"
   ]
  },
  {
   "cell_type": "code",
   "execution_count": 191,
   "metadata": {},
   "outputs": [
    {
     "name": "stdout",
     "output_type": "stream",
     "text": [
      "list index out of range\n"
     ]
    }
   ],
   "source": [
    "try:\n",
    "    a = [1,2]\n",
    "    print(a[3])\n",
    "    4/0\n",
    "except ZeroDivisionError as e:\n",
    "    print(e)\n",
    "except IndexError as e:\n",
    "    print(e)"
   ]
  },
  {
   "cell_type": "code",
   "execution_count": 195,
   "metadata": {},
   "outputs": [
    {
     "name": "stdout",
     "output_type": "stream",
     "text": [
      "list index out of range\n"
     ]
    }
   ],
   "source": [
    "# 2개 이상의 오류를 동시에 처리하려면?\n",
    "try:\n",
    "    a = [1,2]\n",
    "    print(a[3])\n",
    "    4/0\n",
    "except(ZeroDivisionError,IndexError) as e:\n",
    "    print(e)"
   ]
  },
  {
   "cell_type": "code",
   "execution_count": 196,
   "metadata": {},
   "outputs": [],
   "source": [
    "# 오류 회피: 특정 오류가 발생할 경우 그냥 통과시키기\n",
    "try:\n",
    "    f = open(\"나없는파일\", 'r')\n",
    "except FileNotFoundError:\n",
    "    pass"
   ]
  },
  {
   "cell_type": "code",
   "execution_count": null,
   "metadata": {},
   "outputs": [],
   "source": []
  },
  {
   "cell_type": "code",
   "execution_count": null,
   "metadata": {},
   "outputs": [],
   "source": []
  },
  {
   "cell_type": "code",
   "execution_count": null,
   "metadata": {},
   "outputs": [],
   "source": []
  },
  {
   "cell_type": "code",
   "execution_count": null,
   "metadata": {},
   "outputs": [],
   "source": []
  },
  {
   "cell_type": "code",
   "execution_count": null,
   "metadata": {},
   "outputs": [],
   "source": []
  },
  {
   "cell_type": "code",
   "execution_count": null,
   "metadata": {},
   "outputs": [],
   "source": []
  }
 ],
 "metadata": {
  "kernelspec": {
   "display_name": "Python 3",
   "language": "python",
   "name": "python3"
  },
  "language_info": {
   "codemirror_mode": {
    "name": "ipython",
    "version": 3
   },
   "file_extension": ".py",
   "mimetype": "text/x-python",
   "name": "python",
   "nbconvert_exporter": "python",
   "pygments_lexer": "ipython3",
   "version": "3.7.4"
  }
 },
 "nbformat": 4,
 "nbformat_minor": 2
}
