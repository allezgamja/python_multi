{
 "cells": [
  {
   "cell_type": "code",
   "execution_count": null,
   "metadata": {},
   "outputs": [],
   "source": [
    "# 코드 전체를 이해하기보다는 모듈 단위로 쪼개서 메인을 먼저 찾아라\n",
    "# 함수 안에 속해있지 않으면 다 메인\n",
    "# 코드가 여러 줄인 것들은 함수로 빼놔라"
   ]
  },
  {
   "cell_type": "code",
   "execution_count": 1,
   "metadata": {},
   "outputs": [],
   "source": [
    "from sklearn import svm, metrics   # svm은 분류모형일 때 쓸 수 있다.\n",
    "import glob, os.path, re, json\n",
    "# glob=모든파일로드\n",
    "# os.path=문자열로 전달된것을 경로형식으로 전달\n",
    "# re: regular expression, 정규표현식\n",
    "# json=json형식으로 빼준다. 다음에 노트북 켜서 쓸 때도 정보가 날아가지 않고 그대로 쓸 수 있게 key, value형식으로 ..."
   ]
  },
  {
   "cell_type": "markdown",
   "metadata": {},
   "source": [
    "#### 머신러닝에 사용할 데이터 정제"
   ]
  },
  {
   "cell_type": "code",
   "execution_count": 3,
   "metadata": {},
   "outputs": [],
   "source": [
    "### 3. 텍스트의 음절 나눠서 문자비율 구하고 레이블값 지정\n",
    "def check_freq(fname):\n",
    "    with open(fname, \"r\", encoding='utf-8') as f:   # 파일을 읽어들이는 작업. 빨대꽂기\n",
    "        text = f.read()   # 텍스트 읽어들이기 한 바이트씩... 줄바꿈이 굳이 필요 없다. 어차피 음절 단위로 쪼개니까 -> 그래서 readLines아니고 read\n",
    "    text = text.lower()   # 대문자->소문자 어차피 이 프로젝트에서는 대소 구분 필요없어서\n",
    "    \n",
    "    # 숫자세기변수(cnt) 초기화하기\n",
    "    cnt = [0 for n in range(0,26)]   # 0부터 26까지를 다 0으로 바꿔서 배열에 담아라 [0, 0,......0]\n",
    "    code_a = ord(\"a\")  # ord: 아스키문자 a를 숫자형태의 데이터로   # 'a' = 97\n",
    "    code_z = ord(\"z\")  # 'z' = 122\n",
    "    \n",
    "    # 알파벳 출현횟수 구하기\n",
    "    for ch in text:\n",
    "        n = ord(ch)   # n - 97\n",
    "        if code_a <= n <= code_z:    # <= <= 사잇값. 유효한 값 사이에 있는지 확인. 이 범위에 안들면 마이너스가 되거나 초과. 여기서 구둣점이나 역슬래시 따옴표 숫자 등이 제외된다.\n",
    "            cnt[n - code_a] += 1\n",
    "        \n",
    "    # 정규화: 각 문장길이당 문자비율이 공평해야 하므로. \n",
    "    total = sum(cnt)\n",
    "    freq = list(map(lambda n : n / total, cnt))  # 행이 여러개인 벡터면 굳이 안 써도 되나, 이것은 칼럼이 여러개라 for문 돌려야한다.\n",
    "    # map은 list의 요소를 지정된 함수로 처리\n",
    "    #print(freq)\n",
    "            \n",
    "    # 레이블값(정답) 구하기 -> 파일명이 정답이다\n",
    "    name = os.path.basename(fname)   # basename은 앞의 경로 싹 빠지고 확장자명포함 파일이름만 나온다.\n",
    "    #print(name)\n",
    "    lang = re.match(r'^[a-z]{2,}', name).group()  # 한글이 써있어도 유니코드 형식으로 맵핑해달라 # a-z까지 두글자로 시작(^). match는 맞는지 안맞는지 보기. group은 잘맞는것 가져오기\n",
    "    return freq, lang    \n",
    "\n",
    "\n",
    "### 2. 해당 경로의 모든 파일을 하나하나 함수처리하고(for문) 필요한 값 리턴 \n",
    "def load_files(path):\n",
    "    freqs = []   # count 저장해놓기 위해\n",
    "    labels = []\n",
    "    file_list = glob.glob(path)  #path에 있는 파일을 다 보여달라\n",
    "    for fname in file_list:    \n",
    "        r = check_freq(fname)     # 매 파일마다 불러와서 음절단위로 쪼개야 하니 함수로 만든다.\n",
    "        freqs.append(r[0])  # [0.223,3343] 횟수를 리스트로 갖고있음. 여러개의 파일정보 2차원으로 다 가짐. 카운트횟수 저장해놓기\n",
    "        labels.append(r[1])  # 'en' 1차원의 labels 문자열 리스트. 저장을 위해.\n",
    "    return {\"freqs\": freqs, \"labels\":labels}\n",
    "\n",
    "\n",
    "### 1. main - 해당 경로의 train, text 데이터 모두 불러와서 json형식으로 저장해라\n",
    "# main을 제일 먼저 만든 후 필요한 함수는 윗줄에 추가한다.\n",
    "train = load_files('./lang/train/*.txt')   # txt만 읽을 수 있게 조정\n",
    "test = load_files('./lang/test/*.txt')\n",
    "# test['freqs']  # test는 딕셔너리 test['freqs']는 2차원 배열\n",
    "# json형식으로 만들기(매번 쓸 때마다 코드를 다시 실행할 필요 X)\n",
    "with open(\"./lang/freq.json\", \"w\", encoding=\"utf-8\") as fp:\n",
    "    json.dump([train, test], fp)   #dump는 write나 save같은 말 . json형식으로 저장해라"
   ]
  },
  {
   "cell_type": "markdown",
   "metadata": {},
   "source": [
    "#### 머신러닝 기법 활용(SVM)"
   ]
  },
  {
   "cell_type": "code",
   "execution_count": 15,
   "metadata": {
    "scrolled": true
   },
   "outputs": [
    {
     "name": "stderr",
     "output_type": "stream",
     "text": [
      "C:\\Users\\student\\Anaconda3\\lib\\site-packages\\sklearn\\svm\\base.py:193: FutureWarning: The default value of gamma will change from 'auto' to 'scale' in version 0.22 to account better for unscaled features. Set gamma explicitly to 'auto' or 'scale' to avoid this warning.\n",
      "  \"avoid this warning.\", FutureWarning)\n"
     ]
    },
    {
     "data": {
      "text/plain": [
       "SVC(C=1.0, cache_size=200, class_weight=None, coef0=0.0,\n",
       "    decision_function_shape='ovr', degree=3, gamma='auto_deprecated',\n",
       "    kernel='rbf', max_iter=-1, probability=False, random_state=None,\n",
       "    shrinking=True, tol=0.001, verbose=False)"
      ]
     },
     "execution_count": 15,
     "metadata": {},
     "output_type": "execute_result"
    }
   ],
   "source": [
    "# 학습하기\n",
    "clf = svm.SVC()    # SVC: classification 분류하는 svm 모델\n",
    "clf.fit(train[\"freqs\"], train[\"labels\"])  # regression은 SVR\n",
    "# fit은 feature하고 label 반드시 구분해서 전달\n",
    "\n",
    "# kernel='rbt' -> 가우시안\n"
   ]
  },
  {
   "cell_type": "code",
   "execution_count": 25,
   "metadata": {},
   "outputs": [],
   "source": [
    "# gamma값 바꿔서 다시 해보기"
   ]
  },
  {
   "cell_type": "code",
   "execution_count": 16,
   "metadata": {},
   "outputs": [
    {
     "data": {
      "text/plain": [
       "array(['en', 'en', 'fr', 'fr', 'en', 'id', 'tl', 'tl'], dtype='<U2')"
      ]
     },
     "execution_count": 16,
     "metadata": {},
     "output_type": "execute_result"
    }
   ],
   "source": [
    "# 예측하기\n",
    "predict = clf.predict(test[\"freqs\"])\n",
    "predict"
   ]
  },
  {
   "cell_type": "code",
   "execution_count": 17,
   "metadata": {
    "scrolled": true
   },
   "outputs": [
    {
     "name": "stdout",
     "output_type": "stream",
     "text": [
      "정답률 = 0.875\n",
      "리포트 =\n",
      "              precision    recall  f1-score   support\n",
      "\n",
      "          en       0.67      1.00      0.80         2\n",
      "          fr       1.00      1.00      1.00         2\n",
      "          id       1.00      0.50      0.67         2\n",
      "          tl       1.00      1.00      1.00         2\n",
      "\n",
      "    accuracy                           0.88         8\n",
      "   macro avg       0.92      0.88      0.87         8\n",
      "weighted avg       0.92      0.88      0.87         8\n",
      "\n"
     ]
    }
   ],
   "source": [
    "# 결과테스트하기\n",
    "ac_score = metrics.accuracy_score(test[\"labels\"],predict)\n",
    "cl_report = metrics.classification_report(test[\"labels\"],predict)\n",
    "print(\"정답률 =\", ac_score)\n",
    "print(\"리포트 =\")\n",
    "print(cl_report)\n",
    "\n",
    "# precision(예측치기준), recall(실측치기준), f1-score 기억해두기\n",
    "# 인도네시아어는 반밖에 못맞춘것....-> 데이터를 준비할때 인도네시아스러운 자료로 바꿔볼까?\n",
    "# 인도네시아로 예측하는 것은 100% 정확, but 실제데이터는 반밖에 못맞춤춤\n",
    "# f1 score는 조화평균. precision과 recall을 둘다 본다.\n",
    "\n",
    "# 제일 중요한것은 결국 accuracy score!"
   ]
  },
  {
   "cell_type": "code",
   "execution_count": null,
   "metadata": {},
   "outputs": [],
   "source": [
    "# lang-plot.py 로 그래프 출력해보기\n"
   ]
  },
  {
   "cell_type": "code",
   "execution_count": null,
   "metadata": {},
   "outputs": [],
   "source": [
    "# lang-Webapp.py 로 웹 만들기\n"
   ]
  },
  {
   "cell_type": "code",
   "execution_count": 24,
   "metadata": {},
   "outputs": [
    {
     "name": "stdout",
     "output_type": "stream",
     "text": [
      "ok\n"
     ]
    },
    {
     "name": "stderr",
     "output_type": "stream",
     "text": [
      "C:\\Users\\student\\Anaconda3\\lib\\site-packages\\sklearn\\externals\\joblib\\__init__.py:15: DeprecationWarning: sklearn.externals.joblib is deprecated in 0.21 and will be removed in 0.23. Please import this functionality directly from joblib, which can be installed with: pip install joblib. If this warning is raised when loading pickled models, you may need to re-serialize those models with scikit-learn 0.21+.\n",
      "  warnings.warn(msg, category=DeprecationWarning)\n"
     ]
    }
   ],
   "source": [
    "# lang-train-save.py\n",
    "# 각 언어의 출현 빈도데이터(JSON) 읽어들이기\n",
    "import json #json은 json형식, joblib은 pickle에 특화\n",
    "from sklearn.externals import joblib\n",
    "with open(\"./lang/freq.json\",\"r\",encoding=\"utf-8\") as fp:\n",
    "    d = json.load(fp)\n",
    "    data = d[0]\n",
    "\n",
    "# 학습데이터 저장하기\n",
    "joblib.dump(clf, \"./lang/freq.pkl\")\n",
    "print(\"ok\")"
   ]
  },
  {
   "cell_type": "code",
   "execution_count": null,
   "metadata": {},
   "outputs": [],
   "source": [
    "# 서버구동\n",
    "anaconda -> python -m http.server --cgi 8080\n",
    "\n",
    "화면에 띄우기\n",
    "http://localhost:8080/cgi-bin/lang-Webapp.py\n",
    "외국어 쓴 다음 판정 누르면 판별된다."
   ]
  },
  {
   "cell_type": "code",
   "execution_count": null,
   "metadata": {},
   "outputs": [],
   "source": []
  },
  {
   "cell_type": "code",
   "execution_count": null,
   "metadata": {},
   "outputs": [],
   "source": []
  }
 ],
 "metadata": {
  "kernelspec": {
   "display_name": "Python 3",
   "language": "python",
   "name": "python3"
  },
  "language_info": {
   "codemirror_mode": {
    "name": "ipython",
    "version": 3
   },
   "file_extension": ".py",
   "mimetype": "text/x-python",
   "name": "python",
   "nbconvert_exporter": "python",
   "pygments_lexer": "ipython3",
   "version": "3.7.4"
  }
 },
 "nbformat": 4,
 "nbformat_minor": 2
}
